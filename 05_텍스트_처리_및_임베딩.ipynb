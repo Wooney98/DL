{
  "nbformat": 4,
  "nbformat_minor": 0,
  "metadata": {
    "colab": {
      "provenance": [],
      "authorship_tag": "ABX9TyPo0XTzJj1mckS+B2KxDj96"
    },
    "kernelspec": {
      "name": "python3",
      "display_name": "Python 3"
    },
    "language_info": {
      "name": "python"
    },
    "accelerator": "GPU"
  },
  "cells": [
    {
      "cell_type": "code",
      "execution_count": null,
      "metadata": {
        "colab": {
          "base_uri": "https://localhost:8080/"
        },
        "id": "lCKzDxEplFYY",
        "outputId": "7dbb9ad8-68ea-442c-9504-61f540ad684c"
      },
      "outputs": [
        {
          "output_type": "stream",
          "name": "stdout",
          "text": [
            "Mounted at /content/drive\n"
          ]
        }
      ],
      "source": [
        "from google.colab import drive\n",
        "drive.mount('/content/drive')"
      ]
    },
    {
      "cell_type": "code",
      "source": [
        "DATA_PATH = '/content/drive/MyDrive/Colab Notebooks/02.Data/'\n",
        "SEED = 42"
      ],
      "metadata": {
        "id": "_J5C15F4l-06"
      },
      "execution_count": null,
      "outputs": []
    },
    {
      "cell_type": "code",
      "source": [
        "import pandas as pd\n",
        "import numpy as np\n",
        "df = pd.read_csv(f\"{DATA_PATH}imdb.csv\")\n",
        "df.head()"
      ],
      "metadata": {
        "colab": {
          "base_uri": "https://localhost:8080/",
          "height": 206
        },
        "id": "A09VJMqRmL8P",
        "outputId": "c55ac32c-c495-4ba2-9bc5-cd89c1b8505e"
      },
      "execution_count": null,
      "outputs": [
        {
          "output_type": "execute_result",
          "data": {
            "text/plain": [
              "                                              review  sentiment\n",
              "0  A very, very, very slow-moving, aimless movie ...          0\n",
              "1  Not sure who was more lost - the flat characte...          0\n",
              "2  Attempting artiness with black & white and cle...          0\n",
              "3       Very little music or anything to speak of.            0\n",
              "4  The best scene in the movie was when Gerardo i...          1"
            ],
            "text/html": [
              "\n",
              "  <div id=\"df-3583899e-c3a3-48bf-82a6-b2fc7c8610a0\">\n",
              "    <div class=\"colab-df-container\">\n",
              "      <div>\n",
              "<style scoped>\n",
              "    .dataframe tbody tr th:only-of-type {\n",
              "        vertical-align: middle;\n",
              "    }\n",
              "\n",
              "    .dataframe tbody tr th {\n",
              "        vertical-align: top;\n",
              "    }\n",
              "\n",
              "    .dataframe thead th {\n",
              "        text-align: right;\n",
              "    }\n",
              "</style>\n",
              "<table border=\"1\" class=\"dataframe\">\n",
              "  <thead>\n",
              "    <tr style=\"text-align: right;\">\n",
              "      <th></th>\n",
              "      <th>review</th>\n",
              "      <th>sentiment</th>\n",
              "    </tr>\n",
              "  </thead>\n",
              "  <tbody>\n",
              "    <tr>\n",
              "      <th>0</th>\n",
              "      <td>A very, very, very slow-moving, aimless movie ...</td>\n",
              "      <td>0</td>\n",
              "    </tr>\n",
              "    <tr>\n",
              "      <th>1</th>\n",
              "      <td>Not sure who was more lost - the flat characte...</td>\n",
              "      <td>0</td>\n",
              "    </tr>\n",
              "    <tr>\n",
              "      <th>2</th>\n",
              "      <td>Attempting artiness with black &amp; white and cle...</td>\n",
              "      <td>0</td>\n",
              "    </tr>\n",
              "    <tr>\n",
              "      <th>3</th>\n",
              "      <td>Very little music or anything to speak of.</td>\n",
              "      <td>0</td>\n",
              "    </tr>\n",
              "    <tr>\n",
              "      <th>4</th>\n",
              "      <td>The best scene in the movie was when Gerardo i...</td>\n",
              "      <td>1</td>\n",
              "    </tr>\n",
              "  </tbody>\n",
              "</table>\n",
              "</div>\n",
              "      <button class=\"colab-df-convert\" onclick=\"convertToInteractive('df-3583899e-c3a3-48bf-82a6-b2fc7c8610a0')\"\n",
              "              title=\"Convert this dataframe to an interactive table.\"\n",
              "              style=\"display:none;\">\n",
              "        \n",
              "  <svg xmlns=\"http://www.w3.org/2000/svg\" height=\"24px\"viewBox=\"0 0 24 24\"\n",
              "       width=\"24px\">\n",
              "    <path d=\"M0 0h24v24H0V0z\" fill=\"none\"/>\n",
              "    <path d=\"M18.56 5.44l.94 2.06.94-2.06 2.06-.94-2.06-.94-.94-2.06-.94 2.06-2.06.94zm-11 1L8.5 8.5l.94-2.06 2.06-.94-2.06-.94L8.5 2.5l-.94 2.06-2.06.94zm10 10l.94 2.06.94-2.06 2.06-.94-2.06-.94-.94-2.06-.94 2.06-2.06.94z\"/><path d=\"M17.41 7.96l-1.37-1.37c-.4-.4-.92-.59-1.43-.59-.52 0-1.04.2-1.43.59L10.3 9.45l-7.72 7.72c-.78.78-.78 2.05 0 2.83L4 21.41c.39.39.9.59 1.41.59.51 0 1.02-.2 1.41-.59l7.78-7.78 2.81-2.81c.8-.78.8-2.07 0-2.86zM5.41 20L4 18.59l7.72-7.72 1.47 1.35L5.41 20z\"/>\n",
              "  </svg>\n",
              "      </button>\n",
              "      \n",
              "  <style>\n",
              "    .colab-df-container {\n",
              "      display:flex;\n",
              "      flex-wrap:wrap;\n",
              "      gap: 12px;\n",
              "    }\n",
              "\n",
              "    .colab-df-convert {\n",
              "      background-color: #E8F0FE;\n",
              "      border: none;\n",
              "      border-radius: 50%;\n",
              "      cursor: pointer;\n",
              "      display: none;\n",
              "      fill: #1967D2;\n",
              "      height: 32px;\n",
              "      padding: 0 0 0 0;\n",
              "      width: 32px;\n",
              "    }\n",
              "\n",
              "    .colab-df-convert:hover {\n",
              "      background-color: #E2EBFA;\n",
              "      box-shadow: 0px 1px 2px rgba(60, 64, 67, 0.3), 0px 1px 3px 1px rgba(60, 64, 67, 0.15);\n",
              "      fill: #174EA6;\n",
              "    }\n",
              "\n",
              "    [theme=dark] .colab-df-convert {\n",
              "      background-color: #3B4455;\n",
              "      fill: #D2E3FC;\n",
              "    }\n",
              "\n",
              "    [theme=dark] .colab-df-convert:hover {\n",
              "      background-color: #434B5C;\n",
              "      box-shadow: 0px 1px 3px 1px rgba(0, 0, 0, 0.15);\n",
              "      filter: drop-shadow(0px 1px 2px rgba(0, 0, 0, 0.3));\n",
              "      fill: #FFFFFF;\n",
              "    }\n",
              "  </style>\n",
              "\n",
              "      <script>\n",
              "        const buttonEl =\n",
              "          document.querySelector('#df-3583899e-c3a3-48bf-82a6-b2fc7c8610a0 button.colab-df-convert');\n",
              "        buttonEl.style.display =\n",
              "          google.colab.kernel.accessAllowed ? 'block' : 'none';\n",
              "\n",
              "        async function convertToInteractive(key) {\n",
              "          const element = document.querySelector('#df-3583899e-c3a3-48bf-82a6-b2fc7c8610a0');\n",
              "          const dataTable =\n",
              "            await google.colab.kernel.invokeFunction('convertToInteractive',\n",
              "                                                     [key], {});\n",
              "          if (!dataTable) return;\n",
              "\n",
              "          const docLinkHtml = 'Like what you see? Visit the ' +\n",
              "            '<a target=\"_blank\" href=https://colab.research.google.com/notebooks/data_table.ipynb>data table notebook</a>'\n",
              "            + ' to learn more about interactive tables.';\n",
              "          element.innerHTML = '';\n",
              "          dataTable['output_type'] = 'display_data';\n",
              "          await google.colab.output.renderOutput(dataTable, element);\n",
              "          const docLink = document.createElement('div');\n",
              "          docLink.innerHTML = docLinkHtml;\n",
              "          element.appendChild(docLink);\n",
              "        }\n",
              "      </script>\n",
              "    </div>\n",
              "  </div>\n",
              "  "
            ]
          },
          "metadata": {},
          "execution_count": 3
        }
      ]
    },
    {
      "cell_type": "code",
      "source": [
        "df.info()"
      ],
      "metadata": {
        "colab": {
          "base_uri": "https://localhost:8080/"
        },
        "id": "8YBMvP6pmUVC",
        "outputId": "f1de6816-d894-4f96-df1e-485669a4385b"
      },
      "execution_count": null,
      "outputs": [
        {
          "output_type": "stream",
          "name": "stdout",
          "text": [
            "<class 'pandas.core.frame.DataFrame'>\n",
            "RangeIndex: 748 entries, 0 to 747\n",
            "Data columns (total 2 columns):\n",
            " #   Column     Non-Null Count  Dtype \n",
            "---  ------     --------------  ----- \n",
            " 0   review     748 non-null    object\n",
            " 1   sentiment  748 non-null    int64 \n",
            "dtypes: int64(1), object(1)\n",
            "memory usage: 11.8+ KB\n"
          ]
        }
      ]
    },
    {
      "cell_type": "code",
      "source": [
        "df[\"sentiment\"].mean() # 긍정, 부정의 비율"
      ],
      "metadata": {
        "colab": {
          "base_uri": "https://localhost:8080/"
        },
        "id": "W9c8Qz7BnHfy",
        "outputId": "1005a583-4a60-4582-c6ca-ee230dead6da"
      },
      "execution_count": null,
      "outputs": [
        {
          "output_type": "execute_result",
          "data": {
            "text/plain": [
              "0.516042780748663"
            ]
          },
          "metadata": {},
          "execution_count": 5
        }
      ]
    },
    {
      "cell_type": "markdown",
      "source": [
        "```\n",
        "50%의 비율을 보인다. 이럴때 어떻게 처리해야 할까?\n",
        "review에 대한 자연어를 처리해야한다!\n",
        "```"
      ],
      "metadata": {
        "id": "PhnCGMMLndK5"
      }
    },
    {
      "cell_type": "markdown",
      "source": [
        "# 자연어처리(Natual Language Processing)\n",
        "- 자연어 이해\n",
        "    - 읽기\n",
        "- 자연어 생성\n",
        "    - 사람으로 치자면, 쓰기 & 말하기\n",
        "    - 어떠한 2차원 데이터를 보고 자연어를 만드는것\n",
        "    - ex) 번역, 챗봇"
      ],
      "metadata": {
        "id": "AvC1tTiInXph"
      }
    },
    {
      "cell_type": "markdown",
      "source": [
        "# 단어문서행렬(Term Document Matrix)\n",
        "- 문서별로 단어의 빈도를 정리한 표"
      ],
      "metadata": {
        "id": "xa8HxkP3o0OS"
      }
    },
    {
      "cell_type": "code",
      "source": [
        "from sklearn.feature_extraction.text import CountVectorizer\n",
        "cv = CountVectorizer(max_features=100, stop_words='english')\n",
        "\n",
        "tdm = cv.fit_transform(df[\"review\"])\n",
        "tdm"
      ],
      "metadata": {
        "colab": {
          "base_uri": "https://localhost:8080/"
        },
        "id": "Anw3ro9znPYZ",
        "outputId": "3e9f79f3-1bbe-47d5-d83c-ae4f25c4f1d4"
      },
      "execution_count": null,
      "outputs": [
        {
          "output_type": "execute_result",
          "data": {
            "text/plain": [
              "<748x100 sparse matrix of type '<class 'numpy.int64'>'\n",
              "\twith 1775 stored elements in Compressed Sparse Row format>"
            ]
          },
          "metadata": {},
          "execution_count": 6
        }
      ]
    },
    {
      "cell_type": "code",
      "source": [
        "tdm.toarray()"
      ],
      "metadata": {
        "colab": {
          "base_uri": "https://localhost:8080/"
        },
        "id": "hYrNIh6Krf8h",
        "outputId": "d0b9966c-759b-4e83-ad12-edd209b43c9e"
      },
      "execution_count": null,
      "outputs": [
        {
          "output_type": "execute_result",
          "data": {
            "text/plain": [
              "array([[0, 0, 0, ..., 0, 0, 0],\n",
              "       [0, 0, 0, ..., 0, 0, 0],\n",
              "       [0, 1, 0, ..., 0, 0, 0],\n",
              "       ...,\n",
              "       [0, 0, 0, ..., 0, 0, 0],\n",
              "       [0, 0, 0, ..., 0, 0, 0],\n",
              "       [0, 0, 0, ..., 0, 0, 0]])"
            ]
          },
          "metadata": {},
          "execution_count": 7
        }
      ]
    },
    {
      "cell_type": "code",
      "source": [
        "#단어 목록 확인하기\n",
        "cv.get_feature_names()[:50]"
      ],
      "metadata": {
        "colab": {
          "base_uri": "https://localhost:8080/"
        },
        "id": "kX-XmR2Dqygg",
        "outputId": "d23211c9-33ce-472d-b289-e083857a792b"
      },
      "execution_count": null,
      "outputs": [
        {
          "output_type": "stream",
          "name": "stderr",
          "text": [
            "/usr/local/lib/python3.7/dist-packages/sklearn/utils/deprecation.py:87: FutureWarning: Function get_feature_names is deprecated; get_feature_names is deprecated in 1.0 and will be removed in 1.2. Please use get_feature_names_out instead.\n",
            "  warnings.warn(msg, category=FutureWarning)\n"
          ]
        },
        {
          "output_type": "execute_result",
          "data": {
            "text/plain": [
              "['10',\n",
              " 'acting',\n",
              " 'actor',\n",
              " 'actors',\n",
              " 'actually',\n",
              " 'art',\n",
              " 'awful',\n",
              " 'bad',\n",
              " 'beautiful',\n",
              " 'best',\n",
              " 'better',\n",
              " 'big',\n",
              " 'black',\n",
              " 'boring',\n",
              " 'camera',\n",
              " 'cast',\n",
              " 'character',\n",
              " 'characters',\n",
              " 'cinematography',\n",
              " 'definitely',\n",
              " 'dialogue',\n",
              " 'did',\n",
              " 'didn',\n",
              " 'director',\n",
              " 'doesn',\n",
              " 'don',\n",
              " 'drama',\n",
              " 'effects',\n",
              " 'end',\n",
              " 'ending',\n",
              " 'excellent',\n",
              " 'feeling',\n",
              " 'film',\n",
              " 'films',\n",
              " 'funny',\n",
              " 'game',\n",
              " 'going',\n",
              " 'good',\n",
              " 'great',\n",
              " 'highly',\n",
              " 'interesting',\n",
              " 'job',\n",
              " 'just',\n",
              " 'know',\n",
              " 'life',\n",
              " 'like',\n",
              " 'liked',\n",
              " 'line',\n",
              " 'little',\n",
              " 'look']"
            ]
          },
          "metadata": {},
          "execution_count": 8
        }
      ]
    },
    {
      "cell_type": "code",
      "source": [
        "tdm_df = pd.DataFrame(tdm.toarray(),columns=cv.get_feature_names())\n",
        "tdm_df"
      ],
      "metadata": {
        "colab": {
          "base_uri": "https://localhost:8080/",
          "height": 424
        },
        "id": "2LCQh7ogrppp",
        "outputId": "dcf66087-fd1a-4e27-f43d-acdde1c4bc50"
      },
      "execution_count": null,
      "outputs": [
        {
          "output_type": "execute_result",
          "data": {
            "text/plain": [
              "     10  acting  actor  actors  actually  art  awful  bad  beautiful  best  \\\n",
              "0     0       0      0       0         0    0      0    0          0     0   \n",
              "1     0       0      0       0         0    0      0    0          0     0   \n",
              "2     0       1      0       0         0    0      0    0          0     0   \n",
              "3     0       0      0       0         0    0      0    0          0     0   \n",
              "4     0       0      0       0         0    0      0    0          0     1   \n",
              "..   ..     ...    ...     ...       ...  ...    ...  ...        ...   ...   \n",
              "743   0       0      0       0         0    0      0    0          0     0   \n",
              "744   0       0      0       0         0    0      0    0          0     0   \n",
              "745   0       0      0       0         0    0      0    0          0     0   \n",
              "746   0       0      0       0         0    0      0    1          0     0   \n",
              "747   0       0      0       0         0    0      0    0          0     0   \n",
              "\n",
              "     ...  watch  watching  way  wonderful  work  worse  worst  worth  writing  \\\n",
              "0    ...      0         0    0          0     0      0      0      0        0   \n",
              "1    ...      0         0    0          0     0      0      0      0        0   \n",
              "2    ...      0         0    0          0     0      0      0      0        0   \n",
              "3    ...      0         0    0          0     0      0      0      0        0   \n",
              "4    ...      0         0    0          0     0      0      0      0        0   \n",
              "..   ...    ...       ...  ...        ...   ...    ...    ...    ...      ...   \n",
              "743  ...      0         1    0          0     0      0      0      0        0   \n",
              "744  ...      0         0    0          0     1      0      0      0        0   \n",
              "745  ...      0         0    0          0     0      0      0      0        0   \n",
              "746  ...      0         0    0          0     0      0      0      0        0   \n",
              "747  ...      0         0    0          0     0      0      0      0        0   \n",
              "\n",
              "     years  \n",
              "0        0  \n",
              "1        0  \n",
              "2        0  \n",
              "3        0  \n",
              "4        0  \n",
              "..     ...  \n",
              "743      0  \n",
              "744      0  \n",
              "745      0  \n",
              "746      0  \n",
              "747      0  \n",
              "\n",
              "[748 rows x 100 columns]"
            ],
            "text/html": [
              "\n",
              "  <div id=\"df-a9869e46-933d-4822-8429-989e59dba369\">\n",
              "    <div class=\"colab-df-container\">\n",
              "      <div>\n",
              "<style scoped>\n",
              "    .dataframe tbody tr th:only-of-type {\n",
              "        vertical-align: middle;\n",
              "    }\n",
              "\n",
              "    .dataframe tbody tr th {\n",
              "        vertical-align: top;\n",
              "    }\n",
              "\n",
              "    .dataframe thead th {\n",
              "        text-align: right;\n",
              "    }\n",
              "</style>\n",
              "<table border=\"1\" class=\"dataframe\">\n",
              "  <thead>\n",
              "    <tr style=\"text-align: right;\">\n",
              "      <th></th>\n",
              "      <th>10</th>\n",
              "      <th>acting</th>\n",
              "      <th>actor</th>\n",
              "      <th>actors</th>\n",
              "      <th>actually</th>\n",
              "      <th>art</th>\n",
              "      <th>awful</th>\n",
              "      <th>bad</th>\n",
              "      <th>beautiful</th>\n",
              "      <th>best</th>\n",
              "      <th>...</th>\n",
              "      <th>watch</th>\n",
              "      <th>watching</th>\n",
              "      <th>way</th>\n",
              "      <th>wonderful</th>\n",
              "      <th>work</th>\n",
              "      <th>worse</th>\n",
              "      <th>worst</th>\n",
              "      <th>worth</th>\n",
              "      <th>writing</th>\n",
              "      <th>years</th>\n",
              "    </tr>\n",
              "  </thead>\n",
              "  <tbody>\n",
              "    <tr>\n",
              "      <th>0</th>\n",
              "      <td>0</td>\n",
              "      <td>0</td>\n",
              "      <td>0</td>\n",
              "      <td>0</td>\n",
              "      <td>0</td>\n",
              "      <td>0</td>\n",
              "      <td>0</td>\n",
              "      <td>0</td>\n",
              "      <td>0</td>\n",
              "      <td>0</td>\n",
              "      <td>...</td>\n",
              "      <td>0</td>\n",
              "      <td>0</td>\n",
              "      <td>0</td>\n",
              "      <td>0</td>\n",
              "      <td>0</td>\n",
              "      <td>0</td>\n",
              "      <td>0</td>\n",
              "      <td>0</td>\n",
              "      <td>0</td>\n",
              "      <td>0</td>\n",
              "    </tr>\n",
              "    <tr>\n",
              "      <th>1</th>\n",
              "      <td>0</td>\n",
              "      <td>0</td>\n",
              "      <td>0</td>\n",
              "      <td>0</td>\n",
              "      <td>0</td>\n",
              "      <td>0</td>\n",
              "      <td>0</td>\n",
              "      <td>0</td>\n",
              "      <td>0</td>\n",
              "      <td>0</td>\n",
              "      <td>...</td>\n",
              "      <td>0</td>\n",
              "      <td>0</td>\n",
              "      <td>0</td>\n",
              "      <td>0</td>\n",
              "      <td>0</td>\n",
              "      <td>0</td>\n",
              "      <td>0</td>\n",
              "      <td>0</td>\n",
              "      <td>0</td>\n",
              "      <td>0</td>\n",
              "    </tr>\n",
              "    <tr>\n",
              "      <th>2</th>\n",
              "      <td>0</td>\n",
              "      <td>1</td>\n",
              "      <td>0</td>\n",
              "      <td>0</td>\n",
              "      <td>0</td>\n",
              "      <td>0</td>\n",
              "      <td>0</td>\n",
              "      <td>0</td>\n",
              "      <td>0</td>\n",
              "      <td>0</td>\n",
              "      <td>...</td>\n",
              "      <td>0</td>\n",
              "      <td>0</td>\n",
              "      <td>0</td>\n",
              "      <td>0</td>\n",
              "      <td>0</td>\n",
              "      <td>0</td>\n",
              "      <td>0</td>\n",
              "      <td>0</td>\n",
              "      <td>0</td>\n",
              "      <td>0</td>\n",
              "    </tr>\n",
              "    <tr>\n",
              "      <th>3</th>\n",
              "      <td>0</td>\n",
              "      <td>0</td>\n",
              "      <td>0</td>\n",
              "      <td>0</td>\n",
              "      <td>0</td>\n",
              "      <td>0</td>\n",
              "      <td>0</td>\n",
              "      <td>0</td>\n",
              "      <td>0</td>\n",
              "      <td>0</td>\n",
              "      <td>...</td>\n",
              "      <td>0</td>\n",
              "      <td>0</td>\n",
              "      <td>0</td>\n",
              "      <td>0</td>\n",
              "      <td>0</td>\n",
              "      <td>0</td>\n",
              "      <td>0</td>\n",
              "      <td>0</td>\n",
              "      <td>0</td>\n",
              "      <td>0</td>\n",
              "    </tr>\n",
              "    <tr>\n",
              "      <th>4</th>\n",
              "      <td>0</td>\n",
              "      <td>0</td>\n",
              "      <td>0</td>\n",
              "      <td>0</td>\n",
              "      <td>0</td>\n",
              "      <td>0</td>\n",
              "      <td>0</td>\n",
              "      <td>0</td>\n",
              "      <td>0</td>\n",
              "      <td>1</td>\n",
              "      <td>...</td>\n",
              "      <td>0</td>\n",
              "      <td>0</td>\n",
              "      <td>0</td>\n",
              "      <td>0</td>\n",
              "      <td>0</td>\n",
              "      <td>0</td>\n",
              "      <td>0</td>\n",
              "      <td>0</td>\n",
              "      <td>0</td>\n",
              "      <td>0</td>\n",
              "    </tr>\n",
              "    <tr>\n",
              "      <th>...</th>\n",
              "      <td>...</td>\n",
              "      <td>...</td>\n",
              "      <td>...</td>\n",
              "      <td>...</td>\n",
              "      <td>...</td>\n",
              "      <td>...</td>\n",
              "      <td>...</td>\n",
              "      <td>...</td>\n",
              "      <td>...</td>\n",
              "      <td>...</td>\n",
              "      <td>...</td>\n",
              "      <td>...</td>\n",
              "      <td>...</td>\n",
              "      <td>...</td>\n",
              "      <td>...</td>\n",
              "      <td>...</td>\n",
              "      <td>...</td>\n",
              "      <td>...</td>\n",
              "      <td>...</td>\n",
              "      <td>...</td>\n",
              "      <td>...</td>\n",
              "    </tr>\n",
              "    <tr>\n",
              "      <th>743</th>\n",
              "      <td>0</td>\n",
              "      <td>0</td>\n",
              "      <td>0</td>\n",
              "      <td>0</td>\n",
              "      <td>0</td>\n",
              "      <td>0</td>\n",
              "      <td>0</td>\n",
              "      <td>0</td>\n",
              "      <td>0</td>\n",
              "      <td>0</td>\n",
              "      <td>...</td>\n",
              "      <td>0</td>\n",
              "      <td>1</td>\n",
              "      <td>0</td>\n",
              "      <td>0</td>\n",
              "      <td>0</td>\n",
              "      <td>0</td>\n",
              "      <td>0</td>\n",
              "      <td>0</td>\n",
              "      <td>0</td>\n",
              "      <td>0</td>\n",
              "    </tr>\n",
              "    <tr>\n",
              "      <th>744</th>\n",
              "      <td>0</td>\n",
              "      <td>0</td>\n",
              "      <td>0</td>\n",
              "      <td>0</td>\n",
              "      <td>0</td>\n",
              "      <td>0</td>\n",
              "      <td>0</td>\n",
              "      <td>0</td>\n",
              "      <td>0</td>\n",
              "      <td>0</td>\n",
              "      <td>...</td>\n",
              "      <td>0</td>\n",
              "      <td>0</td>\n",
              "      <td>0</td>\n",
              "      <td>0</td>\n",
              "      <td>1</td>\n",
              "      <td>0</td>\n",
              "      <td>0</td>\n",
              "      <td>0</td>\n",
              "      <td>0</td>\n",
              "      <td>0</td>\n",
              "    </tr>\n",
              "    <tr>\n",
              "      <th>745</th>\n",
              "      <td>0</td>\n",
              "      <td>0</td>\n",
              "      <td>0</td>\n",
              "      <td>0</td>\n",
              "      <td>0</td>\n",
              "      <td>0</td>\n",
              "      <td>0</td>\n",
              "      <td>0</td>\n",
              "      <td>0</td>\n",
              "      <td>0</td>\n",
              "      <td>...</td>\n",
              "      <td>0</td>\n",
              "      <td>0</td>\n",
              "      <td>0</td>\n",
              "      <td>0</td>\n",
              "      <td>0</td>\n",
              "      <td>0</td>\n",
              "      <td>0</td>\n",
              "      <td>0</td>\n",
              "      <td>0</td>\n",
              "      <td>0</td>\n",
              "    </tr>\n",
              "    <tr>\n",
              "      <th>746</th>\n",
              "      <td>0</td>\n",
              "      <td>0</td>\n",
              "      <td>0</td>\n",
              "      <td>0</td>\n",
              "      <td>0</td>\n",
              "      <td>0</td>\n",
              "      <td>0</td>\n",
              "      <td>1</td>\n",
              "      <td>0</td>\n",
              "      <td>0</td>\n",
              "      <td>...</td>\n",
              "      <td>0</td>\n",
              "      <td>0</td>\n",
              "      <td>0</td>\n",
              "      <td>0</td>\n",
              "      <td>0</td>\n",
              "      <td>0</td>\n",
              "      <td>0</td>\n",
              "      <td>0</td>\n",
              "      <td>0</td>\n",
              "      <td>0</td>\n",
              "    </tr>\n",
              "    <tr>\n",
              "      <th>747</th>\n",
              "      <td>0</td>\n",
              "      <td>0</td>\n",
              "      <td>0</td>\n",
              "      <td>0</td>\n",
              "      <td>0</td>\n",
              "      <td>0</td>\n",
              "      <td>0</td>\n",
              "      <td>0</td>\n",
              "      <td>0</td>\n",
              "      <td>0</td>\n",
              "      <td>...</td>\n",
              "      <td>0</td>\n",
              "      <td>0</td>\n",
              "      <td>0</td>\n",
              "      <td>0</td>\n",
              "      <td>0</td>\n",
              "      <td>0</td>\n",
              "      <td>0</td>\n",
              "      <td>0</td>\n",
              "      <td>0</td>\n",
              "      <td>0</td>\n",
              "    </tr>\n",
              "  </tbody>\n",
              "</table>\n",
              "<p>748 rows × 100 columns</p>\n",
              "</div>\n",
              "      <button class=\"colab-df-convert\" onclick=\"convertToInteractive('df-a9869e46-933d-4822-8429-989e59dba369')\"\n",
              "              title=\"Convert this dataframe to an interactive table.\"\n",
              "              style=\"display:none;\">\n",
              "        \n",
              "  <svg xmlns=\"http://www.w3.org/2000/svg\" height=\"24px\"viewBox=\"0 0 24 24\"\n",
              "       width=\"24px\">\n",
              "    <path d=\"M0 0h24v24H0V0z\" fill=\"none\"/>\n",
              "    <path d=\"M18.56 5.44l.94 2.06.94-2.06 2.06-.94-2.06-.94-.94-2.06-.94 2.06-2.06.94zm-11 1L8.5 8.5l.94-2.06 2.06-.94-2.06-.94L8.5 2.5l-.94 2.06-2.06.94zm10 10l.94 2.06.94-2.06 2.06-.94-2.06-.94-.94-2.06-.94 2.06-2.06.94z\"/><path d=\"M17.41 7.96l-1.37-1.37c-.4-.4-.92-.59-1.43-.59-.52 0-1.04.2-1.43.59L10.3 9.45l-7.72 7.72c-.78.78-.78 2.05 0 2.83L4 21.41c.39.39.9.59 1.41.59.51 0 1.02-.2 1.41-.59l7.78-7.78 2.81-2.81c.8-.78.8-2.07 0-2.86zM5.41 20L4 18.59l7.72-7.72 1.47 1.35L5.41 20z\"/>\n",
              "  </svg>\n",
              "      </button>\n",
              "      \n",
              "  <style>\n",
              "    .colab-df-container {\n",
              "      display:flex;\n",
              "      flex-wrap:wrap;\n",
              "      gap: 12px;\n",
              "    }\n",
              "\n",
              "    .colab-df-convert {\n",
              "      background-color: #E8F0FE;\n",
              "      border: none;\n",
              "      border-radius: 50%;\n",
              "      cursor: pointer;\n",
              "      display: none;\n",
              "      fill: #1967D2;\n",
              "      height: 32px;\n",
              "      padding: 0 0 0 0;\n",
              "      width: 32px;\n",
              "    }\n",
              "\n",
              "    .colab-df-convert:hover {\n",
              "      background-color: #E2EBFA;\n",
              "      box-shadow: 0px 1px 2px rgba(60, 64, 67, 0.3), 0px 1px 3px 1px rgba(60, 64, 67, 0.15);\n",
              "      fill: #174EA6;\n",
              "    }\n",
              "\n",
              "    [theme=dark] .colab-df-convert {\n",
              "      background-color: #3B4455;\n",
              "      fill: #D2E3FC;\n",
              "    }\n",
              "\n",
              "    [theme=dark] .colab-df-convert:hover {\n",
              "      background-color: #434B5C;\n",
              "      box-shadow: 0px 1px 3px 1px rgba(0, 0, 0, 0.15);\n",
              "      filter: drop-shadow(0px 1px 2px rgba(0, 0, 0, 0.3));\n",
              "      fill: #FFFFFF;\n",
              "    }\n",
              "  </style>\n",
              "\n",
              "      <script>\n",
              "        const buttonEl =\n",
              "          document.querySelector('#df-a9869e46-933d-4822-8429-989e59dba369 button.colab-df-convert');\n",
              "        buttonEl.style.display =\n",
              "          google.colab.kernel.accessAllowed ? 'block' : 'none';\n",
              "\n",
              "        async function convertToInteractive(key) {\n",
              "          const element = document.querySelector('#df-a9869e46-933d-4822-8429-989e59dba369');\n",
              "          const dataTable =\n",
              "            await google.colab.kernel.invokeFunction('convertToInteractive',\n",
              "                                                     [key], {});\n",
              "          if (!dataTable) return;\n",
              "\n",
              "          const docLinkHtml = 'Like what you see? Visit the ' +\n",
              "            '<a target=\"_blank\" href=https://colab.research.google.com/notebooks/data_table.ipynb>data table notebook</a>'\n",
              "            + ' to learn more about interactive tables.';\n",
              "          element.innerHTML = '';\n",
              "          dataTable['output_type'] = 'display_data';\n",
              "          await google.colab.output.renderOutput(dataTable, element);\n",
              "          const docLink = document.createElement('div');\n",
              "          docLink.innerHTML = docLinkHtml;\n",
              "          element.appendChild(docLink);\n",
              "        }\n",
              "      </script>\n",
              "    </div>\n",
              "  </div>\n",
              "  "
            ]
          },
          "metadata": {},
          "execution_count": 9
        }
      ]
    },
    {
      "cell_type": "code",
      "source": [
        "#단어 목록 확인하기\n",
        "cv.get_feature_names()[:50]\n",
        "\n",
        "# 빈도수 확인하기\n",
        "tdm.sum(axis=0)\n",
        "\n",
        "# DataFrame 형태로 만들어주기\n",
        "word_count=pd.DataFrame({\n",
        "    '단어': cv.get_feature_names(),\n",
        "    '빈도': tdm.sum(axis=0).flat\n",
        "})"
      ],
      "metadata": {
        "colab": {
          "base_uri": "https://localhost:8080/"
        },
        "id": "YcKAp0gm0VaC",
        "outputId": "54141acc-0585-4acc-8bbf-51d401da00b3"
      },
      "execution_count": null,
      "outputs": [
        {
          "output_type": "stream",
          "name": "stderr",
          "text": [
            "/usr/local/lib/python3.7/dist-packages/sklearn/utils/deprecation.py:87: FutureWarning: Function get_feature_names is deprecated; get_feature_names is deprecated in 1.0 and will be removed in 1.2. Please use get_feature_names_out instead.\n",
            "  warnings.warn(msg, category=FutureWarning)\n"
          ]
        }
      ]
    },
    {
      "cell_type": "code",
      "source": [
        "word_count.sort_values(\"빈도\",ascending=False).head(10)"
      ],
      "metadata": {
        "colab": {
          "base_uri": "https://localhost:8080/",
          "height": 363
        },
        "id": "iVMwbCzp0aJQ",
        "outputId": "8138dbe6-5b31-485d-a7b1-a93102655786"
      },
      "execution_count": null,
      "outputs": [
        {
          "output_type": "execute_result",
          "data": {
            "text/plain": [
              "        단어   빈도\n",
              "54   movie  182\n",
              "32    film  163\n",
              "7      bad   71\n",
              "42    just   63\n",
              "37    good   58\n",
              "45    like   48\n",
              "85    time   43\n",
              "1   acting   43\n",
              "38   great   41\n",
              "66  really   41"
            ],
            "text/html": [
              "\n",
              "  <div id=\"df-23d6991c-2639-4e05-891e-fb124133b471\">\n",
              "    <div class=\"colab-df-container\">\n",
              "      <div>\n",
              "<style scoped>\n",
              "    .dataframe tbody tr th:only-of-type {\n",
              "        vertical-align: middle;\n",
              "    }\n",
              "\n",
              "    .dataframe tbody tr th {\n",
              "        vertical-align: top;\n",
              "    }\n",
              "\n",
              "    .dataframe thead th {\n",
              "        text-align: right;\n",
              "    }\n",
              "</style>\n",
              "<table border=\"1\" class=\"dataframe\">\n",
              "  <thead>\n",
              "    <tr style=\"text-align: right;\">\n",
              "      <th></th>\n",
              "      <th>단어</th>\n",
              "      <th>빈도</th>\n",
              "    </tr>\n",
              "  </thead>\n",
              "  <tbody>\n",
              "    <tr>\n",
              "      <th>54</th>\n",
              "      <td>movie</td>\n",
              "      <td>182</td>\n",
              "    </tr>\n",
              "    <tr>\n",
              "      <th>32</th>\n",
              "      <td>film</td>\n",
              "      <td>163</td>\n",
              "    </tr>\n",
              "    <tr>\n",
              "      <th>7</th>\n",
              "      <td>bad</td>\n",
              "      <td>71</td>\n",
              "    </tr>\n",
              "    <tr>\n",
              "      <th>42</th>\n",
              "      <td>just</td>\n",
              "      <td>63</td>\n",
              "    </tr>\n",
              "    <tr>\n",
              "      <th>37</th>\n",
              "      <td>good</td>\n",
              "      <td>58</td>\n",
              "    </tr>\n",
              "    <tr>\n",
              "      <th>45</th>\n",
              "      <td>like</td>\n",
              "      <td>48</td>\n",
              "    </tr>\n",
              "    <tr>\n",
              "      <th>85</th>\n",
              "      <td>time</td>\n",
              "      <td>43</td>\n",
              "    </tr>\n",
              "    <tr>\n",
              "      <th>1</th>\n",
              "      <td>acting</td>\n",
              "      <td>43</td>\n",
              "    </tr>\n",
              "    <tr>\n",
              "      <th>38</th>\n",
              "      <td>great</td>\n",
              "      <td>41</td>\n",
              "    </tr>\n",
              "    <tr>\n",
              "      <th>66</th>\n",
              "      <td>really</td>\n",
              "      <td>41</td>\n",
              "    </tr>\n",
              "  </tbody>\n",
              "</table>\n",
              "</div>\n",
              "      <button class=\"colab-df-convert\" onclick=\"convertToInteractive('df-23d6991c-2639-4e05-891e-fb124133b471')\"\n",
              "              title=\"Convert this dataframe to an interactive table.\"\n",
              "              style=\"display:none;\">\n",
              "        \n",
              "  <svg xmlns=\"http://www.w3.org/2000/svg\" height=\"24px\"viewBox=\"0 0 24 24\"\n",
              "       width=\"24px\">\n",
              "    <path d=\"M0 0h24v24H0V0z\" fill=\"none\"/>\n",
              "    <path d=\"M18.56 5.44l.94 2.06.94-2.06 2.06-.94-2.06-.94-.94-2.06-.94 2.06-2.06.94zm-11 1L8.5 8.5l.94-2.06 2.06-.94-2.06-.94L8.5 2.5l-.94 2.06-2.06.94zm10 10l.94 2.06.94-2.06 2.06-.94-2.06-.94-.94-2.06-.94 2.06-2.06.94z\"/><path d=\"M17.41 7.96l-1.37-1.37c-.4-.4-.92-.59-1.43-.59-.52 0-1.04.2-1.43.59L10.3 9.45l-7.72 7.72c-.78.78-.78 2.05 0 2.83L4 21.41c.39.39.9.59 1.41.59.51 0 1.02-.2 1.41-.59l7.78-7.78 2.81-2.81c.8-.78.8-2.07 0-2.86zM5.41 20L4 18.59l7.72-7.72 1.47 1.35L5.41 20z\"/>\n",
              "  </svg>\n",
              "      </button>\n",
              "      \n",
              "  <style>\n",
              "    .colab-df-container {\n",
              "      display:flex;\n",
              "      flex-wrap:wrap;\n",
              "      gap: 12px;\n",
              "    }\n",
              "\n",
              "    .colab-df-convert {\n",
              "      background-color: #E8F0FE;\n",
              "      border: none;\n",
              "      border-radius: 50%;\n",
              "      cursor: pointer;\n",
              "      display: none;\n",
              "      fill: #1967D2;\n",
              "      height: 32px;\n",
              "      padding: 0 0 0 0;\n",
              "      width: 32px;\n",
              "    }\n",
              "\n",
              "    .colab-df-convert:hover {\n",
              "      background-color: #E2EBFA;\n",
              "      box-shadow: 0px 1px 2px rgba(60, 64, 67, 0.3), 0px 1px 3px 1px rgba(60, 64, 67, 0.15);\n",
              "      fill: #174EA6;\n",
              "    }\n",
              "\n",
              "    [theme=dark] .colab-df-convert {\n",
              "      background-color: #3B4455;\n",
              "      fill: #D2E3FC;\n",
              "    }\n",
              "\n",
              "    [theme=dark] .colab-df-convert:hover {\n",
              "      background-color: #434B5C;\n",
              "      box-shadow: 0px 1px 3px 1px rgba(0, 0, 0, 0.15);\n",
              "      filter: drop-shadow(0px 1px 2px rgba(0, 0, 0, 0.3));\n",
              "      fill: #FFFFFF;\n",
              "    }\n",
              "  </style>\n",
              "\n",
              "      <script>\n",
              "        const buttonEl =\n",
              "          document.querySelector('#df-23d6991c-2639-4e05-891e-fb124133b471 button.colab-df-convert');\n",
              "        buttonEl.style.display =\n",
              "          google.colab.kernel.accessAllowed ? 'block' : 'none';\n",
              "\n",
              "        async function convertToInteractive(key) {\n",
              "          const element = document.querySelector('#df-23d6991c-2639-4e05-891e-fb124133b471');\n",
              "          const dataTable =\n",
              "            await google.colab.kernel.invokeFunction('convertToInteractive',\n",
              "                                                     [key], {});\n",
              "          if (!dataTable) return;\n",
              "\n",
              "          const docLinkHtml = 'Like what you see? Visit the ' +\n",
              "            '<a target=\"_blank\" href=https://colab.research.google.com/notebooks/data_table.ipynb>data table notebook</a>'\n",
              "            + ' to learn more about interactive tables.';\n",
              "          element.innerHTML = '';\n",
              "          dataTable['output_type'] = 'display_data';\n",
              "          await google.colab.output.renderOutput(dataTable, element);\n",
              "          const docLink = document.createElement('div');\n",
              "          docLink.innerHTML = docLinkHtml;\n",
              "          element.appendChild(docLink);\n",
              "        }\n",
              "      </script>\n",
              "    </div>\n",
              "  </div>\n",
              "  "
            ]
          },
          "metadata": {},
          "execution_count": 11
        }
      ]
    },
    {
      "cell_type": "code",
      "source": [
        "tdm_df.sum().to_dict()"
      ],
      "metadata": {
        "colab": {
          "base_uri": "https://localhost:8080/"
        },
        "id": "mxKg1LmIr6IA",
        "outputId": "2beced92-631c-45ef-95b0-6b38dc0eff7c"
      },
      "execution_count": null,
      "outputs": [
        {
          "output_type": "execute_result",
          "data": {
            "text/plain": [
              "{'10': 29,\n",
              " 'acting': 43,\n",
              " 'actor': 10,\n",
              " 'actors': 19,\n",
              " 'actually': 10,\n",
              " 'art': 13,\n",
              " 'awful': 14,\n",
              " 'bad': 71,\n",
              " 'beautiful': 11,\n",
              " 'best': 25,\n",
              " 'better': 18,\n",
              " 'big': 10,\n",
              " 'black': 10,\n",
              " 'boring': 10,\n",
              " 'camera': 10,\n",
              " 'cast': 18,\n",
              " 'character': 24,\n",
              " 'characters': 35,\n",
              " 'cinematography': 10,\n",
              " 'definitely': 9,\n",
              " 'dialogue': 13,\n",
              " 'did': 11,\n",
              " 'didn': 22,\n",
              " 'director': 12,\n",
              " 'doesn': 12,\n",
              " 'don': 26,\n",
              " 'drama': 10,\n",
              " 'effects': 9,\n",
              " 'end': 11,\n",
              " 'ending': 11,\n",
              " 'excellent': 16,\n",
              " 'feeling': 10,\n",
              " 'film': 163,\n",
              " 'films': 24,\n",
              " 'funny': 19,\n",
              " 'game': 9,\n",
              " 'going': 10,\n",
              " 'good': 58,\n",
              " 'great': 41,\n",
              " 'highly': 10,\n",
              " 'interesting': 12,\n",
              " 'job': 9,\n",
              " 'just': 63,\n",
              " 'know': 14,\n",
              " 'life': 12,\n",
              " 'like': 48,\n",
              " 'liked': 10,\n",
              " 'line': 12,\n",
              " 'little': 17,\n",
              " 'look': 19,\n",
              " 'love': 22,\n",
              " 'loved': 10,\n",
              " 'make': 22,\n",
              " 'man': 13,\n",
              " 'movie': 182,\n",
              " 'movies': 29,\n",
              " 'music': 14,\n",
              " 'people': 14,\n",
              " 'performance': 12,\n",
              " 'piece': 10,\n",
              " 'played': 10,\n",
              " 'plot': 28,\n",
              " 'predictable': 10,\n",
              " 'pretty': 13,\n",
              " 'quite': 10,\n",
              " 'real': 21,\n",
              " 'really': 41,\n",
              " 'recommend': 13,\n",
              " 'right': 13,\n",
              " 'saw': 12,\n",
              " 'say': 13,\n",
              " 'scene': 14,\n",
              " 'scenes': 19,\n",
              " 'screen': 14,\n",
              " 'script': 24,\n",
              " 'seen': 23,\n",
              " 'short': 11,\n",
              " 'simply': 10,\n",
              " 'story': 28,\n",
              " 'stupid': 14,\n",
              " 'terrible': 12,\n",
              " 'thing': 13,\n",
              " 'things': 12,\n",
              " 'think': 21,\n",
              " 'thought': 12,\n",
              " 'time': 43,\n",
              " 'totally': 15,\n",
              " 'truly': 9,\n",
              " 've': 13,\n",
              " 'waste': 14,\n",
              " 'watch': 17,\n",
              " 'watching': 22,\n",
              " 'way': 23,\n",
              " 'wonderful': 18,\n",
              " 'work': 20,\n",
              " 'worse': 11,\n",
              " 'worst': 11,\n",
              " 'worth': 13,\n",
              " 'writing': 13,\n",
              " 'years': 14}"
            ]
          },
          "metadata": {},
          "execution_count": 12
        }
      ]
    },
    {
      "cell_type": "markdown",
      "source": [
        "# 단어구름 만들어 시각화해보기"
      ],
      "metadata": {
        "id": "sf9hUuBfsbIw"
      }
    },
    {
      "cell_type": "code",
      "source": [
        "from wordcloud import WordCloud\n",
        "wc = WordCloud(background_color='white',width=500,height=500)\n",
        "cloud = wc.generate_from_frequencies(tdm_df.sum().to_dict()) # 딕셔너리형태로 넣기\n",
        "cloud.to_image()"
      ],
      "metadata": {
        "colab": {
          "base_uri": "https://localhost:8080/"
        },
        "id": "KRvSXQEsr6Fp",
        "outputId": "2dbe2388-7f13-4f19-9876-00fc30cab8f3"
      },
      "execution_count": null,
      "outputs": [
        {
          "output_type": "execute_result",
          "data": {
            "text/plain": [
              "<PIL.Image.Image image mode=RGB size=500x500 at 0x7FE129A9AE90>"
            ],
            "image/png": "[encoded data removed]"
          },
          "metadata": {},
          "execution_count": 13
        }
      ]
    },
    {
      "cell_type": "markdown",
      "source": [
        "# TF-IDF\n",
        "- 단어 빈도(TF)와 역문서빈도(IDF)를 곱한 값\n",
        "- 단어 빈도에 가중치를 주는 방법\n",
        "- 문서빈도(DF) : 각 단어가 등장한 문서의 수\n",
        "- 역문서빈도(IDF) : 총 문서를 DF로 나눈 값\n",
        "```\n",
        "IDF값이 높을수록 좋은단어다!\n",
        "```"
      ],
      "metadata": {
        "id": "5gL1cxPqtbV3"
      }
    },
    {
      "cell_type": "code",
      "source": [
        "from sklearn.feature_extraction.text import TfidfVectorizer\n",
        "tv = TfidfVectorizer(max_features=100, stop_words='english')\n",
        "tf = tv.fit_transform(df['review'])\n",
        "tf"
      ],
      "metadata": {
        "colab": {
          "base_uri": "https://localhost:8080/"
        },
        "id": "lErddwbjr6DQ",
        "outputId": "c217de52-7fac-4d6a-db0f-81d2be12230c"
      },
      "execution_count": null,
      "outputs": [
        {
          "output_type": "execute_result",
          "data": {
            "text/plain": [
              "<748x100 sparse matrix of type '<class 'numpy.float64'>'\n",
              "\twith 1775 stored elements in Compressed Sparse Row format>"
            ]
          },
          "metadata": {},
          "execution_count": 14
        }
      ]
    },
    {
      "cell_type": "code",
      "source": [
        "pd.DataFrame(tf.toarray(),columns=tv.get_feature_names_out())"
      ],
      "metadata": {
        "colab": {
          "base_uri": "https://localhost:8080/",
          "height": 424
        },
        "id": "WzNDPrXcr6A4",
        "outputId": "2999c180-a3f8-4766-d77f-74e7fd799db6"
      },
      "execution_count": null,
      "outputs": [
        {
          "output_type": "execute_result",
          "data": {
            "text/plain": [
              "      10    acting  actor  actors  actually  art  awful  bad  beautiful  \\\n",
              "0    0.0  0.000000    0.0     0.0       0.0  0.0    0.0  0.0        0.0   \n",
              "1    0.0  0.000000    0.0     0.0       0.0  0.0    0.0  0.0        0.0   \n",
              "2    0.0  0.402595    0.0     0.0       0.0  0.0    0.0  0.0        0.0   \n",
              "3    0.0  0.000000    0.0     0.0       0.0  0.0    0.0  0.0        0.0   \n",
              "4    0.0  0.000000    0.0     0.0       0.0  0.0    0.0  0.0        0.0   \n",
              "..   ...       ...    ...     ...       ...  ...    ...  ...        ...   \n",
              "743  0.0  0.000000    0.0     0.0       0.0  0.0    0.0  0.0        0.0   \n",
              "744  0.0  0.000000    0.0     0.0       0.0  0.0    0.0  0.0        0.0   \n",
              "745  0.0  0.000000    0.0     0.0       0.0  0.0    0.0  0.0        0.0   \n",
              "746  0.0  0.000000    0.0     0.0       0.0  0.0    0.0  1.0        0.0   \n",
              "747  0.0  0.000000    0.0     0.0       0.0  0.0    0.0  0.0        0.0   \n",
              "\n",
              "         best  ...  watch  watching  way  wonderful      work  worse  worst  \\\n",
              "0    0.000000  ...    0.0  0.000000  0.0        0.0  0.000000    0.0    0.0   \n",
              "1    0.000000  ...    0.0  0.000000  0.0        0.0  0.000000    0.0    0.0   \n",
              "2    0.000000  ...    0.0  0.000000  0.0        0.0  0.000000    0.0    0.0   \n",
              "3    0.000000  ...    0.0  0.000000  0.0        0.0  0.000000    0.0    0.0   \n",
              "4    0.618573  ...    0.0  0.000000  0.0        0.0  0.000000    0.0    0.0   \n",
              "..        ...  ...    ...       ...  ...        ...       ...    ...    ...   \n",
              "743  0.000000  ...    0.0  0.785154  0.0        0.0  0.000000    0.0    0.0   \n",
              "744  0.000000  ...    0.0  0.000000  0.0        0.0  0.652005    0.0    0.0   \n",
              "745  0.000000  ...    0.0  0.000000  0.0        0.0  0.000000    0.0    0.0   \n",
              "746  0.000000  ...    0.0  0.000000  0.0        0.0  0.000000    0.0    0.0   \n",
              "747  0.000000  ...    0.0  0.000000  0.0        0.0  0.000000    0.0    0.0   \n",
              "\n",
              "     worth  writing  years  \n",
              "0      0.0      0.0    0.0  \n",
              "1      0.0      0.0    0.0  \n",
              "2      0.0      0.0    0.0  \n",
              "3      0.0      0.0    0.0  \n",
              "4      0.0      0.0    0.0  \n",
              "..     ...      ...    ...  \n",
              "743    0.0      0.0    0.0  \n",
              "744    0.0      0.0    0.0  \n",
              "745    0.0      0.0    0.0  \n",
              "746    0.0      0.0    0.0  \n",
              "747    0.0      0.0    0.0  \n",
              "\n",
              "[748 rows x 100 columns]"
            ],
            "text/html": [
              "\n",
              "  <div id=\"df-fa5f6e07-bd79-47ab-8447-577e807041d3\">\n",
              "    <div class=\"colab-df-container\">\n",
              "      <div>\n",
              "<style scoped>\n",
              "    .dataframe tbody tr th:only-of-type {\n",
              "        vertical-align: middle;\n",
              "    }\n",
              "\n",
              "    .dataframe tbody tr th {\n",
              "        vertical-align: top;\n",
              "    }\n",
              "\n",
              "    .dataframe thead th {\n",
              "        text-align: right;\n",
              "    }\n",
              "</style>\n",
              "<table border=\"1\" class=\"dataframe\">\n",
              "  <thead>\n",
              "    <tr style=\"text-align: right;\">\n",
              "      <th></th>\n",
              "      <th>10</th>\n",
              "      <th>acting</th>\n",
              "      <th>actor</th>\n",
              "      <th>actors</th>\n",
              "      <th>actually</th>\n",
              "      <th>art</th>\n",
              "      <th>awful</th>\n",
              "      <th>bad</th>\n",
              "      <th>beautiful</th>\n",
              "      <th>best</th>\n",
              "      <th>...</th>\n",
              "      <th>watch</th>\n",
              "      <th>watching</th>\n",
              "      <th>way</th>\n",
              "      <th>wonderful</th>\n",
              "      <th>work</th>\n",
              "      <th>worse</th>\n",
              "      <th>worst</th>\n",
              "      <th>worth</th>\n",
              "      <th>writing</th>\n",
              "      <th>years</th>\n",
              "    </tr>\n",
              "  </thead>\n",
              "  <tbody>\n",
              "    <tr>\n",
              "      <th>0</th>\n",
              "      <td>0.0</td>\n",
              "      <td>0.000000</td>\n",
              "      <td>0.0</td>\n",
              "      <td>0.0</td>\n",
              "      <td>0.0</td>\n",
              "      <td>0.0</td>\n",
              "      <td>0.0</td>\n",
              "      <td>0.0</td>\n",
              "      <td>0.0</td>\n",
              "      <td>0.000000</td>\n",
              "      <td>...</td>\n",
              "      <td>0.0</td>\n",
              "      <td>0.000000</td>\n",
              "      <td>0.0</td>\n",
              "      <td>0.0</td>\n",
              "      <td>0.000000</td>\n",
              "      <td>0.0</td>\n",
              "      <td>0.0</td>\n",
              "      <td>0.0</td>\n",
              "      <td>0.0</td>\n",
              "      <td>0.0</td>\n",
              "    </tr>\n",
              "    <tr>\n",
              "      <th>1</th>\n",
              "      <td>0.0</td>\n",
              "      <td>0.000000</td>\n",
              "      <td>0.0</td>\n",
              "      <td>0.0</td>\n",
              "      <td>0.0</td>\n",
              "      <td>0.0</td>\n",
              "      <td>0.0</td>\n",
              "      <td>0.0</td>\n",
              "      <td>0.0</td>\n",
              "      <td>0.000000</td>\n",
              "      <td>...</td>\n",
              "      <td>0.0</td>\n",
              "      <td>0.000000</td>\n",
              "      <td>0.0</td>\n",
              "      <td>0.0</td>\n",
              "      <td>0.000000</td>\n",
              "      <td>0.0</td>\n",
              "      <td>0.0</td>\n",
              "      <td>0.0</td>\n",
              "      <td>0.0</td>\n",
              "      <td>0.0</td>\n",
              "    </tr>\n",
              "    <tr>\n",
              "      <th>2</th>\n",
              "      <td>0.0</td>\n",
              "      <td>0.402595</td>\n",
              "      <td>0.0</td>\n",
              "      <td>0.0</td>\n",
              "      <td>0.0</td>\n",
              "      <td>0.0</td>\n",
              "      <td>0.0</td>\n",
              "      <td>0.0</td>\n",
              "      <td>0.0</td>\n",
              "      <td>0.000000</td>\n",
              "      <td>...</td>\n",
              "      <td>0.0</td>\n",
              "      <td>0.000000</td>\n",
              "      <td>0.0</td>\n",
              "      <td>0.0</td>\n",
              "      <td>0.000000</td>\n",
              "      <td>0.0</td>\n",
              "      <td>0.0</td>\n",
              "      <td>0.0</td>\n",
              "      <td>0.0</td>\n",
              "      <td>0.0</td>\n",
              "    </tr>\n",
              "    <tr>\n",
              "      <th>3</th>\n",
              "      <td>0.0</td>\n",
              "      <td>0.000000</td>\n",
              "      <td>0.0</td>\n",
              "      <td>0.0</td>\n",
              "      <td>0.0</td>\n",
              "      <td>0.0</td>\n",
              "      <td>0.0</td>\n",
              "      <td>0.0</td>\n",
              "      <td>0.0</td>\n",
              "      <td>0.000000</td>\n",
              "      <td>...</td>\n",
              "      <td>0.0</td>\n",
              "      <td>0.000000</td>\n",
              "      <td>0.0</td>\n",
              "      <td>0.0</td>\n",
              "      <td>0.000000</td>\n",
              "      <td>0.0</td>\n",
              "      <td>0.0</td>\n",
              "      <td>0.0</td>\n",
              "      <td>0.0</td>\n",
              "      <td>0.0</td>\n",
              "    </tr>\n",
              "    <tr>\n",
              "      <th>4</th>\n",
              "      <td>0.0</td>\n",
              "      <td>0.000000</td>\n",
              "      <td>0.0</td>\n",
              "      <td>0.0</td>\n",
              "      <td>0.0</td>\n",
              "      <td>0.0</td>\n",
              "      <td>0.0</td>\n",
              "      <td>0.0</td>\n",
              "      <td>0.0</td>\n",
              "      <td>0.618573</td>\n",
              "      <td>...</td>\n",
              "      <td>0.0</td>\n",
              "      <td>0.000000</td>\n",
              "      <td>0.0</td>\n",
              "      <td>0.0</td>\n",
              "      <td>0.000000</td>\n",
              "      <td>0.0</td>\n",
              "      <td>0.0</td>\n",
              "      <td>0.0</td>\n",
              "      <td>0.0</td>\n",
              "      <td>0.0</td>\n",
              "    </tr>\n",
              "    <tr>\n",
              "      <th>...</th>\n",
              "      <td>...</td>\n",
              "      <td>...</td>\n",
              "      <td>...</td>\n",
              "      <td>...</td>\n",
              "      <td>...</td>\n",
              "      <td>...</td>\n",
              "      <td>...</td>\n",
              "      <td>...</td>\n",
              "      <td>...</td>\n",
              "      <td>...</td>\n",
              "      <td>...</td>\n",
              "      <td>...</td>\n",
              "      <td>...</td>\n",
              "      <td>...</td>\n",
              "      <td>...</td>\n",
              "      <td>...</td>\n",
              "      <td>...</td>\n",
              "      <td>...</td>\n",
              "      <td>...</td>\n",
              "      <td>...</td>\n",
              "      <td>...</td>\n",
              "    </tr>\n",
              "    <tr>\n",
              "      <th>743</th>\n",
              "      <td>0.0</td>\n",
              "      <td>0.000000</td>\n",
              "      <td>0.0</td>\n",
              "      <td>0.0</td>\n",
              "      <td>0.0</td>\n",
              "      <td>0.0</td>\n",
              "      <td>0.0</td>\n",
              "      <td>0.0</td>\n",
              "      <td>0.0</td>\n",
              "      <td>0.000000</td>\n",
              "      <td>...</td>\n",
              "      <td>0.0</td>\n",
              "      <td>0.785154</td>\n",
              "      <td>0.0</td>\n",
              "      <td>0.0</td>\n",
              "      <td>0.000000</td>\n",
              "      <td>0.0</td>\n",
              "      <td>0.0</td>\n",
              "      <td>0.0</td>\n",
              "      <td>0.0</td>\n",
              "      <td>0.0</td>\n",
              "    </tr>\n",
              "    <tr>\n",
              "      <th>744</th>\n",
              "      <td>0.0</td>\n",
              "      <td>0.000000</td>\n",
              "      <td>0.0</td>\n",
              "      <td>0.0</td>\n",
              "      <td>0.0</td>\n",
              "      <td>0.0</td>\n",
              "      <td>0.0</td>\n",
              "      <td>0.0</td>\n",
              "      <td>0.0</td>\n",
              "      <td>0.000000</td>\n",
              "      <td>...</td>\n",
              "      <td>0.0</td>\n",
              "      <td>0.000000</td>\n",
              "      <td>0.0</td>\n",
              "      <td>0.0</td>\n",
              "      <td>0.652005</td>\n",
              "      <td>0.0</td>\n",
              "      <td>0.0</td>\n",
              "      <td>0.0</td>\n",
              "      <td>0.0</td>\n",
              "      <td>0.0</td>\n",
              "    </tr>\n",
              "    <tr>\n",
              "      <th>745</th>\n",
              "      <td>0.0</td>\n",
              "      <td>0.000000</td>\n",
              "      <td>0.0</td>\n",
              "      <td>0.0</td>\n",
              "      <td>0.0</td>\n",
              "      <td>0.0</td>\n",
              "      <td>0.0</td>\n",
              "      <td>0.0</td>\n",
              "      <td>0.0</td>\n",
              "      <td>0.000000</td>\n",
              "      <td>...</td>\n",
              "      <td>0.0</td>\n",
              "      <td>0.000000</td>\n",
              "      <td>0.0</td>\n",
              "      <td>0.0</td>\n",
              "      <td>0.000000</td>\n",
              "      <td>0.0</td>\n",
              "      <td>0.0</td>\n",
              "      <td>0.0</td>\n",
              "      <td>0.0</td>\n",
              "      <td>0.0</td>\n",
              "    </tr>\n",
              "    <tr>\n",
              "      <th>746</th>\n",
              "      <td>0.0</td>\n",
              "      <td>0.000000</td>\n",
              "      <td>0.0</td>\n",
              "      <td>0.0</td>\n",
              "      <td>0.0</td>\n",
              "      <td>0.0</td>\n",
              "      <td>0.0</td>\n",
              "      <td>1.0</td>\n",
              "      <td>0.0</td>\n",
              "      <td>0.000000</td>\n",
              "      <td>...</td>\n",
              "      <td>0.0</td>\n",
              "      <td>0.000000</td>\n",
              "      <td>0.0</td>\n",
              "      <td>0.0</td>\n",
              "      <td>0.000000</td>\n",
              "      <td>0.0</td>\n",
              "      <td>0.0</td>\n",
              "      <td>0.0</td>\n",
              "      <td>0.0</td>\n",
              "      <td>0.0</td>\n",
              "    </tr>\n",
              "    <tr>\n",
              "      <th>747</th>\n",
              "      <td>0.0</td>\n",
              "      <td>0.000000</td>\n",
              "      <td>0.0</td>\n",
              "      <td>0.0</td>\n",
              "      <td>0.0</td>\n",
              "      <td>0.0</td>\n",
              "      <td>0.0</td>\n",
              "      <td>0.0</td>\n",
              "      <td>0.0</td>\n",
              "      <td>0.000000</td>\n",
              "      <td>...</td>\n",
              "      <td>0.0</td>\n",
              "      <td>0.000000</td>\n",
              "      <td>0.0</td>\n",
              "      <td>0.0</td>\n",
              "      <td>0.000000</td>\n",
              "      <td>0.0</td>\n",
              "      <td>0.0</td>\n",
              "      <td>0.0</td>\n",
              "      <td>0.0</td>\n",
              "      <td>0.0</td>\n",
              "    </tr>\n",
              "  </tbody>\n",
              "</table>\n",
              "<p>748 rows × 100 columns</p>\n",
              "</div>\n",
              "      <button class=\"colab-df-convert\" onclick=\"convertToInteractive('df-fa5f6e07-bd79-47ab-8447-577e807041d3')\"\n",
              "              title=\"Convert this dataframe to an interactive table.\"\n",
              "              style=\"display:none;\">\n",
              "        \n",
              "  <svg xmlns=\"http://www.w3.org/2000/svg\" height=\"24px\"viewBox=\"0 0 24 24\"\n",
              "       width=\"24px\">\n",
              "    <path d=\"M0 0h24v24H0V0z\" fill=\"none\"/>\n",
              "    <path d=\"M18.56 5.44l.94 2.06.94-2.06 2.06-.94-2.06-.94-.94-2.06-.94 2.06-2.06.94zm-11 1L8.5 8.5l.94-2.06 2.06-.94-2.06-.94L8.5 2.5l-.94 2.06-2.06.94zm10 10l.94 2.06.94-2.06 2.06-.94-2.06-.94-.94-2.06-.94 2.06-2.06.94z\"/><path d=\"M17.41 7.96l-1.37-1.37c-.4-.4-.92-.59-1.43-.59-.52 0-1.04.2-1.43.59L10.3 9.45l-7.72 7.72c-.78.78-.78 2.05 0 2.83L4 21.41c.39.39.9.59 1.41.59.51 0 1.02-.2 1.41-.59l7.78-7.78 2.81-2.81c.8-.78.8-2.07 0-2.86zM5.41 20L4 18.59l7.72-7.72 1.47 1.35L5.41 20z\"/>\n",
              "  </svg>\n",
              "      </button>\n",
              "      \n",
              "  <style>\n",
              "    .colab-df-container {\n",
              "      display:flex;\n",
              "      flex-wrap:wrap;\n",
              "      gap: 12px;\n",
              "    }\n",
              "\n",
              "    .colab-df-convert {\n",
              "      background-color: #E8F0FE;\n",
              "      border: none;\n",
              "      border-radius: 50%;\n",
              "      cursor: pointer;\n",
              "      display: none;\n",
              "      fill: #1967D2;\n",
              "      height: 32px;\n",
              "      padding: 0 0 0 0;\n",
              "      width: 32px;\n",
              "    }\n",
              "\n",
              "    .colab-df-convert:hover {\n",
              "      background-color: #E2EBFA;\n",
              "      box-shadow: 0px 1px 2px rgba(60, 64, 67, 0.3), 0px 1px 3px 1px rgba(60, 64, 67, 0.15);\n",
              "      fill: #174EA6;\n",
              "    }\n",
              "\n",
              "    [theme=dark] .colab-df-convert {\n",
              "      background-color: #3B4455;\n",
              "      fill: #D2E3FC;\n",
              "    }\n",
              "\n",
              "    [theme=dark] .colab-df-convert:hover {\n",
              "      background-color: #434B5C;\n",
              "      box-shadow: 0px 1px 3px 1px rgba(0, 0, 0, 0.15);\n",
              "      filter: drop-shadow(0px 1px 2px rgba(0, 0, 0, 0.3));\n",
              "      fill: #FFFFFF;\n",
              "    }\n",
              "  </style>\n",
              "\n",
              "      <script>\n",
              "        const buttonEl =\n",
              "          document.querySelector('#df-fa5f6e07-bd79-47ab-8447-577e807041d3 button.colab-df-convert');\n",
              "        buttonEl.style.display =\n",
              "          google.colab.kernel.accessAllowed ? 'block' : 'none';\n",
              "\n",
              "        async function convertToInteractive(key) {\n",
              "          const element = document.querySelector('#df-fa5f6e07-bd79-47ab-8447-577e807041d3');\n",
              "          const dataTable =\n",
              "            await google.colab.kernel.invokeFunction('convertToInteractive',\n",
              "                                                     [key], {});\n",
              "          if (!dataTable) return;\n",
              "\n",
              "          const docLinkHtml = 'Like what you see? Visit the ' +\n",
              "            '<a target=\"_blank\" href=https://colab.research.google.com/notebooks/data_table.ipynb>data table notebook</a>'\n",
              "            + ' to learn more about interactive tables.';\n",
              "          element.innerHTML = '';\n",
              "          dataTable['output_type'] = 'display_data';\n",
              "          await google.colab.output.renderOutput(dataTable, element);\n",
              "          const docLink = document.createElement('div');\n",
              "          docLink.innerHTML = docLinkHtml;\n",
              "          element.appendChild(docLink);\n",
              "        }\n",
              "      </script>\n",
              "    </div>\n",
              "  </div>\n",
              "  "
            ]
          },
          "metadata": {},
          "execution_count": 15
        }
      ]
    },
    {
      "cell_type": "markdown",
      "source": [
        "# 토큰화(tokenization)\n",
        "- 자연어 처리를 위해 문장을 처리하기 위한 단위인 토큰으로 분리하는것"
      ],
      "metadata": {
        "id": "15pyt2ZR0NP9"
      }
    },
    {
      "cell_type": "code",
      "source": [
        "from torchtext.data.utils import get_tokenizer\n",
        "gt = get_tokenizer(\"basic_english\")\n",
        "# get_tokenizer(lambda x:x.split(\" \"))"
      ],
      "metadata": {
        "id": "YnSFwl9Nr5-4"
      },
      "execution_count": null,
      "outputs": []
    },
    {
      "cell_type": "code",
      "source": [
        "gt(\"i love you\")"
      ],
      "metadata": {
        "colab": {
          "base_uri": "https://localhost:8080/"
        },
        "id": "Cbr_4mo90d6W",
        "outputId": "57d8b29a-02ec-41b0-a0d4-ae8f2a23c656"
      },
      "execution_count": null,
      "outputs": [
        {
          "output_type": "execute_result",
          "data": {
            "text/plain": [
              "['i', 'love', 'you']"
            ]
          },
          "metadata": {},
          "execution_count": 17
        }
      ]
    },
    {
      "cell_type": "markdown",
      "source": [
        "- 어휘집 만들기(단어사전)"
      ],
      "metadata": {
        "id": "YtPToSOs12hm"
      }
    },
    {
      "cell_type": "code",
      "source": [
        "from torchtext.vocab import build_vocab_from_iterator"
      ],
      "metadata": {
        "id": "FxHkL0Pm0d3-"
      },
      "execution_count": null,
      "outputs": []
    },
    {
      "cell_type": "code",
      "source": [
        "def yield_token(data,tokenizer):\n",
        "    for text in data:\n",
        "        yield tokenizer(text)"
      ],
      "metadata": {
        "id": "7OQ8m0bA0d1Y"
      },
      "execution_count": null,
      "outputs": []
    },
    {
      "cell_type": "markdown",
      "source": [
        "- padding\n",
        "    - 문자열의 길이를 맞추기위해 채워주는것\n",
        "- OOV(Out-Of-Vocabulary)\n",
        "    - 모르는 새 단어가 나왔을때 특정 숫자를 부여(대부분 1)"
      ],
      "metadata": {
        "id": "zUnZrL8Y4Qar"
      }
    },
    {
      "cell_type": "code",
      "source": [
        "gen = yield_token(df[\"review\"],gt)\n",
        "vocab = build_vocab_from_iterator(gen,specials=['<pad>','<unk>'])\n",
        "vocab.set_default_index(vocab[\"<unk>\"])"
      ],
      "metadata": {
        "id": "daW_FhII0dyk"
      },
      "execution_count": null,
      "outputs": []
    },
    {
      "cell_type": "code",
      "source": [
        "vocab[\"<unk>\"]"
      ],
      "metadata": {
        "colab": {
          "base_uri": "https://localhost:8080/"
        },
        "id": "AMxzdUFj0dwF",
        "outputId": "6f6faf5e-baf2-41c0-c276-b8e400869fe5"
      },
      "execution_count": null,
      "outputs": [
        {
          "output_type": "execute_result",
          "data": {
            "text/plain": [
              "1"
            ]
          },
          "metadata": {},
          "execution_count": 21
        }
      ]
    },
    {
      "cell_type": "code",
      "source": [
        "len(vocab)# 단어사전에 있는 단어 개수"
      ],
      "metadata": {
        "colab": {
          "base_uri": "https://localhost:8080/"
        },
        "id": "sbqoNZ3Z0dtN",
        "outputId": "52a7e299-9387-4233-d0e1-3f67b192be2d"
      },
      "execution_count": null,
      "outputs": [
        {
          "output_type": "execute_result",
          "data": {
            "text/plain": [
              "3146"
            ]
          },
          "metadata": {},
          "execution_count": 22
        }
      ]
    },
    {
      "cell_type": "code",
      "source": [
        "vocab([\"a\",\"very\",\"karns\"]) # karns를 정수 인코딩함"
      ],
      "metadata": {
        "colab": {
          "base_uri": "https://localhost:8080/"
        },
        "id": "RDzl9flZsJ_a",
        "outputId": "a0f8d60c-cadf-4efc-bfa1-9cd8334e0f3d"
      },
      "execution_count": null,
      "outputs": [
        {
          "output_type": "execute_result",
          "data": {
            "text/plain": [
              "[6, 34, 1]"
            ]
          },
          "metadata": {},
          "execution_count": 23
        }
      ]
    },
    {
      "cell_type": "code",
      "source": [
        "vocab.lookup_tokens([6,34,1,0]) # 디코딩"
      ],
      "metadata": {
        "colab": {
          "base_uri": "https://localhost:8080/"
        },
        "id": "kaoah2Xj5kRE",
        "outputId": "c890897e-f8fc-41ff-bec6-dd979fb4452c"
      },
      "execution_count": null,
      "outputs": [
        {
          "output_type": "execute_result",
          "data": {
            "text/plain": [
              "['a', 'very', '<unk>', '<pad>']"
            ]
          },
          "metadata": {},
          "execution_count": 24
        }
      ]
    },
    {
      "cell_type": "markdown",
      "source": [
        "- 학습 및 정답데이터 만들기"
      ],
      "metadata": {
        "id": "wj27h60A6GF7"
      }
    },
    {
      "cell_type": "code",
      "source": [
        "train = [ vocab(gt(text)) for text in df['review'].tolist()]\n",
        "target = df.sentiment.to_numpy()\n",
        "len(train), target.shape"
      ],
      "metadata": {
        "colab": {
          "base_uri": "https://localhost:8080/"
        },
        "id": "Dmd00Zxs55rG",
        "outputId": "b5a6092b-d7c9-4dcd-df95-e0ad650301e0"
      },
      "execution_count": null,
      "outputs": [
        {
          "output_type": "execute_result",
          "data": {
            "text/plain": [
              "(748, (748,))"
            ]
          },
          "metadata": {},
          "execution_count": 25
        }
      ]
    },
    {
      "cell_type": "code",
      "source": [
        "import torch\n",
        "import numpy as np\n",
        "import pandas as pd\n",
        "from tqdm.auto import tqdm\n",
        "import random # 시드 고정을 위해\n",
        "import os # 시드 고정을 위해\n",
        "SEED = 42\n",
        "device = 'cuda' if torch.cuda.is_available() else 'cpu'\n",
        "def reset_seeds(seed):\n",
        "    random.seed(seed)\n",
        "    os.environ['PYTHONHASHSEED'] = str(seed)    # 파이썬 환경변수 시드 고정\n",
        "    np.random.seed(seed)\n",
        "    torch.manual_seed(seed) # cpu 연산 무작위 고정\n",
        "    torch.cuda.manual_seed(seed) # gpu 연산 무작위 고정\n",
        "    torch.backends.cudnn.deterministic = True  # cuda 라이브러리에서 Deterministic(결정론적)으로 예측하기 (예측에 대한 불확실성 제거 )"
      ],
      "metadata": {
        "id": "VjVI1g9yANJT"
      },
      "execution_count": null,
      "outputs": []
    },
    {
      "cell_type": "code",
      "source": [
        "class ReviewDataset(torch.utils.data.Dataset):\n",
        "    def __init__(self,x,y=None):\n",
        "        self.x = x\n",
        "        self.y = y\n",
        "\n",
        "    def __len__(self):\n",
        "        return len(self.x)\n",
        "    \n",
        "    def __getitem__(self,idx):\n",
        "        item = {}\n",
        "        item[\"x\"] = self.x[idx]\n",
        "        if self.y is not None:\n",
        "            item[\"y\"] = self.y[idx]\n",
        "        return item"
      ],
      "metadata": {
        "id": "0igqKk1y6jKo"
      },
      "execution_count": null,
      "outputs": []
    },
    {
      "cell_type": "code",
      "source": [
        "dt = ReviewDataset(train,target)\n",
        "dt[0]"
      ],
      "metadata": {
        "colab": {
          "base_uri": "https://localhost:8080/"
        },
        "id": "WFcCm-C0Be41",
        "outputId": "4cea01e3-85a1-405a-c9bc-f2db36433b79"
      },
      "execution_count": null,
      "outputs": [
        {
          "output_type": "execute_result",
          "data": {
            "text/plain": [
              "{'x': [6,\n",
              "  34,\n",
              "  4,\n",
              "  34,\n",
              "  4,\n",
              "  34,\n",
              "  2741,\n",
              "  4,\n",
              "  1263,\n",
              "  16,\n",
              "  44,\n",
              "  6,\n",
              "  1688,\n",
              "  4,\n",
              "  1709,\n",
              "  524,\n",
              "  155,\n",
              "  2],\n",
              " 'y': 0}"
            ]
          },
          "metadata": {},
          "execution_count": 28
        }
      ]
    },
    {
      "cell_type": "markdown",
      "source": [
        "- collate_fn"
      ],
      "metadata": {
        "id": "IWekea-xCyo9"
      }
    },
    {
      "cell_type": "code",
      "source": [
        "def collate_fn(samples):\n",
        "    x = [ torch.LongTensor(sample[\"x\"]) for sample in samples ] # int64 형태의 LongTensor\n",
        "    y = [ sample[\"y\"] for sample in samples ]\n",
        "    y = torch.Tensor(y).view(-1,1) # 2차원으로 view~\n",
        "    x = torch.nn.utils.rnn.pad_sequence(x,batch_first=True)\n",
        "\n",
        "    return {\"x\":x, \"y\":y}"
      ],
      "metadata": {
        "id": "3Q6FkmJ5DIgY"
      },
      "execution_count": null,
      "outputs": []
    },
    {
      "cell_type": "code",
      "source": [
        "dl = torch.utils.data.DataLoader(dt,shuffle=False,batch_size = 8,collate_fn=collate_fn)"
      ],
      "metadata": {
        "id": "RMFN9mf0Blgc"
      },
      "execution_count": null,
      "outputs": []
    },
    {
      "cell_type": "code",
      "source": [
        "batch = next(iter(dl))"
      ],
      "metadata": {
        "id": "QRCQaF3nFHWI"
      },
      "execution_count": null,
      "outputs": []
    },
    {
      "cell_type": "markdown",
      "source": [
        "# 단어 임베딩(embedding)\n",
        "- 단어를 실수 형태의 벡터로 표현\n",
        "- 신경망에서 임베딩 레이어를 추가하여 단어에 임베딩을 얻을 수 있음."
      ],
      "metadata": {
        "id": "j28_1zARGZ3v"
      }
    },
    {
      "cell_type": "markdown",
      "source": [
        "- num_embeddings\n",
        "    - 임베딩할 단어의 개수\n",
        "- embedding_dim\n",
        "    - 단어마다 임베딩할 벡터의 차원\n"
      ],
      "metadata": {
        "id": "J2bP9zKxIvtO"
      }
    },
    {
      "cell_type": "code",
      "source": [
        "emb_layer = torch.nn.Embedding(len(vocab), 4)\n",
        "x = emb_layer(batch[\"x\"])\n",
        "x.shape"
      ],
      "metadata": {
        "colab": {
          "base_uri": "https://localhost:8080/"
        },
        "id": "erRNzqT7FLVW",
        "outputId": "b3d405b6-b4bc-47ac-fc21-7a57937c4624"
      },
      "execution_count": null,
      "outputs": [
        {
          "output_type": "execute_result",
          "data": {
            "text/plain": [
              "torch.Size([8, 33, 4])"
            ]
          },
          "metadata": {},
          "execution_count": 32
        }
      ]
    },
    {
      "cell_type": "code",
      "source": [
        "emb_layer.weight.shape"
      ],
      "metadata": {
        "colab": {
          "base_uri": "https://localhost:8080/"
        },
        "id": "_v_eTOiMJpKc",
        "outputId": "45efa1bb-558d-4a29-bcde-89637e7a372f"
      },
      "execution_count": null,
      "outputs": [
        {
          "output_type": "execute_result",
          "data": {
            "text/plain": [
              "torch.Size([3146, 4])"
            ]
          },
          "metadata": {},
          "execution_count": 33
        }
      ]
    },
    {
      "cell_type": "code",
      "source": [
        "np.array(train,dtype=\"object\")[[2,3,4]]"
      ],
      "metadata": {
        "colab": {
          "base_uri": "https://localhost:8080/"
        },
        "id": "85Js025pKJor",
        "outputId": "42198017-9c16-4133-d335-77028831c440"
      },
      "execution_count": null,
      "outputs": [
        {
          "output_type": "execute_result",
          "data": {
            "text/plain": [
              "array([list([1319, 1306, 26, 198, 216, 264, 5, 352, 244, 753, 4, 3, 16, 304, 70, 769, 59, 71, 387, 70, 24, 3, 54, 15, 329, 5, 3, 80, 5, 280, 218, 2357, 2]),\n",
              "       list([34, 125, 144, 58, 241, 13, 690, 7, 2]),\n",
              "       list([3, 85, 147, 14, 3, 16, 15, 77, 1934, 8, 513, 13, 202, 6, 497, 17, 963, 1085, 214, 51, 927, 2])],\n",
              "      dtype=object)"
            ]
          },
          "metadata": {},
          "execution_count": 34
        }
      ]
    },
    {
      "cell_type": "code",
      "source": [
        "class RNNModel(torch.nn.Module):\n",
        "    def __init__(self,vocab_size,embedding_dim):\n",
        "        super().__init__()\n",
        "        self.emb_layer = torch.nn.Embedding(vocab_size,embedding_dim)\n",
        "        self.gru_layer = torch.nn.GRU(embedding_dim,embedding_dim//2, batch_first=True)\n",
        "        self.relu = torch.nn.ReLU()\n",
        "        self.output_layer = torch.nn.Linear(embedding_dim//2,1)\n",
        "\n",
        "    def forward(self,x):\n",
        "        x = self.emb_layer(x)\n",
        "        _, x = self.gru_layer(x)\n",
        "        x = x.squeeze(dim=0)\n",
        "        x = self.relu(x)\n",
        "        x = self.output_layer(x)\n",
        "        return x"
      ],
      "metadata": {
        "id": "tMqfK1VjN5Yl"
      },
      "execution_count": null,
      "outputs": []
    },
    {
      "cell_type": "code",
      "source": [
        "model = RNNModel(len(vocab),32)\n",
        "model(batch[\"x\"])"
      ],
      "metadata": {
        "colab": {
          "base_uri": "https://localhost:8080/"
        },
        "id": "C6X6RhHMTuLi",
        "outputId": "88cc5b85-c09c-4bb0-8e80-6ad829b3cf38"
      },
      "execution_count": null,
      "outputs": [
        {
          "output_type": "execute_result",
          "data": {
            "text/plain": [
              "tensor([[0.5032],\n",
              "        [0.5030],\n",
              "        [0.1757],\n",
              "        [0.5034],\n",
              "        [0.5026],\n",
              "        [0.4365],\n",
              "        [0.5034],\n",
              "        [0.5033]], grad_fn=<AddmmBackward0>)"
            ]
          },
          "metadata": {},
          "execution_count": 36
        }
      ]
    },
    {
      "cell_type": "code",
      "source": [
        "def train_loop(dataloader,model,loss_fn,optimizer,device):\n",
        "    epoch_loss = 0 # 미니배치별에 대한 loss들의 평균\n",
        "    model.train()  # 학습모드\n",
        "    for batch in dataloader:\n",
        "        pred = model(batch[\"x\"].to(device))\n",
        "        #pred = pred.squeeze()\n",
        "        loss = loss_fn(pred,batch[\"y\"].to(device))\n",
        "\n",
        "        optimizer.zero_grad()\n",
        "        loss.backward() # 손실에 대한 반영\n",
        "        optimizer.step()\n",
        "\n",
        "        epoch_loss += loss.item()\n",
        "\n",
        "    epoch_loss /= len(dataloader)\n",
        "    \n",
        "    return epoch_loss"
      ],
      "metadata": {
        "id": "OPb8TnDBO9vF"
      },
      "execution_count": null,
      "outputs": []
    },
    {
      "cell_type": "code",
      "source": [
        "@torch.no_grad()\n",
        "def test_loop(dataloader,model,loss_fn,device):\n",
        "    epoch_loss = 0  # 미니배치별에 대한 loss들의 평균\n",
        "    model.eval()    # 평가모드\n",
        "\n",
        "    pred_list = [] # 내보내야할 예측값\n",
        "    for batch in dataloader:\n",
        "        pred = model(batch[\"x\"].to(device))\n",
        "\n",
        "        # y값이 None일경우\n",
        "        if batch.get(\"y\") is not None:\n",
        "            loss = loss_fn(pred,batch[\"y\"].to(device))\n",
        "            epoch_loss += loss.item()\n",
        "\n",
        "        pred = pred.to(\"cpu\").numpy()\n",
        "        pred_list.append(pred)\n",
        "\n",
        "    epoch_loss /= len(dataloader)\n",
        "\n",
        "    pred = np.concatenate(pred_list)\n",
        "    return epoch_loss,pred"
      ],
      "metadata": {
        "id": "RuY4E0soPCLb"
      },
      "execution_count": null,
      "outputs": []
    },
    {
      "cell_type": "code",
      "source": [
        "n_splits = 5\n",
        "vocab_size = len(vocab)\n",
        "embedding_dim = 4\n",
        "batch_size = 32\n",
        "epochs = 100\n",
        "loss_fn = torch.nn.BCEWithLogitsLoss()"
      ],
      "metadata": {
        "id": "EszGeRJe3fX3"
      },
      "execution_count": null,
      "outputs": []
    },
    {
      "cell_type": "code",
      "source": [
        "x_arr = np.array(train,dtype=\"object\")"
      ],
      "metadata": {
        "id": "dREWF_-KDMiD"
      },
      "execution_count": null,
      "outputs": []
    },
    {
      "cell_type": "code",
      "source": [
        "from sklearn.metrics import accuracy_score\n",
        "from sklearn.model_selection import KFold\n",
        "cv = KFold(n_splits=n_splits,shuffle=True, random_state=SEED)"
      ],
      "metadata": {
        "id": "-WXeLe8yP2a9"
      },
      "execution_count": null,
      "outputs": []
    },
    {
      "cell_type": "code",
      "source": [
        "is_holdout = True\n",
        "\n",
        "reset_seeds(SEED)\n",
        "# best_score_list = []\n",
        "for tri,vai in cv.split(x_arr):\n",
        "    model = RNNModel(vocab_size,embedding_dim).to(device)\n",
        "    optimizer = torch.optim.Adam(model.parameters())\n",
        "\n",
        "    # dataset\n",
        "    train_dt = ReviewDataset(x_arr[tri],target[tri])\n",
        "    valid_dt = ReviewDataset(x_arr[vai],target[vai])\n",
        "    # dataloader\n",
        "    train_dl = torch.utils.data.DataLoader(train_dt,batch_size=batch_size,shuffle=True,collate_fn=collate_fn)\n",
        "    valid_dl = torch.utils.data.DataLoader(valid_dt,batch_size=batch_size,shuffle=False,collate_fn=collate_fn)\n",
        "    \n",
        "    \n",
        "    for e in range(epochs):\n",
        "        train_loss = train_loop(train_dl, model, loss_fn, optimizer, device)\n",
        "        valid_loss,pred = test_loop(valid_dl,model,loss_fn,device)\n",
        "        pred =(pred > 0.5).astype(int)\n",
        "        print(train_loss,valid_loss, accuracy_score(target[vai],pred))\n",
        "\n",
        "    if is_holdout:\n",
        "        break\n",
        "\n",
        "        "
      ],
      "metadata": {
        "colab": {
          "base_uri": "https://localhost:8080/"
        },
        "id": "yeCSBBx9QNEt",
        "outputId": "fdd2341f-5b52-4e72-ea2e-edf33ce2e5ac"
      },
      "execution_count": null,
      "outputs": [
        {
          "output_type": "stream",
          "name": "stdout",
          "text": [
            "0.6956381515452736 0.695993971824646 0.5066666666666667\n",
            "0.6973103598544472 0.6953954219818115 0.5066666666666667\n",
            "0.6943917211733366 0.6947776794433593 0.5066666666666667\n",
            "0.6921380162239075 0.6945487856864929 0.5066666666666667\n",
            "0.6919231132457131 0.6946782469749451 0.5066666666666667\n",
            "0.6947229881035654 0.6947031259536743 0.5066666666666667\n",
            "0.6922948391813981 0.6947212219238281 0.5066666666666667\n",
            "0.6942688571779352 0.6946846961975097 0.5066666666666667\n",
            "0.6948848209883037 0.6942624926567078 0.5066666666666667\n",
            "0.6918575951927587 0.6942118883132935 0.5066666666666667\n",
            "0.6917250407369513 0.694302749633789 0.5066666666666667\n",
            "0.6928349325531408 0.6942978620529174 0.5066666666666667\n",
            "0.6930821820309288 0.6940463185310364 0.5066666666666667\n",
            "0.6929994664694133 0.6940320253372192 0.5066666666666667\n",
            "0.6923307023550335 0.6940361857414246 0.5066666666666667\n",
            "0.6915412294237238 0.6941760659217835 0.5066666666666667\n",
            "0.6923908559899581 0.6940578341484069 0.5066666666666667\n",
            "0.6941751367167422 0.6936589360237122 0.5066666666666667\n",
            "0.6911425966965524 0.6939834475517273 0.5066666666666667\n",
            "0.6916160771721288 0.6937250137329102 0.5066666666666667\n",
            "0.6914033607432717 0.6937764763832093 0.5066666666666667\n",
            "0.6923070487223173 0.6937074184417724 0.5066666666666667\n",
            "0.6914432644844055 0.6936626553535461 0.5066666666666667\n",
            "0.6914143938767282 0.6936936259269715 0.5066666666666667\n",
            "0.6939939480078848 0.69352285861969 0.5066666666666667\n",
            "0.6921529550301401 0.6934070944786072 0.5066666666666667\n",
            "0.6907650891103243 0.6935168981552124 0.5066666666666667\n",
            "0.6929604128787392 0.6934845209121704 0.5066666666666667\n",
            "0.6919230379556355 0.6932840585708618 0.5066666666666667\n",
            "0.6911287778302243 0.693207049369812 0.5066666666666667\n",
            "0.6910769845310011 0.6933756470680237 0.5066666666666667\n",
            "0.6907280997226113 0.6935450553894043 0.5066666666666667\n",
            "0.6901799848205165 0.6933892250061036 0.5066666666666667\n",
            "0.6902208610584861 0.6933414340019226 0.5066666666666667\n",
            "0.6899384699369732 0.693329918384552 0.5066666666666667\n",
            "0.6912257326276678 0.6931537508964538 0.5066666666666667\n",
            "0.6889934884874445 0.6931714892387391 0.5066666666666667\n",
            "0.6903501121621383 0.6930473208427429 0.5066666666666667\n",
            "0.6922640800476074 0.692842984199524 0.5066666666666667\n",
            "0.6891753799036929 0.6927704572677612 0.5066666666666667\n",
            "0.6878087363745037 0.6927550911903382 0.5066666666666667\n",
            "0.6901591702511436 0.6927261471748352 0.5066666666666667\n",
            "0.6883523715169806 0.6925709962844848 0.5066666666666667\n",
            "0.6849140681718525 0.692430567741394 0.5066666666666667\n",
            "0.6897769601721513 0.6923522114753723 0.5066666666666667\n",
            "0.6873833411618283 0.6921948432922364 0.5066666666666667\n",
            "0.6883770635253504 0.6920259952545166 0.5066666666666667\n",
            "0.6881686292196575 0.6918256759643555 0.5066666666666667\n",
            "0.6866612434387207 0.6916869878768921 0.5066666666666667\n",
            "0.6887074865792927 0.6916581630706787 0.5066666666666667\n",
            "0.6877645348247728 0.6914058566093445 0.5066666666666667\n",
            "0.6855861450496473 0.6911401391029358 0.5066666666666667\n",
            "0.6860964172764829 0.690936005115509 0.5066666666666667\n",
            "0.6865287329021253 0.6905670642852784 0.5066666666666667\n",
            "0.6864291492261385 0.6901650547981262 0.5066666666666667\n",
            "0.6858090225018953 0.6898775100708008 0.5066666666666667\n",
            "0.6827014904273184 0.6893238425254822 0.5066666666666667\n",
            "0.6829786457513508 0.6888855338096619 0.5066666666666667\n",
            "0.6789793403525102 0.6883330583572388 0.5066666666666667\n",
            "0.678979798367149 0.6877903938293457 0.5066666666666667\n",
            "0.6823421152014482 0.6872628211975098 0.5066666666666667\n",
            "0.6779953586427789 0.6867108941078186 0.5066666666666667\n",
            "0.6770646885821694 0.6861971139907836 0.5066666666666667\n",
            "0.6751253134325931 0.6857423901557922 0.5066666666666667\n",
            "0.6789582183486537 0.6851730704307556 0.5066666666666667\n",
            "0.6738897216947455 0.6846293210983276 0.5066666666666667\n",
            "0.6679862455317849 0.6841070175170898 0.5066666666666667\n",
            "0.6699964372735274 0.6837600231170654 0.5\n",
            "0.6639571283992968 0.6833601832389832 0.5133333333333333\n",
            "0.6618207442133051 0.682811951637268 0.5133333333333333\n",
            "0.667370407204879 0.6823496699333191 0.52\n",
            "0.6621079350772657 0.6819710969924927 0.54\n",
            "0.6587861399901541 0.6817081689834594 0.5333333333333333\n",
            "0.6575350635930112 0.6815829515457154 0.5533333333333333\n",
            "0.6533283810866507 0.6814712762832642 0.5466666666666666\n",
            "0.6481836657775076 0.6810380101203919 0.5466666666666666\n",
            "0.6464490921873796 0.6808610677719116 0.5666666666666667\n",
            "0.6422305703163147 0.6805094242095947 0.58\n",
            "0.6393731330570421 0.6803650379180908 0.5866666666666667\n",
            "0.6333042414564836 0.6802261948585511 0.5933333333333334\n",
            "0.6363896790303682 0.6804673194885253 0.5933333333333334\n",
            "0.6206790459783453 0.680786418914795 0.5933333333333334\n",
            "0.6181209181484423 0.6805688142776489 0.5866666666666667\n",
            "0.6136640655366998 0.6808528423309326 0.58\n",
            "0.6063641027400368 0.6813776731491089 0.5466666666666666\n",
            "0.5989343618091784 0.6809419393539429 0.5533333333333333\n",
            "0.5955309303183305 0.6808767795562745 0.5466666666666666\n",
            "0.5890728015648691 0.680470073223114 0.5466666666666666\n",
            "0.5804000167470229 0.681313157081604 0.5333333333333333\n",
            "0.5747723704890201 0.6809172630310059 0.5333333333333333\n",
            "0.5658413799185502 0.68026704788208 0.5466666666666666\n",
            "0.5576403391988654 0.679795777797699 0.5533333333333333\n",
            "0.5521574412521563 0.679865026473999 0.5533333333333333\n",
            "0.5452802306727359 0.6788642048835755 0.5533333333333333\n",
            "0.5402060088358427 0.6782130122184753 0.5533333333333333\n",
            "0.5344670477666353 0.6782122611999511 0.5666666666666667\n",
            "0.5282606874641619 0.6780215740203858 0.5733333333333334\n",
            "0.5233221054077148 0.6773446321487426 0.5733333333333334\n",
            "0.5179268655024076 0.6783367991447449 0.6\n",
            "0.5121531831590753 0.6780999898910522 0.6066666666666667\n"
          ]
        }
      ]
    },
    {
      "cell_type": "code",
      "source": [],
      "metadata": {
        "id": "cYCP8yI0yI84"
      },
      "execution_count": null,
      "outputs": []
    }
  ]
}