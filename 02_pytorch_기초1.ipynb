{
  "nbformat": 4,
  "nbformat_minor": 0,
  "metadata": {
    "colab": {
      "provenance": [],
      "collapsed_sections": [
        "kE8AY4Wh0gWP"
      ],
      "mount_file_id": "1sKDi6u1lRqvB4f4qD4WDIk8_2pzsJqNi",
      "authorship_tag": "ABX9TyMkokdiNhqeGXyHG6ONdXer"
    },
    "kernelspec": {
      "name": "python3",
      "display_name": "Python 3"
    },
    "language_info": {
      "name": "python"
    },
    "accelerator": "GPU"
  },
  "cells": [
    {
      "cell_type": "markdown",
      "source": [
        "# Pytorch\n",
        "- 구글의  Tensorflow와 유사한 딥러닝 라이브러리\n",
        "- 페이스북 인공지능 연구팀에 의해 개발\n",
        "- torch\n",
        "    - 텐서 변화 및 다양한 수학 함수와 클래스가 들어가있다.\n",
        "- torch.nn\n",
        "    - 신경망을 구축하기 위한 레이어(층), 활성화 함수, 손실함수 등이 들어있다.\n",
        "- torch.utils.data\n",
        "    - 미니 배치 학습을 위한 데이터셋을 구성하는 클래스들이 들어가있다\n",
        "- torch.optime\n",
        "    - optimizer 관련 함수와 클래스가 있다."
      ],
      "metadata": {
        "id": "1dHvDafra0RT"
      }
    },
    {
      "cell_type": "code",
      "source": [],
      "metadata": {
        "id": "BAptfMZa0ruo"
      },
      "execution_count": null,
      "outputs": []
    },
    {
      "cell_type": "code",
      "execution_count": null,
      "metadata": {
        "id": "bjsh1BeBaSSW"
      },
      "outputs": [],
      "source": [
        "import torch\n",
        "import numpy as np"
      ]
    },
    {
      "cell_type": "markdown",
      "source": [
        "# 텐서(Tensor)\n",
        "- N차원 배열\n",
        "- 텐서는 다차원 배열이나 행렬과 매우 유사한 특수한 자료구조\n",
        "- pytorch에서는 텐서를 딥러닝 모델의 입력과 출력으로 학습을 진행\n"
      ],
      "metadata": {
        "id": "DDFD4dMJdJfP"
      }
    },
    {
      "cell_type": "markdown",
      "source": [
        "## 텐서 만들기\n",
        "- tensor 함수\n",
        "    - 입력 받은 데이터를 tensor 객체로 반환"
      ],
      "metadata": {
        "id": "ptelahqRdsNp"
      }
    },
    {
      "cell_type": "code",
      "source": [
        "data = [\n",
        "    [1,2,3],\n",
        "    [4,5,6]\n",
        "]\n",
        "\n",
        "x= torch.tensor(data)\n",
        "x"
      ],
      "metadata": {
        "colab": {
          "base_uri": "https://localhost:8080/"
        },
        "id": "3tuJehFRdACk",
        "outputId": "270a3865-8686-471f-823e-b3932c477390"
      },
      "execution_count": null,
      "outputs": [
        {
          "output_type": "execute_result",
          "data": {
            "text/plain": [
              "tensor([[1, 2, 3],\n",
              "        [4, 5, 6]])"
            ]
          },
          "metadata": {},
          "execution_count": 2
        }
      ]
    },
    {
      "cell_type": "code",
      "source": [
        "type(x)"
      ],
      "metadata": {
        "colab": {
          "base_uri": "https://localhost:8080/"
        },
        "id": "OxbCUIbJeEHE",
        "outputId": "6e48971d-74aa-4ed6-f36a-d0d399465e59"
      },
      "execution_count": null,
      "outputs": [
        {
          "output_type": "execute_result",
          "data": {
            "text/plain": [
              "torch.Tensor"
            ]
          },
          "metadata": {},
          "execution_count": 3
        }
      ]
    },
    {
      "cell_type": "code",
      "source": [
        "x.dtype"
      ],
      "metadata": {
        "colab": {
          "base_uri": "https://localhost:8080/"
        },
        "id": "cOTdlJ75eTft",
        "outputId": "3a8bdea8-1b92-4644-95a7-d0ef0fbd0f70"
      },
      "execution_count": null,
      "outputs": [
        {
          "output_type": "execute_result",
          "data": {
            "text/plain": [
              "torch.int64"
            ]
          },
          "metadata": {},
          "execution_count": 4
        }
      ]
    },
    {
      "cell_type": "code",
      "source": [
        "arr = np.array(data)\n",
        "torch.tensor(arr)"
      ],
      "metadata": {
        "colab": {
          "base_uri": "https://localhost:8080/"
        },
        "id": "BhhrElA-eU3t",
        "outputId": "0f70950c-7c13-4dfe-ddd8-d71aa4707e97"
      },
      "execution_count": null,
      "outputs": [
        {
          "output_type": "execute_result",
          "data": {
            "text/plain": [
              "tensor([[1, 2, 3],\n",
              "        [4, 5, 6]])"
            ]
          },
          "metadata": {},
          "execution_count": 5
        }
      ]
    },
    {
      "cell_type": "markdown",
      "source": [
        "- Tensor 클래스\n",
        "    - 입력받은 데이터를 텐서 객체로 변환\n",
        "    - 어떤 타입이 들어와도 데이터 타입은 float32로 변경해준다."
      ],
      "metadata": {
        "id": "s8psMG8xetQ6"
      }
    },
    {
      "cell_type": "code",
      "source": [
        "x = torch.Tensor(arr)\n",
        "x"
      ],
      "metadata": {
        "colab": {
          "base_uri": "https://localhost:8080/"
        },
        "id": "FCZvJiMCelDm",
        "outputId": "1e37619b-7dc2-4e01-91c4-9d617dcd352a"
      },
      "execution_count": null,
      "outputs": [
        {
          "output_type": "execute_result",
          "data": {
            "text/plain": [
              "tensor([[1., 2., 3.],\n",
              "        [4., 5., 6.]])"
            ]
          },
          "metadata": {},
          "execution_count": 6
        }
      ]
    },
    {
      "cell_type": "markdown",
      "source": [
        "- 슬라이싱, 마스킹, 인덱싱"
      ],
      "metadata": {
        "id": "6oiOLMnQi-YQ"
      }
    },
    {
      "cell_type": "code",
      "source": [
        "x[:,1:]"
      ],
      "metadata": {
        "colab": {
          "base_uri": "https://localhost:8080/"
        },
        "id": "lC1WIdB1fNac",
        "outputId": "613feceb-5196-4948-978e-dc70f13fa62a"
      },
      "execution_count": null,
      "outputs": [
        {
          "output_type": "execute_result",
          "data": {
            "text/plain": [
              "tensor([[2., 3.],\n",
              "        [5., 6.]])"
            ]
          },
          "metadata": {},
          "execution_count": 7
        }
      ]
    },
    {
      "cell_type": "markdown",
      "source": [
        "- ones, zeros"
      ],
      "metadata": {
        "id": "1QuB33nuj_tu"
      }
    },
    {
      "cell_type": "code",
      "source": [
        "ones_tensor = torch.ones(2,3)\n",
        "ones_tensor"
      ],
      "metadata": {
        "colab": {
          "base_uri": "https://localhost:8080/"
        },
        "id": "lytIMIxljXkk",
        "outputId": "b02d60b0-872e-4868-dc8a-8b7bcfa72f23"
      },
      "execution_count": null,
      "outputs": [
        {
          "output_type": "execute_result",
          "data": {
            "text/plain": [
              "tensor([[1., 1., 1.],\n",
              "        [1., 1., 1.]])"
            ]
          },
          "metadata": {},
          "execution_count": 8
        }
      ]
    },
    {
      "cell_type": "code",
      "source": [
        "zeros_tensor = torch.zeros(2,3)\n",
        "zeros_tensor"
      ],
      "metadata": {
        "colab": {
          "base_uri": "https://localhost:8080/"
        },
        "id": "Y7Ukqzdvj2zb",
        "outputId": "7388438b-881f-432a-9ed8-da704949a431"
      },
      "execution_count": null,
      "outputs": [
        {
          "output_type": "execute_result",
          "data": {
            "text/plain": [
              "tensor([[0., 0., 0.],\n",
              "        [0., 0., 0.]])"
            ]
          },
          "metadata": {},
          "execution_count": 9
        }
      ]
    },
    {
      "cell_type": "code",
      "source": [
        "torch.cat([ones_tensor,zeros_tensor],dim=1) # dim = axis"
      ],
      "metadata": {
        "colab": {
          "base_uri": "https://localhost:8080/"
        },
        "id": "MHTGHWILkLMW",
        "outputId": "a72e7367-4bee-41eb-cccc-fcc2652da7bc"
      },
      "execution_count": null,
      "outputs": [
        {
          "output_type": "execute_result",
          "data": {
            "text/plain": [
              "tensor([[1., 1., 1., 0., 0., 0.],\n",
              "        [1., 1., 1., 0., 0., 0.]])"
            ]
          },
          "metadata": {},
          "execution_count": 10
        }
      ]
    },
    {
      "cell_type": "markdown",
      "source": [
        "# 차원 변경\n",
        "- view 메소드 ( reshape )\n",
        "    - 원소의 **순서대로** 차원을 변경해서 반환"
      ],
      "metadata": {
        "id": "svju7mdckqbH"
      }
    },
    {
      "cell_type": "code",
      "source": [
        "arr"
      ],
      "metadata": {
        "colab": {
          "base_uri": "https://localhost:8080/"
        },
        "id": "u0gJ6NtgkRy4",
        "outputId": "024e1335-fd30-49db-e3a2-64893e04d2f5"
      },
      "execution_count": null,
      "outputs": [
        {
          "output_type": "execute_result",
          "data": {
            "text/plain": [
              "array([[1, 2, 3],\n",
              "       [4, 5, 6]])"
            ]
          },
          "metadata": {},
          "execution_count": 11
        }
      ]
    },
    {
      "cell_type": "code",
      "source": [
        "x = torch.Tensor(arr) # 클래스 Torch\n",
        "x # 2행 3열"
      ],
      "metadata": {
        "colab": {
          "base_uri": "https://localhost:8080/"
        },
        "id": "vDlZmONXk8Nb",
        "outputId": "26dadfdc-f955-4b24-b430-682059771c33"
      },
      "execution_count": null,
      "outputs": [
        {
          "output_type": "execute_result",
          "data": {
            "text/plain": [
              "tensor([[1., 2., 3.],\n",
              "        [4., 5., 6.]])"
            ]
          },
          "metadata": {},
          "execution_count": 12
        }
      ]
    },
    {
      "cell_type": "code",
      "source": [
        "# 3행 2열\n",
        "x_view = x.view(3,2) \n",
        "x_view"
      ],
      "metadata": {
        "colab": {
          "base_uri": "https://localhost:8080/"
        },
        "id": "u9C2uTnUlBSq",
        "outputId": "d7926810-175c-46d7-a437-78d3eca4112b"
      },
      "execution_count": null,
      "outputs": [
        {
          "output_type": "execute_result",
          "data": {
            "text/plain": [
              "tensor([[1., 2.],\n",
              "        [3., 4.],\n",
              "        [5., 6.]])"
            ]
          },
          "metadata": {},
          "execution_count": 13
        }
      ]
    },
    {
      "cell_type": "code",
      "source": [
        "x_view[0,0] = 100\n",
        "x # 메모리를 공유해서 x의 데이터가 바뀔수도있다."
      ],
      "metadata": {
        "colab": {
          "base_uri": "https://localhost:8080/"
        },
        "id": "uwQ3XuqjlaeL",
        "outputId": "abf2c60b-9b2e-44fd-edc9-c6d5fb1e6f42"
      },
      "execution_count": null,
      "outputs": [
        {
          "output_type": "execute_result",
          "data": {
            "text/plain": [
              "tensor([[100.,   2.,   3.],\n",
              "        [  4.,   5.,   6.]])"
            ]
          },
          "metadata": {},
          "execution_count": 14
        }
      ]
    },
    {
      "cell_type": "markdown",
      "source": [
        "- 복사하기"
      ],
      "metadata": {
        "id": "TwaoI_OCl3RF"
      }
    },
    {
      "cell_type": "code",
      "source": [
        "x.clone()"
      ],
      "metadata": {
        "colab": {
          "base_uri": "https://localhost:8080/"
        },
        "id": "x3nP8lULla0U",
        "outputId": "cd061980-2f10-420e-9d4f-9371f46960f1"
      },
      "execution_count": null,
      "outputs": [
        {
          "output_type": "execute_result",
          "data": {
            "text/plain": [
              "tensor([[100.,   2.,   3.],\n",
              "        [  4.,   5.,   6.]])"
            ]
          },
          "metadata": {},
          "execution_count": 15
        }
      ]
    },
    {
      "cell_type": "markdown",
      "source": [
        "- transpose 메소드\n",
        "    - 차원 맞바꾸기\n",
        "    - 2개의 차원만 가능"
      ],
      "metadata": {
        "id": "VTuVOp4EmKyf"
      }
    },
    {
      "cell_type": "code",
      "source": [
        "x"
      ],
      "metadata": {
        "colab": {
          "base_uri": "https://localhost:8080/"
        },
        "id": "ry3kyhPimqvF",
        "outputId": "afa4307b-b0fb-4686-f337-ff787e6ac671"
      },
      "execution_count": null,
      "outputs": [
        {
          "output_type": "execute_result",
          "data": {
            "text/plain": [
              "tensor([[100.,   2.,   3.],\n",
              "        [  4.,   5.,   6.]])"
            ]
          },
          "metadata": {},
          "execution_count": 16
        }
      ]
    },
    {
      "cell_type": "code",
      "source": [
        "x.transpose(0,1)"
      ],
      "metadata": {
        "colab": {
          "base_uri": "https://localhost:8080/"
        },
        "id": "VZa5WkLll6iY",
        "outputId": "81eb3c4f-ecbc-41da-f4a4-1640ed04fd9a"
      },
      "execution_count": null,
      "outputs": [
        {
          "output_type": "execute_result",
          "data": {
            "text/plain": [
              "tensor([[100.,   4.],\n",
              "        [  2.,   5.],\n",
              "        [  3.,   6.]])"
            ]
          },
          "metadata": {},
          "execution_count": 17
        }
      ]
    },
    {
      "cell_type": "markdown",
      "source": [
        "- permute 메소드\n",
        "    - 여러개의 차원 맞바꾸기"
      ],
      "metadata": {
        "id": "NLYiTdRkm58C"
      }
    },
    {
      "cell_type": "code",
      "source": [
        "arr = np.arange(1,25).reshape(2,3,4) # 3차원 데이터\n",
        "arr"
      ],
      "metadata": {
        "colab": {
          "base_uri": "https://localhost:8080/"
        },
        "id": "8vSLORHRmgLb",
        "outputId": "7a323868-540f-41ff-e7ea-2dcc3b09a523"
      },
      "execution_count": null,
      "outputs": [
        {
          "output_type": "execute_result",
          "data": {
            "text/plain": [
              "array([[[ 1,  2,  3,  4],\n",
              "        [ 5,  6,  7,  8],\n",
              "        [ 9, 10, 11, 12]],\n",
              "\n",
              "       [[13, 14, 15, 16],\n",
              "        [17, 18, 19, 20],\n",
              "        [21, 22, 23, 24]]])"
            ]
          },
          "metadata": {},
          "execution_count": 18
        }
      ]
    },
    {
      "cell_type": "code",
      "source": [
        "x = torch.Tensor(arr)\n",
        "x"
      ],
      "metadata": {
        "colab": {
          "base_uri": "https://localhost:8080/"
        },
        "id": "zoRcG2r5nGyH",
        "outputId": "5b6a0d47-7acd-443a-c01e-c33c250ccaa7"
      },
      "execution_count": null,
      "outputs": [
        {
          "output_type": "execute_result",
          "data": {
            "text/plain": [
              "tensor([[[ 1.,  2.,  3.,  4.],\n",
              "         [ 5.,  6.,  7.,  8.],\n",
              "         [ 9., 10., 11., 12.]],\n",
              "\n",
              "        [[13., 14., 15., 16.],\n",
              "         [17., 18., 19., 20.],\n",
              "         [21., 22., 23., 24.]]])"
            ]
          },
          "metadata": {},
          "execution_count": 19
        }
      ]
    },
    {
      "cell_type": "code",
      "source": [
        "x.shape"
      ],
      "metadata": {
        "colab": {
          "base_uri": "https://localhost:8080/"
        },
        "id": "IDMAAfLpnTwy",
        "outputId": "dbfe1d38-18d1-4f7d-a875-a5c6c78948e0"
      },
      "execution_count": null,
      "outputs": [
        {
          "output_type": "execute_result",
          "data": {
            "text/plain": [
              "torch.Size([2, 3, 4])"
            ]
          },
          "metadata": {},
          "execution_count": 20
        }
      ]
    },
    {
      "cell_type": "code",
      "source": [
        "x.permute(0,2,1).shape # 첫번째 차원 그대로 두고, 2번째와 3번째를 맞바꾼다."
      ],
      "metadata": {
        "colab": {
          "base_uri": "https://localhost:8080/"
        },
        "id": "tsvnmoQZneBU",
        "outputId": "db865532-d5d6-4238-9406-2d7641d8c4ef"
      },
      "execution_count": null,
      "outputs": [
        {
          "output_type": "execute_result",
          "data": {
            "text/plain": [
              "torch.Size([2, 4, 3])"
            ]
          },
          "metadata": {},
          "execution_count": 21
        }
      ]
    },
    {
      "cell_type": "markdown",
      "source": [
        "# 모델 학습에 사용할 CPU or GPU 장치 확인"
      ],
      "metadata": {
        "id": "CIi_dTainzx2"
      }
    },
    {
      "cell_type": "code",
      "source": [
        "torch.cuda.is_available() # GPU인지 아닌지"
      ],
      "metadata": {
        "colab": {
          "base_uri": "https://localhost:8080/"
        },
        "id": "IU3zRs9knnrV",
        "outputId": "e282755a-5b5f-4d4f-d5ab-deeb549d5a68"
      },
      "execution_count": null,
      "outputs": [
        {
          "output_type": "execute_result",
          "data": {
            "text/plain": [
              "True"
            ]
          },
          "metadata": {},
          "execution_count": 22
        }
      ]
    },
    {
      "cell_type": "code",
      "source": [
        "device = \"cuda\" if torch.cuda.is_available() else \"cpu\"\n",
        "device"
      ],
      "metadata": {
        "colab": {
          "base_uri": "https://localhost:8080/",
          "height": 35
        },
        "id": "0AiohVc0oBX5",
        "outputId": "0a0bde96-dc95-475d-c15f-0084ed854efe"
      },
      "execution_count": null,
      "outputs": [
        {
          "output_type": "execute_result",
          "data": {
            "text/plain": [
              "'cuda'"
            ],
            "application/vnd.google.colaboratory.intrinsic+json": {
              "type": "string"
            }
          },
          "metadata": {},
          "execution_count": 23
        }
      ]
    },
    {
      "cell_type": "markdown",
      "source": [
        "- 텐서를 gpu로 이동시키기"
      ],
      "metadata": {
        "id": "xL98CHBnoa_b"
      }
    },
    {
      "cell_type": "code",
      "source": [
        "x = x.to(device)\n",
        "x"
      ],
      "metadata": {
        "colab": {
          "base_uri": "https://localhost:8080/"
        },
        "id": "TPkcVt57oSLk",
        "outputId": "8f78f3ac-ea2a-4b44-d6e0-2979c230c65d"
      },
      "execution_count": null,
      "outputs": [
        {
          "output_type": "execute_result",
          "data": {
            "text/plain": [
              "tensor([[[ 1.,  2.,  3.,  4.],\n",
              "         [ 5.,  6.,  7.,  8.],\n",
              "         [ 9., 10., 11., 12.]],\n",
              "\n",
              "        [[13., 14., 15., 16.],\n",
              "         [17., 18., 19., 20.],\n",
              "         [21., 22., 23., 24.]]], device='cuda:0')"
            ]
          },
          "metadata": {},
          "execution_count": 24
        }
      ]
    },
    {
      "cell_type": "markdown",
      "source": [
        "- 텐서가 위치한 장치 확인하기"
      ],
      "metadata": {
        "id": "iOrLr8tiotsK"
      }
    },
    {
      "cell_type": "code",
      "source": [
        "x.device"
      ],
      "metadata": {
        "colab": {
          "base_uri": "https://localhost:8080/"
        },
        "id": "xuwOXMw4og3Z",
        "outputId": "222cf5e4-e285-499c-91e3-fb59ec9e72d2"
      },
      "execution_count": null,
      "outputs": [
        {
          "output_type": "execute_result",
          "data": {
            "text/plain": [
              "device(type='cuda', index=0)"
            ]
          },
          "metadata": {},
          "execution_count": 25
        }
      ]
    },
    {
      "cell_type": "code",
      "source": [
        "# CPU로 이동\n",
        "x = x.to(\"cpu\")\n",
        "x.device"
      ],
      "metadata": {
        "colab": {
          "base_uri": "https://localhost:8080/"
        },
        "id": "_vCZm7tUowPu",
        "outputId": "f6ca46d0-43aa-4934-8064-01be6f5f9941"
      },
      "execution_count": null,
      "outputs": [
        {
          "output_type": "execute_result",
          "data": {
            "text/plain": [
              "device(type='cpu')"
            ]
          },
          "metadata": {},
          "execution_count": 26
        }
      ]
    },
    {
      "cell_type": "markdown",
      "source": [
        "# 타이타닉 데이터를 pytorch로 만든후 딥러닝 학습해보자!"
      ],
      "metadata": {
        "id": "C4X8rBYIpNvt"
      }
    },
    {
      "cell_type": "code",
      "source": [
        "from google.colab import drive\n",
        "drive.mount(\"/content/drive\")\n",
        "DATA_PATH = \"/content/drive/MyDrive/Colab Notebooks/02.Data/\""
      ],
      "metadata": {
        "colab": {
          "base_uri": "https://localhost:8080/"
        },
        "id": "teDCsxWrphqS",
        "outputId": "5b7bdee3-8284-41f4-ae8c-7f6a25ec8c8a"
      },
      "execution_count": null,
      "outputs": [
        {
          "output_type": "stream",
          "name": "stdout",
          "text": [
            "Drive already mounted at /content/drive; to attempt to forcibly remount, call drive.mount(\"/content/drive\", force_remount=True).\n"
          ]
        }
      ]
    },
    {
      "cell_type": "code",
      "source": [
        "import pandas as pd\n",
        "from sklearn.preprocessing import OneHotEncoder\n",
        "from sklearn.model_selection import train_test_split\n",
        "from sklearn.model_selection import cross_val_score\n",
        "from sklearn.model_selection import KFold\n",
        "from lightgbm import LGBMClassifier\n",
        "df = pd.read_csv(f\"{DATA_PATH}titanic.csv\")\n",
        "# 결측치 미리 채우기\n",
        "df.age = df.age.fillna(df.age.median()) # age 중앙값\n",
        "df.fare = df.fare.fillna(df.fare.median()) # fare 중앙값\n",
        "df.cabin = df.cabin.fillna(\"UNK\") # cabin 임의의 문자열로 채우기\n",
        "df.embarked = df.embarked.fillna(df.embarked.mode()[0]) # embarked 최빈값\n",
        "# 학습에 바로 사용가능한 특성\n",
        "cols = [\"pclass\",\"age\",\"sibsp\",\"parch\",\"fare\"]\n",
        "features = df[cols]\n",
        "# 범주형 one-hot encoding\n",
        "cols = [\"gender\",\"embarked\"]\n",
        "enc = OneHotEncoder()\n",
        "tmp = pd.DataFrame(\n",
        "    enc.fit_transform(df[cols]).toarray(),\n",
        "    columns = enc.get_feature_names_out()\n",
        ")\n",
        "features = pd.concat([features,tmp],axis=1) # 특성\n",
        "target = df[\"survived\"].to_numpy() # 정답값\n",
        "# 스케일링\n",
        "from sklearn.preprocessing import MinMaxScaler\n",
        "scaler = MinMaxScaler()\n",
        "features = scaler.fit_transform(features)\n",
        "SEED = 42\n",
        "# 학습 검증 나누기\n",
        "from sklearn.model_selection import train_test_split\n",
        "x_train, x_valid, y_train, y_valid = train_test_split(features, target, random_state=SEED)\n",
        "x_train.shape, x_valid.shape, y_train.shape, y_valid.shape"
      ],
      "metadata": {
        "colab": {
          "base_uri": "https://localhost:8080/"
        },
        "id": "b1GNJSuso1WQ",
        "outputId": "190db167-4afc-47f4-aaa2-3d8d31b19a6d"
      },
      "execution_count": null,
      "outputs": [
        {
          "output_type": "execute_result",
          "data": {
            "text/plain": [
              "((981, 10), (328, 10), (981,), (328,))"
            ]
          },
          "metadata": {},
          "execution_count": 31
        }
      ]
    },
    {
      "cell_type": "markdown",
      "source": [
        "# 미니 배치 학습을 위한 데이터셋\n",
        "## Dataset와 DataLoader\n",
        "- torch.utils.data.Dataset\n",
        "    - 내가 저장한 학습데이터와 정답데이터를 인덱싱을 통해 반환하는 클래스\n",
        "- torch.utils.data.DataLoader\n",
        "    - Dataset의 데이터를 쉽게 접근할 수 있도록 iterable한 객체로 만들어준다."
      ],
      "metadata": {
        "id": "CVhMTsRCq-6v"
      }
    },
    {
      "cell_type": "code",
      "source": [
        "torch.utils.data.Dataset\n",
        "torch.utils.data.DataLoader"
      ],
      "metadata": {
        "colab": {
          "base_uri": "https://localhost:8080/"
        },
        "id": "HuPRu4skrCcV",
        "outputId": "8de3f5e5-8735-48a6-9db2-4f1d53ea1c4c"
      },
      "execution_count": null,
      "outputs": [
        {
          "output_type": "execute_result",
          "data": {
            "text/plain": [
              "torch.utils.data.dataloader.DataLoader"
            ]
          },
          "metadata": {},
          "execution_count": 32
        }
      ]
    },
    {
      "cell_type": "markdown",
      "source": [
        "- `필수`로 구현해야 할 매직메소드 3가지\n",
        "    - init : 데이터셋의 전처리를 해주는 부분\n",
        "    - len : 데이터셋의 길이. 즉, 총 샘플의 수를 적어주는 부분\n",
        "    - getitem : 데이터셋에서 특정 1개의 샘플을 가져오는 함수"
      ],
      "metadata": {
        "id": "orvk67qgsS5o"
      }
    },
    {
      "cell_type": "code",
      "source": [
        "class TitanicDB(torch.utils.data.Dataset):\n",
        "    def __init__(self,x,y=None): # 정답값이 없는 경우를 가정해서 디폴트 파라미터 `None`을 정의 \n",
        "        self.x = x\n",
        "        self.y = y\n",
        "        if self.y is not None:\n",
        "            self.y = y.astype(\"float32\").reshape(-1,1)\n",
        "\n",
        "    def __len__(self): \n",
        "        return self.x.shape[0]\n",
        "\n",
        "    def __getitem__(self,idx): \n",
        "        item = {} # 딕셔너리로 넣어보자\n",
        "        item[\"x\"] = torch.Tensor(self.x[idx])\n",
        "\n",
        "        if self.y is not None:\n",
        "            item[\"y\"] = torch.Tensor(self.y[idx])\n",
        "\n",
        "        return item"
      ],
      "metadata": {
        "id": "GSNAtAl8sIln"
      },
      "execution_count": null,
      "outputs": []
    },
    {
      "cell_type": "code",
      "source": [
        "# 파이토치에서는 1차원 데이터는 학습이 안됨 - > 2차원으로 reshape하자.\n",
        "y_train.reshape(-1,1).shape"
      ],
      "metadata": {
        "colab": {
          "base_uri": "https://localhost:8080/"
        },
        "id": "SNpPS_fwwywC",
        "outputId": "ac10fde8-c835-4c31-b1bb-0a2ea0ae43ca"
      },
      "execution_count": null,
      "outputs": [
        {
          "output_type": "execute_result",
          "data": {
            "text/plain": [
              "(981, 1)"
            ]
          },
          "metadata": {},
          "execution_count": 34
        }
      ]
    },
    {
      "cell_type": "code",
      "source": [
        "tr_dt = TitanicDB(x_train,y_train)\n",
        "tr_dt"
      ],
      "metadata": {
        "colab": {
          "base_uri": "https://localhost:8080/"
        },
        "id": "1F_45SpRwyta",
        "outputId": "83a5dd4e-5c70-4c1e-eaa3-990d43335ff2"
      },
      "execution_count": null,
      "outputs": [
        {
          "output_type": "execute_result",
          "data": {
            "text/plain": [
              "<__main__.TitanicDB at 0x7f6c9dd6e850>"
            ]
          },
          "metadata": {},
          "execution_count": 35
        }
      ]
    },
    {
      "cell_type": "code",
      "source": [
        "tr_dt[1]"
      ],
      "metadata": {
        "colab": {
          "base_uri": "https://localhost:8080/"
        },
        "id": "cXLV-T9IwyrL",
        "outputId": "35a9e0e0-836c-46e0-f7ed-f98dde3e4349"
      },
      "execution_count": null,
      "outputs": [
        {
          "output_type": "execute_result",
          "data": {
            "text/plain": [
              "{'x': tensor([1.0000, 0.5365, 0.1250, 0.6667, 0.0915, 1.0000, 0.0000, 0.0000, 0.0000,\n",
              "         1.0000]), 'y': tensor([0.])}"
            ]
          },
          "metadata": {},
          "execution_count": 36
        }
      ]
    },
    {
      "cell_type": "markdown",
      "source": [
        "- 미니 배치 단위로 꺼낼수 있는 iterable한 객체"
      ],
      "metadata": {
        "id": "9zdjUlIUzYbC"
      }
    },
    {
      "cell_type": "code",
      "source": [
        "tr_dl = torch.utils.data.DataLoader(tr_dt,batch_size=2,shuffle=False)\n",
        "tr_dl"
      ],
      "metadata": {
        "colab": {
          "base_uri": "https://localhost:8080/"
        },
        "id": "LvtnjX4rwyo7",
        "outputId": "69253cd0-7903-4a0f-df16-b73e947e3f07"
      },
      "execution_count": null,
      "outputs": [
        {
          "output_type": "execute_result",
          "data": {
            "text/plain": [
              "<torch.utils.data.dataloader.DataLoader at 0x7f6c4ba1d6d0>"
            ]
          },
          "metadata": {},
          "execution_count": 37
        }
      ]
    },
    {
      "cell_type": "code",
      "source": [
        "# iterable한 객체의 특징 살려 for문으로 꺼내기\n",
        "next(iter(tr_dl))"
      ],
      "metadata": {
        "colab": {
          "base_uri": "https://localhost:8080/"
        },
        "id": "W2JLhuW0wym2",
        "outputId": "477fda9b-0cb9-4961-b5bb-32ae19ba6c3e"
      },
      "execution_count": null,
      "outputs": [
        {
          "output_type": "execute_result",
          "data": {
            "text/plain": [
              "{'x': tensor([[0.5000, 0.3611, 0.1250, 0.0000, 0.0507, 1.0000, 0.0000, 0.0000, 0.0000,\n",
              "          1.0000],\n",
              "         [1.0000, 0.5365, 0.1250, 0.6667, 0.0915, 1.0000, 0.0000, 0.0000, 0.0000,\n",
              "          1.0000]]), 'y': tensor([[1.],\n",
              "         [0.]])}"
            ]
          },
          "metadata": {},
          "execution_count": 38
        }
      ]
    },
    {
      "cell_type": "markdown",
      "source": [
        "# 모델 계층 (Layer) 정의해보기\n",
        "- torch.nn.Linear (다중회귀)\n",
        "    - 가중치와 편향을 사용해서 입력에 대해 선형변환\n",
        "    - in_features\n",
        "        - 입력값의 개수\n",
        "    - out_features\n",
        "        - 출력값의 개수\n",
        "\n",
        "    "
      ],
      "metadata": {
        "id": "kE8AY4Wh0gWP"
      }
    },
    {
      "cell_type": "code",
      "source": [
        "x_train.shape[1] #입력값"
      ],
      "metadata": {
        "colab": {
          "base_uri": "https://localhost:8080/"
        },
        "id": "pmH1q9_n1l_B",
        "outputId": "debd11cc-bd44-48e7-88d7-3f78157ad88a"
      },
      "execution_count": null,
      "outputs": [
        {
          "output_type": "execute_result",
          "data": {
            "text/plain": [
              "10"
            ]
          },
          "metadata": {},
          "execution_count": 39
        }
      ]
    },
    {
      "cell_type": "code",
      "source": [
        "torch.manual_seed(SEED)\n",
        "torch.cuda.manual_seed(SEED)\n",
        "\n",
        "input_layer = torch.nn.Linear(x_train.shape[1],1)\n",
        "data = next(iter(tr_dl))\n",
        "\n",
        "hidden_layer = input_layer(data[\"x\"])\n",
        "hidden_layer"
      ],
      "metadata": {
        "colab": {
          "base_uri": "https://localhost:8080/"
        },
        "id": "iE-2tbm8z7ox",
        "outputId": "146dd5be-5e7c-4f38-cbc1-2f1dc485b91f"
      },
      "execution_count": null,
      "outputs": [
        {
          "output_type": "execute_result",
          "data": {
            "text/plain": [
              "tensor([[0.3096],\n",
              "        [0.6673]], grad_fn=<AddmmBackward0>)"
            ]
          },
          "metadata": {},
          "execution_count": 40
        }
      ]
    },
    {
      "cell_type": "code",
      "source": [],
      "metadata": {
        "id": "5jI4vr-bpf3S"
      },
      "execution_count": null,
      "outputs": []
    },
    {
      "cell_type": "markdown",
      "source": [
        "# 모델 만들기(신경망)\n",
        "- Pytorch에서 신경망 모델은 `torch.nn.Module`을 상속받아서 클래스를 생성하여 정의\n",
        "- `__init__`메소드에서는 신경망의 계층들을 정의\n",
        "- `forward`메소드는 신경망에서 텐서를 어떻게 전달할지를 지정 (`input_layer(data[\"x\"])`)"
      ],
      "metadata": {
        "id": "wBOB1vLm2zDg"
      }
    },
    {
      "cell_type": "code",
      "source": [
        "class LogisticRegression(torch.nn.Module):\n",
        "    def __init__(self,in_features):\n",
        "        super().__init__() # 부모클래스 생성자 초기화\n",
        "        self.hidden_layer = torch.nn.Linear(in_features, 1) # 예측값은 한개라 1로 지정\n",
        "        # self.sig = torch.nn.Sigmoid()\n",
        "        \n",
        "    def forward(self,x):\n",
        "        x = self.hidden_layer(x)\n",
        "        # x = self.sig(x)\n",
        "        return x"
      ],
      "metadata": {
        "id": "r5srW0aI2oj8"
      },
      "execution_count": null,
      "outputs": []
    },
    {
      "cell_type": "code",
      "source": [
        "model = LogisticRegression(x_train.shape[1])\n",
        "model(data[\"x\"])"
      ],
      "metadata": {
        "colab": {
          "base_uri": "https://localhost:8080/"
        },
        "id": "0zrBdPI74lEG",
        "outputId": "6c88fd5f-4053-4566-e44b-701e298f0b4d"
      },
      "execution_count": null,
      "outputs": [
        {
          "output_type": "execute_result",
          "data": {
            "text/plain": [
              "tensor([[0.0070],\n",
              "        [0.2196]], grad_fn=<AddmmBackward0>)"
            ]
          },
          "metadata": {},
          "execution_count": 42
        }
      ]
    },
    {
      "cell_type": "code",
      "source": [],
      "metadata": {
        "id": "MKr_fOxzpfbT"
      },
      "execution_count": null,
      "outputs": []
    },
    {
      "cell_type": "markdown",
      "source": [
        "# 모델 학습"
      ],
      "metadata": {
        "id": "ooCrImmcaUgY"
      }
    },
    {
      "cell_type": "code",
      "source": [
        "batch_size = 32 # 미니 배치 사이즈"
      ],
      "metadata": {
        "id": "UgXlhqNz4wLK"
      },
      "execution_count": null,
      "outputs": []
    },
    {
      "cell_type": "markdown",
      "source": [
        "- 손실함수 객체 생성"
      ],
      "metadata": {
        "id": "U24Bgcdmag-4"
      }
    },
    {
      "cell_type": "code",
      "source": [
        "loss_fn = torch.nn.BCEWithLogitsLoss()  # 모델 출력에 시그모이드 함수를 통과시켜 BCE 계산\n",
        "# torch.nn.BCELoss -> 시그모이드 함수를 통과했을 경우"
      ],
      "metadata": {
        "id": "xagUsskWadLU"
      },
      "execution_count": null,
      "outputs": []
    },
    {
      "cell_type": "markdown",
      "source": [
        "- 모델 객체 생성"
      ],
      "metadata": {
        "id": "I1zVZmaebGdI"
      }
    },
    {
      "cell_type": "code",
      "source": [
        "model = LogisticRegression(x_train.shape[1]).to(device) # 열부분 => in_features / GPU 연결\n",
        "model"
      ],
      "metadata": {
        "colab": {
          "base_uri": "https://localhost:8080/"
        },
        "id": "a9MaLBNebEtz",
        "outputId": "e772f444-2b8c-4038-dd44-0ddb89a5722d"
      },
      "execution_count": null,
      "outputs": [
        {
          "output_type": "execute_result",
          "data": {
            "text/plain": [
              "LogisticRegression(\n",
              "  (hidden_layer): Linear(in_features=10, out_features=1, bias=True)\n",
              ")"
            ]
          },
          "metadata": {},
          "execution_count": 45
        }
      ]
    },
    {
      "cell_type": "markdown",
      "source": [
        "- optimizer 객체 생성"
      ],
      "metadata": {
        "id": "t0uNUs6TbblA"
      }
    },
    {
      "cell_type": "code",
      "source": [
        "optimizer = torch.optim.Adam(model.parameters(),lr = 0.001)\n",
        "optimizer"
      ],
      "metadata": {
        "colab": {
          "base_uri": "https://localhost:8080/"
        },
        "id": "PqghxG2PbZvX",
        "outputId": "94effe80-a522-4e8f-dc15-cbaa442b87bf"
      },
      "execution_count": null,
      "outputs": [
        {
          "output_type": "execute_result",
          "data": {
            "text/plain": [
              "Adam (\n",
              "Parameter Group 0\n",
              "    amsgrad: False\n",
              "    betas: (0.9, 0.999)\n",
              "    capturable: False\n",
              "    eps: 1e-08\n",
              "    foreach: None\n",
              "    lr: 0.001\n",
              "    maximize: False\n",
              "    weight_decay: 0\n",
              ")"
            ]
          },
          "metadata": {},
          "execution_count": 46
        }
      ]
    },
    {
      "cell_type": "markdown",
      "source": [
        "- 학습데이터 객체 생성"
      ],
      "metadata": {
        "id": "i2zMN30Jb9vU"
      }
    },
    {
      "cell_type": "code",
      "source": [
        "tr_dt = TitanicDB(x_train, y_train)\n",
        "tr_dl = torch.utils.data.DataLoader(tr_dt,batch_size=batch_size,shuffle=True)"
      ],
      "metadata": {
        "id": "wkzeQiMDbzHQ"
      },
      "execution_count": null,
      "outputs": []
    },
    {
      "cell_type": "markdown",
      "source": [
        "- 학습하기"
      ],
      "metadata": {
        "id": "wnGr9mcacqUU"
      }
    },
    {
      "cell_type": "code",
      "source": [
        "#학습모드\n",
        "model.train()\n",
        "\n",
        "for batch in tr_dl: # batch단위로 32개씩 꺼내보다\n",
        "    # print(batch[\"x\"].shape)\n",
        "    # break\n",
        "    \n",
        "    pred = model(batch[\"x\"].to(device)) # 예측값\n",
        "    loss = loss_fn(pred,batch[\"y\"].to(device))# 손실값 = 손실함수(예측값 , 정답값)\n",
        "\n",
        "    optimizer.zero_grad() # 업데이트하기 전 초기화해야한다. optimizer는 계속해서 가중치를 더하기 때문에 누적되는걸 방지하려고\n",
        "    loss.backward() # 역전파\n",
        "    optimizer.step() # 가중치 업데이트\n",
        "\n",
        "    # 눈으로 확인하자\n",
        "    batch_loss = loss.item()\n",
        "\n",
        "    print(batch_loss)"
      ],
      "metadata": {
        "colab": {
          "base_uri": "https://localhost:8080/"
        },
        "id": "YF2bDxFzcY41",
        "outputId": "41d0a7eb-3d76-40e6-a90b-974c5c879d87"
      },
      "execution_count": null,
      "outputs": [
        {
          "output_type": "stream",
          "name": "stdout",
          "text": [
            "0.8552775382995605\n",
            "0.8094810247421265\n",
            "0.7808670401573181\n",
            "0.7204495668411255\n",
            "0.8219915628433228\n",
            "0.7556602954864502\n",
            "0.7610439658164978\n",
            "0.7750927209854126\n",
            "0.7307333946228027\n",
            "0.719779372215271\n",
            "0.8219393491744995\n",
            "0.7260306477546692\n",
            "0.7433394193649292\n",
            "0.796477735042572\n",
            "0.6766984462738037\n",
            "0.7297329306602478\n",
            "0.7290831804275513\n",
            "0.7860448360443115\n",
            "0.8214499950408936\n",
            "0.7375362515449524\n",
            "0.8051640391349792\n",
            "0.7580957412719727\n",
            "0.7366828322410583\n",
            "0.8105387687683105\n",
            "0.7641732692718506\n",
            "0.6817669868469238\n",
            "0.7784299254417419\n",
            "0.671754002571106\n",
            "0.7867832183837891\n",
            "0.7381082773208618\n",
            "0.776969313621521\n"
          ]
        }
      ]
    },
    {
      "cell_type": "code",
      "source": [],
      "metadata": {
        "id": "3Ato3NZLpd8C"
      },
      "execution_count": null,
      "outputs": []
    },
    {
      "cell_type": "code",
      "source": [
        "#학습모드\n",
        "model.train()\n",
        "\n",
        "epoch_loss = 0\n",
        "for batch in tr_dl: # batch단위로 32개씩 꺼내보다\n",
        "   \n",
        "    pred = model(batch[\"x\"].to(device)) # 예측값\n",
        "    loss = loss_fn(pred,batch[\"y\"].to(device))# 손실값 = 손실함수(예측값 , 정답값)\n",
        "\n",
        "    optimizer.zero_grad() # 업데이트하기 전 초기화해야한다. optimizer는 계속해서 가중치를 더하기 때문에 누적되는걸 방지하려고\n",
        "    loss.backward() # 역전파\n",
        "    optimizer.step() # 가중치 업데이트\n",
        "\n",
        "    # 눈으로 확인하자\n",
        "    epoch_loss += loss.item()\n",
        "epoch_loss /= len(tr_dl)\n",
        "\n",
        "print(f\"epoch_loss : {epoch_loss}\")"
      ],
      "metadata": {
        "id": "0FEFUmaedZ4z",
        "colab": {
          "base_uri": "https://localhost:8080/"
        },
        "outputId": "1b26102e-1c93-4e3e-d6f7-75e6590cb276"
      },
      "execution_count": null,
      "outputs": [
        {
          "output_type": "stream",
          "name": "stdout",
          "text": [
            "epoch_loss : 0.7423399359949173\n"
          ]
        }
      ]
    },
    {
      "cell_type": "code",
      "source": [],
      "metadata": {
        "id": "X-7AI5H0pdMK"
      },
      "execution_count": null,
      "outputs": []
    },
    {
      "cell_type": "markdown",
      "source": [
        "- 학습 loop 함수 만들기"
      ],
      "metadata": {
        "id": "53yTIIWUhl7b"
      }
    },
    {
      "cell_type": "markdown",
      "source": [
        "- 전역변수로 받는것들\n",
        "    - device, tr_dl,model객체,loss_fn,optimizer"
      ],
      "metadata": {
        "id": "lZ77xOufh5U7"
      }
    },
    {
      "cell_type": "code",
      "source": [
        "def train_loop(tr_dl,model,loss_fn,optimizer,device):\n",
        "    #학습모드\n",
        "    model.train()\n",
        "\n",
        "    epoch_loss = 0\n",
        "    for batch in tr_dl: # batch단위로 32개씩 꺼내보다\n",
        "    \n",
        "        pred = model(batch[\"x\"].to(device)) # 예측값\n",
        "        loss = loss_fn(pred,batch[\"y\"].to(device))# 손실값 = 손실함수(예측값 , 정답값)\n",
        "\n",
        "        optimizer.zero_grad() # 업데이트하기 전 초기화해야한다. optimizer는 계속해서 가중치를 더하기 때문에 누적되는걸 방지하려고\n",
        "        loss.backward() # 역전파\n",
        "        optimizer.step() # 가중치 업데이트\n",
        "\n",
        "        # 눈으로 확인하자\n",
        "        epoch_loss += loss.item()\n",
        "    epoch_loss /= len(tr_dl)\n",
        "\n",
        "    return epoch_loss"
      ],
      "metadata": {
        "id": "9pY9FnLRhely"
      },
      "execution_count": null,
      "outputs": []
    },
    {
      "cell_type": "code",
      "source": [
        "train_loop(tr_dl,model,loss_fn,optimizer,device)"
      ],
      "metadata": {
        "colab": {
          "base_uri": "https://localhost:8080/"
        },
        "id": "it-o63GtiRrk",
        "outputId": "7e3099fc-2528-4ff3-c4e7-ee1bc1dccc9a"
      },
      "execution_count": null,
      "outputs": [
        {
          "output_type": "execute_result",
          "data": {
            "text/plain": [
              "0.7280622509218031"
            ]
          },
          "metadata": {},
          "execution_count": 51
        }
      ]
    },
    {
      "cell_type": "code",
      "source": [],
      "metadata": {
        "id": "YTo54-6EpcJy"
      },
      "execution_count": null,
      "outputs": []
    },
    {
      "cell_type": "markdown",
      "source": [
        "- foldout으로 만든 검증셋에 대한 평가 loop 함수 만들기"
      ],
      "metadata": {
        "id": "bAkAKrs6iv87"
      }
    },
    {
      "cell_type": "code",
      "source": [
        "@torch.no_grad() # => with torch.no_grad()를 데코레이터화 # 평가할때는 가중치 업데이트 할 필요가 없기에 Gradient를 구할 필요가 없다.\n",
        "def test_loop(dataloader,model,loss_fn,device): # 평가할땐 가중치(optimizer)는 필요 없을듯?\n",
        "    epoch_loss = 0\n",
        "    model.eval() # 모델모드를 eval로 변경하기! -> 평가모드 / 모델의 랜덤적인 요소를 뜻한다.\n",
        "  # 결론. torch.no_grad()와  eval()은 다른 의미라 두가지를 꼭 같이 써야한다.\n",
        "    \n",
        "    for batch in dataloader:\n",
        "        pred = model(batch[\"x\"].to(device))\n",
        "        loss = loss_fn(pred,batch[\"y\"].to(device))\n",
        "\n",
        "        epoch_loss += loss.item()\n",
        "\n",
        "    epoch_loss /= len(tr_dl)\n",
        "    return epoch_loss"
      ],
      "metadata": {
        "id": "gZu1NYD4iVhG"
      },
      "execution_count": null,
      "outputs": []
    },
    {
      "cell_type": "code",
      "source": [
        "valid_dt = TitanicDB(x_valid,y_valid)\n",
        "valid_dl = torch.utils.data.DataLoader(valid_dt,batch_size=batch_size,shuffle=False)"
      ],
      "metadata": {
        "id": "_yTtm9G6kZbY"
      },
      "execution_count": null,
      "outputs": []
    },
    {
      "cell_type": "code",
      "source": [
        "test_loop(valid_dl,model,loss_fn,device) # 평가에 대한 손실점수"
      ],
      "metadata": {
        "colab": {
          "base_uri": "https://localhost:8080/"
        },
        "id": "Hh66g5YaoA-G",
        "outputId": "fb2fc6b0-860b-4938-cb4f-b55826c23c85"
      },
      "execution_count": null,
      "outputs": [
        {
          "output_type": "execute_result",
          "data": {
            "text/plain": [
              "0.2621518854171999"
            ]
          },
          "metadata": {},
          "execution_count": 54
        }
      ]
    },
    {
      "cell_type": "code",
      "source": [],
      "metadata": {
        "id": "dCeNAJWuoFcR"
      },
      "execution_count": null,
      "outputs": []
    },
    {
      "cell_type": "markdown",
      "source": [
        "- 검증평가 뿐만 아니라 테스트데이터에 대한 예측만 해야하는 상황이라면?"
      ],
      "metadata": {
        "id": "FxjRqb4GpiNd"
      }
    },
    {
      "cell_type": "code",
      "source": [
        "@torch.no_grad() \n",
        "def test_loop(dataloader,model,loss_fn,device): \n",
        "    epoch_loss = 0\n",
        "    model.eval() \n",
        "    \n",
        "    pred_list=[]\n",
        "    sig = torch.nn.Sigmoid()\n",
        "\n",
        "\n",
        "    for batch in dataloader:\n",
        "        pred = model(batch[\"x\"].to(device))\n",
        "\n",
        "        if batch.get(\"y\") is not None:  # y값이 있을 경우만 loss 계산\n",
        "            loss = loss_fn(pred,batch[\"y\"].to(device))\n",
        "            epoch_loss += loss.item()\n",
        "\n",
        "        pred = sig(pred)    # 0 ~ 1 확률값으로 변경\n",
        "        pred = pred.to(\"cpu\").numpy() # cpu로 이동후 시그모이드 함수로 계산한 예측값을 넘파이로 변환\n",
        "        pred_list.append(pred)\n",
        "\n",
        "    epoch_loss /= len(tr_dl)\n",
        "    pred = np.concatenate(pred_list)\n",
        "    return epoch_loss, pred"
      ],
      "metadata": {
        "id": "rp8wKWOqphea"
      },
      "execution_count": null,
      "outputs": []
    },
    {
      "cell_type": "code",
      "source": [
        "x_test = x_valid.copy() # 테스트 데이터라 가정하고 복사"
      ],
      "metadata": {
        "id": "VcZShueXq1VQ"
      },
      "execution_count": null,
      "outputs": []
    },
    {
      "cell_type": "code",
      "source": [
        "test_dt = TitanicDB(x_test)\n",
        "test_dl = torch.utils.data.DataLoader(test_dt,batch_size=batch_size,shuffle=False)\n",
        "\n",
        "_,pred = test_loop(valid_dl,model,loss_fn,device)\n",
        "pred"
      ],
      "metadata": {
        "colab": {
          "base_uri": "https://localhost:8080/"
        },
        "id": "xLNSJNSRrCo7",
        "outputId": "4ff3ffad-6a5b-40ef-8c20-3c956e8371d6"
      },
      "execution_count": null,
      "outputs": [
        {
          "output_type": "execute_result",
          "data": {
            "text/plain": [
              "array([[0.41537434],\n",
              "       [0.4885993 ],\n",
              "       [0.4153637 ],\n",
              "       [0.44930634],\n",
              "       [0.3699    ],\n",
              "       [0.2701432 ],\n",
              "       [0.3699    ],\n",
              "       [0.3548109 ],\n",
              "       [0.30778566],\n",
              "       [0.35687178],\n",
              "       [0.4109374 ],\n",
              "       [0.41647208],\n",
              "       [0.4321436 ],\n",
              "       [0.32594204],\n",
              "       [0.41593555],\n",
              "       [0.35392395],\n",
              "       [0.36721602],\n",
              "       [0.41535503],\n",
              "       [0.39849582],\n",
              "       [0.42199805],\n",
              "       [0.45324385],\n",
              "       [0.41923115],\n",
              "       [0.40845147],\n",
              "       [0.40900478],\n",
              "       [0.42088932],\n",
              "       [0.4526423 ],\n",
              "       [0.4131696 ],\n",
              "       [0.4177313 ],\n",
              "       [0.4472998 ],\n",
              "       [0.31933865],\n",
              "       [0.4156244 ],\n",
              "       [0.35924748],\n",
              "       [0.36990106],\n",
              "       [0.41141   ],\n",
              "       [0.4836159 ],\n",
              "       [0.4725323 ],\n",
              "       [0.3762755 ],\n",
              "       [0.30622077],\n",
              "       [0.41536844],\n",
              "       [0.3222541 ],\n",
              "       [0.48689666],\n",
              "       [0.3292667 ],\n",
              "       [0.3699048 ],\n",
              "       [0.40821394],\n",
              "       [0.43650636],\n",
              "       [0.4470258 ],\n",
              "       [0.40179196],\n",
              "       [0.35735232],\n",
              "       [0.3699    ],\n",
              "       [0.35911956],\n",
              "       [0.3746823 ],\n",
              "       [0.34227884],\n",
              "       [0.4148122 ],\n",
              "       [0.46258542],\n",
              "       [0.34699848],\n",
              "       [0.47253543],\n",
              "       [0.419236  ],\n",
              "       [0.32017803],\n",
              "       [0.42134055],\n",
              "       [0.40765372],\n",
              "       [0.49314085],\n",
              "       [0.4725323 ],\n",
              "       [0.40758935],\n",
              "       [0.31331763],\n",
              "       [0.3421202 ],\n",
              "       [0.496905  ],\n",
              "       [0.3087463 ],\n",
              "       [0.34385583],\n",
              "       [0.41371566],\n",
              "       [0.46752575],\n",
              "       [0.41536844],\n",
              "       [0.48669067],\n",
              "       [0.37305015],\n",
              "       [0.41502813],\n",
              "       [0.4601108 ],\n",
              "       [0.48301953],\n",
              "       [0.36857733],\n",
              "       [0.41316476],\n",
              "       [0.3915012 ],\n",
              "       [0.45498186],\n",
              "       [0.40061763],\n",
              "       [0.4153356 ],\n",
              "       [0.44214767],\n",
              "       [0.44201112],\n",
              "       [0.41757494],\n",
              "       [0.41536844],\n",
              "       [0.46336645],\n",
              "       [0.46454373],\n",
              "       [0.3480664 ],\n",
              "       [0.37272546],\n",
              "       [0.3699    ],\n",
              "       [0.49688503],\n",
              "       [0.414792  ],\n",
              "       [0.26566595],\n",
              "       [0.41487905],\n",
              "       [0.33877456],\n",
              "       [0.41754377],\n",
              "       [0.49672544],\n",
              "       [0.35371265],\n",
              "       [0.32763162],\n",
              "       [0.41865197],\n",
              "       [0.41258812],\n",
              "       [0.41533366],\n",
              "       [0.3468413 ],\n",
              "       [0.31617683],\n",
              "       [0.36095265],\n",
              "       [0.34492657],\n",
              "       [0.4779545 ],\n",
              "       [0.42611304],\n",
              "       [0.3699    ],\n",
              "       [0.44981983],\n",
              "       [0.34442246],\n",
              "       [0.3699    ],\n",
              "       [0.40329227],\n",
              "       [0.34610787],\n",
              "       [0.41544634],\n",
              "       [0.37043437],\n",
              "       [0.30411693],\n",
              "       [0.41261894],\n",
              "       [0.3636913 ],\n",
              "       [0.40270752],\n",
              "       [0.35547817],\n",
              "       [0.36258572],\n",
              "       [0.36366114],\n",
              "       [0.41437465],\n",
              "       [0.26408184],\n",
              "       [0.31223023],\n",
              "       [0.49684808],\n",
              "       [0.4220652 ],\n",
              "       [0.33673984],\n",
              "       [0.36360726],\n",
              "       [0.3421135 ],\n",
              "       [0.40692613],\n",
              "       [0.35174608],\n",
              "       [0.45605996],\n",
              "       [0.4143277 ],\n",
              "       [0.3534159 ],\n",
              "       [0.43090546],\n",
              "       [0.3678519 ],\n",
              "       [0.41702533],\n",
              "       [0.4725323 ],\n",
              "       [0.26688266],\n",
              "       [0.49579972],\n",
              "       [0.42200875],\n",
              "       [0.41147962],\n",
              "       [0.2778176 ],\n",
              "       [0.40112874],\n",
              "       [0.34014705],\n",
              "       [0.3636365 ],\n",
              "       [0.41698098],\n",
              "       [0.41699913],\n",
              "       [0.49284893],\n",
              "       [0.41536844],\n",
              "       [0.4834923 ],\n",
              "       [0.2724397 ],\n",
              "       [0.34348843],\n",
              "       [0.44140244],\n",
              "       [0.3418317 ],\n",
              "       [0.4170147 ],\n",
              "       [0.3117047 ],\n",
              "       [0.45314494],\n",
              "       [0.36363637],\n",
              "       [0.41594985],\n",
              "       [0.36454025],\n",
              "       [0.41866735],\n",
              "       [0.40705866],\n",
              "       [0.41812527],\n",
              "       [0.3749262 ],\n",
              "       [0.41525823],\n",
              "       [0.4725323 ],\n",
              "       [0.35827744],\n",
              "       [0.31891343],\n",
              "       [0.42652324],\n",
              "       [0.35794914],\n",
              "       [0.49654785],\n",
              "       [0.40868676],\n",
              "       [0.31103426],\n",
              "       [0.36107162],\n",
              "       [0.4765    ],\n",
              "       [0.4298195 ],\n",
              "       [0.41537434],\n",
              "       [0.4725323 ],\n",
              "       [0.32014227],\n",
              "       [0.34179333],\n",
              "       [0.33061576],\n",
              "       [0.4153637 ],\n",
              "       [0.4672023 ],\n",
              "       [0.45601115],\n",
              "       [0.31115538],\n",
              "       [0.41535503],\n",
              "       [0.4570881 ],\n",
              "       [0.3757419 ],\n",
              "       [0.41728878],\n",
              "       [0.4035297 ],\n",
              "       [0.4318539 ],\n",
              "       [0.42092484],\n",
              "       [0.35757956],\n",
              "       [0.3699    ],\n",
              "       [0.45549646],\n",
              "       [0.49652293],\n",
              "       [0.41933227],\n",
              "       [0.31962478],\n",
              "       [0.33918855],\n",
              "       [0.45370793],\n",
              "       [0.29156056],\n",
              "       [0.40931484],\n",
              "       [0.45657468],\n",
              "       [0.41763207],\n",
              "       [0.42691633],\n",
              "       [0.41955376],\n",
              "       [0.45662346],\n",
              "       [0.3991829 ],\n",
              "       [0.5043379 ],\n",
              "       [0.41878656],\n",
              "       [0.4492729 ],\n",
              "       [0.4127377 ],\n",
              "       [0.3268249 ],\n",
              "       [0.35763383],\n",
              "       [0.41594985],\n",
              "       [0.49654785],\n",
              "       [0.42147863],\n",
              "       [0.3675369 ],\n",
              "       [0.44141182],\n",
              "       [0.3699144 ],\n",
              "       [0.4164674 ],\n",
              "       [0.34264615],\n",
              "       [0.44313192],\n",
              "       [0.36785206],\n",
              "       [0.4508943 ],\n",
              "       [0.41481525],\n",
              "       [0.2765057 ],\n",
              "       [0.40706298],\n",
              "       [0.39193347],\n",
              "       [0.39909187],\n",
              "       [0.3573103 ],\n",
              "       [0.45099306],\n",
              "       [0.35555688],\n",
              "       [0.45498186],\n",
              "       [0.3326114 ],\n",
              "       [0.4087646 ],\n",
              "       [0.484605  ],\n",
              "       [0.4708334 ],\n",
              "       [0.41481805],\n",
              "       [0.40285504],\n",
              "       [0.41316476],\n",
              "       [0.31807527],\n",
              "       [0.45265228],\n",
              "       [0.41702035],\n",
              "       [0.34787127],\n",
              "       [0.30564633],\n",
              "       [0.47809875],\n",
              "       [0.3698995 ],\n",
              "       [0.4562137 ],\n",
              "       [0.39988238],\n",
              "       [0.30235738],\n",
              "       [0.31718314],\n",
              "       [0.4358431 ],\n",
              "       [0.49199885],\n",
              "       [0.26566595],\n",
              "       [0.368812  ],\n",
              "       [0.34860775],\n",
              "       [0.35616127],\n",
              "       [0.33907363],\n",
              "       [0.45059484],\n",
              "       [0.37308222],\n",
              "       [0.32318136],\n",
              "       [0.3146738 ],\n",
              "       [0.42204565],\n",
              "       [0.38257483],\n",
              "       [0.4725004 ],\n",
              "       [0.41818076],\n",
              "       [0.4136588 ],\n",
              "       [0.34264615],\n",
              "       [0.44404176],\n",
              "       [0.45498186],\n",
              "       [0.4142406 ],\n",
              "       [0.40504327],\n",
              "       [0.42130613],\n",
              "       [0.49670544],\n",
              "       [0.395969  ],\n",
              "       [0.41535598],\n",
              "       [0.49390262],\n",
              "       [0.41539812],\n",
              "       [0.4464977 ],\n",
              "       [0.40424034],\n",
              "       [0.41756105],\n",
              "       [0.40437853],\n",
              "       [0.48065653],\n",
              "       [0.31446213],\n",
              "       [0.325565  ],\n",
              "       [0.4494704 ],\n",
              "       [0.4187553 ],\n",
              "       [0.36338162],\n",
              "       [0.3660052 ],\n",
              "       [0.37912035],\n",
              "       [0.4436386 ],\n",
              "       [0.37627482],\n",
              "       [0.32889247],\n",
              "       [0.4116876 ],\n",
              "       [0.30622077],\n",
              "       [0.3921581 ],\n",
              "       [0.3528149 ],\n",
              "       [0.34188807],\n",
              "       [0.4725323 ],\n",
              "       [0.40989262],\n",
              "       [0.34508717],\n",
              "       [0.44778472],\n",
              "       [0.3262991 ],\n",
              "       [0.4550473 ],\n",
              "       [0.49457666],\n",
              "       [0.44931078],\n",
              "       [0.36147678],\n",
              "       [0.43484297],\n",
              "       [0.3699    ],\n",
              "       [0.4543699 ],\n",
              "       [0.4186819 ],\n",
              "       [0.37497395],\n",
              "       [0.30298477],\n",
              "       [0.4175766 ],\n",
              "       [0.30778566],\n",
              "       [0.31767964],\n",
              "       [0.3720387 ],\n",
              "       [0.40047023],\n",
              "       [0.38665164],\n",
              "       [0.3441615 ],\n",
              "       [0.33475053],\n",
              "       [0.4156477 ],\n",
              "       [0.26588747]], dtype=float32)"
            ]
          },
          "metadata": {},
          "execution_count": 57
        }
      ]
    },
    {
      "cell_type": "markdown",
      "source": [
        "# 10 epoch 학습하고 검증평가해보기"
      ],
      "metadata": {
        "id": "arR3wovKtTEp"
      }
    },
    {
      "cell_type": "code",
      "source": [
        "# epoch 회수를 적절한 선까지만 학습하면 과적합을 막을 수 있다.!!\n",
        "# epoch : 데이터셋을 반복하는 횟수\n",
        "epochs = 10\n",
        "for epoch in range(epochs):\n",
        "    print(f\"{epoch+1}epoch 시작\")\n",
        "    train_loss = train_loop(tr_dl,model,loss_fn,optimizer,device)\n",
        "    valid_loss, pred = test_loop(valid_dl,model,loss_fn,device)\n",
        "    print(train_loss,valid_loss)"
      ],
      "metadata": {
        "colab": {
          "base_uri": "https://localhost:8080/"
        },
        "id": "p9EVPPBmrUwa",
        "outputId": "fbeeb9bc-0308-423b-c7e5-6d3ae1c35d4b"
      },
      "execution_count": null,
      "outputs": [
        {
          "output_type": "stream",
          "name": "stdout",
          "text": [
            "1epoch 시작\n",
            "0.7154597620810231 0.25783257715163693\n",
            "2epoch 시작\n",
            "0.7030032469380286 0.2536954552896561\n",
            "3epoch 시작\n",
            "0.6912644717001146 0.24977474443374142\n",
            "4epoch 시작\n",
            "0.6786216189784389 0.24579615554501932\n",
            "5epoch 시작\n",
            "0.6683917449366662 0.2421441847278226\n",
            "6epoch 시작\n",
            "0.6574752023143153 0.23859050196986045\n",
            "7epoch 시작\n",
            "0.6482571190403353 0.23502994929590532\n",
            "8epoch 시작\n",
            "0.6381099454818233 0.2314711251566487\n",
            "9epoch 시작\n",
            "0.629093966176433 0.22827498566719792\n",
            "10epoch 시작\n",
            "0.620566273889234 0.22504716919314477\n"
          ]
        }
      ]
    },
    {
      "cell_type": "markdown",
      "source": [
        "- roc점수 확인"
      ],
      "metadata": {
        "id": "eLphUQmCu24g"
      }
    },
    {
      "cell_type": "code",
      "source": [
        "from sklearn.metrics import roc_auc_score\n",
        "roc_auc_score(y_valid,pred)"
      ],
      "metadata": {
        "colab": {
          "base_uri": "https://localhost:8080/"
        },
        "id": "-SRlIoLrti73",
        "outputId": "c8e0d12b-52a1-49b3-c132-e4aad71d7833"
      },
      "execution_count": null,
      "outputs": [
        {
          "output_type": "execute_result",
          "data": {
            "text/plain": [
              "0.783159607858333"
            ]
          },
          "metadata": {},
          "execution_count": 59
        }
      ]
    },
    {
      "cell_type": "markdown",
      "source": [
        "# 정리하기!!"
      ],
      "metadata": {
        "id": "sP_vuiIPu1vT"
      }
    },
    {
      "cell_type": "markdown",
      "source": [
        "## DataSet 정의"
      ],
      "metadata": {
        "id": "W3VPJx4Au8kX"
      }
    },
    {
      "cell_type": "code",
      "source": [
        "class TitanicDB(torch.utils.data.Dataset):\n",
        "    def __init__(self,x,y=None): # 정답값이 없는 경우를 가정해서 디폴트 파라미터 `None`을 정의 \n",
        "        self.x = x\n",
        "        self.y = y\n",
        "        if self.y is not None:\n",
        "            self.y = y.astype(\"float32\").reshape(-1,1) # None일경우 error발생! , 정답값이 존재하므로 reshape을 한거임!\n",
        "\n",
        "    def __len__(self): \n",
        "        return self.x.shape[0]\n",
        "\n",
        "    def __getitem__(self,idx): \n",
        "        item = {} # 딕셔너리로 넣어보자\n",
        "        item[\"x\"] = torch.Tensor(self.x[idx])\n",
        "\n",
        "        if self.y is not None:\n",
        "            item[\"y\"] = torch.Tensor(self.y[idx]) # 함수타입의 tensor을 하면 float32로 반환할 수 없다.\n",
        "\n",
        "        return item"
      ],
      "metadata": {
        "id": "PwkmeY9Fur_2"
      },
      "execution_count": null,
      "outputs": []
    },
    {
      "cell_type": "markdown",
      "source": [
        "## 모델 정의"
      ],
      "metadata": {
        "id": "MCWFpcxYvJrx"
      }
    },
    {
      "cell_type": "code",
      "source": [
        "class LogisticRegression(torch.nn.Module):\n",
        "    def __init__(self,in_features):\n",
        "        super().__init__() # 부모클래스 생성자 초기화\n",
        "        self.hidden_layer = torch.nn.Linear(in_features, 1) # 예측값은 한 개라 노드 1개로 지정\n",
        "\n",
        "    def forward(self,x):\n",
        "        x = self.hidden_layer(x)\n",
        "        return x"
      ],
      "metadata": {
        "id": "clraHOp1vI17"
      },
      "execution_count": null,
      "outputs": []
    },
    {
      "cell_type": "markdown",
      "source": [
        "## 학습하는 함수 정의"
      ],
      "metadata": {
        "id": "TDDm6CUFvRNA"
      }
    },
    {
      "cell_type": "code",
      "source": [
        "def train_loop(tr_dl,model,loss_fn,optimizer,device):\n",
        "    #학습모드\n",
        "    model.train()\n",
        "\n",
        "    epoch_loss = 0\n",
        "    for batch in tr_dl: # batch단위로 32개씩 꺼내보다\n",
        "    \n",
        "        pred = model(batch[\"x\"].to(device)) # 예측값\n",
        "        loss = loss_fn(pred,batch[\"y\"].to(device))# 손실값 = 손실함수(예측값 , 정답값)\n",
        "\n",
        "        optimizer.zero_grad() # 업데이트하기 전 초기화해야한다. optimizer는 계속해서 가중치를 더하기 때문에 누적되는걸 방지하려고\n",
        "        loss.backward() # 역전파\n",
        "        optimizer.step() # 가중치 업데이트\n",
        "\n",
        "        # 눈으로 확인하자\n",
        "        epoch_loss += loss.item()\n",
        "    epoch_loss /= len(tr_dl)\n",
        "\n",
        "    return epoch_loss"
      ],
      "metadata": {
        "id": "PWzujhfWvbc_"
      },
      "execution_count": null,
      "outputs": []
    },
    {
      "cell_type": "markdown",
      "source": [
        "## 평가 or 예측하는 함수 정의"
      ],
      "metadata": {
        "id": "8FwyhjcBvfio"
      }
    },
    {
      "cell_type": "code",
      "source": [
        "@torch.no_grad() \n",
        "def test_loop(dataloader,model,loss_fn,device): \n",
        "    epoch_loss = 0\n",
        "    model.eval() \n",
        "    \n",
        "    pred_list=[]\n",
        "    sig = torch.nn.Sigmoid()\n",
        "\n",
        "\n",
        "    for batch in dataloader:\n",
        "        pred = model(batch[\"x\"].to(device))\n",
        "\n",
        "        if batch.get(\"y\") is not None:  # y값이 있을 경우만 loss 계산\n",
        "            loss = loss_fn(pred,batch[\"y\"].to(device))\n",
        "            epoch_loss += loss.item()\n",
        "\n",
        "        pred = sig(pred)    # 0 ~ 1 확률값으로 변경\n",
        "        pred = pred.to(\"cpu\").numpy() # cpu로 이동 후 시그모이드 함수로 계산한 예측값을 넘파이로 변환\n",
        "        pred_list.append(pred)\n",
        "\n",
        "    epoch_loss /= len(tr_dl)\n",
        "    pred = np.concatenate(pred_list)\n",
        "    \n",
        "    return epoch_loss, pred"
      ],
      "metadata": {
        "id": "UHaK6L4Evbai"
      },
      "execution_count": null,
      "outputs": []
    },
    {
      "cell_type": "markdown",
      "source": [
        "## 학습에 필요한 손실함수와 하이퍼 파라미터 정의/선택"
      ],
      "metadata": {
        "id": "9e3iZLobvsJX"
      }
    },
    {
      "cell_type": "code",
      "source": [
        "loss_fn = torch.nn.BCEWithLogitsLoss()\n",
        "epoch = 100\n",
        "batch_size = 32\n",
        "num_features = x_train.shape[1]"
      ],
      "metadata": {
        "id": "cxtuTXkFvbYA"
      },
      "execution_count": null,
      "outputs": []
    },
    {
      "cell_type": "code",
      "source": [
        "from sklearn.model_selection import KFold\n",
        "cv = KFold(n_splits=5, shuffle=True, random_state=SEED)"
      ],
      "metadata": {
        "id": "fbf4xJc5vbVj"
      },
      "execution_count": null,
      "outputs": []
    },
    {
      "cell_type": "code",
      "source": [
        "features.shape, target.shape"
      ],
      "metadata": {
        "colab": {
          "base_uri": "https://localhost:8080/"
        },
        "id": "eh9y5kH5vbTP",
        "outputId": "b98a82b2-0cb3-4447-d365-e2418a57ff03"
      },
      "execution_count": null,
      "outputs": [
        {
          "output_type": "execute_result",
          "data": {
            "text/plain": [
              "((1309, 10), (1309,))"
            ]
          },
          "metadata": {},
          "execution_count": 66
        }
      ]
    },
    {
      "cell_type": "markdown",
      "source": [
        "- KFold 단일모델 앙상블"
      ],
      "metadata": {
        "id": "8g1gt1NnyFCh"
      }
    },
    {
      "cell_type": "code",
      "source": [
        "is_holdout = True\n",
        "for tri,val in cv.split(features):\n",
        "    # 학습데이터\n",
        "    x_train = features[tri]\n",
        "    y_train = target[tri]\n",
        "\n",
        "    # 검증데이터\n",
        "    x_valid = features[val]\n",
        "    y_valid = target[val]\n",
        "\n",
        "    model = LogisticRegression(num_features).to(device)\n",
        "    optimizer = torch.optim.Adam(model.parameters())\n",
        "\n",
        "    tr_dt = TitanicDB(x_train,y_train)\n",
        "    valid_dt = TitanicDB(x_valid,y_valid)\n",
        "    \n",
        "    tr_dl = torch.utils.data.DataLoader(tr_dt,batch_size=batch_size, shuffle=True) # 학습데이터\n",
        "    valid_dl = torch.utils.data.DataLoader(valid_dt,batch_size=batch_size, shuffle=False) # 검증데이터\n",
        "\n",
        "    train_loss_history = []#\n",
        "    valid_loss_history = []#\n",
        "\n",
        "\n",
        "    for e in range(epoch):\n",
        "        train_loss = train_loop(tr_dl, model, loss_fn, optimizer, device)\n",
        "        valid_loss,pred = test_loop(valid_dl, model, loss_fn, device)\n",
        "\n",
        "        train_loss_history.append(train_loss)#\n",
        "        valid_loss_history.append(valid_loss)#\n",
        "\n",
        "    if is_holdout:\n",
        "        break"
      ],
      "metadata": {
        "id": "4P3B73PewuXz"
      },
      "execution_count": null,
      "outputs": []
    },
    {
      "cell_type": "markdown",
      "source": [
        "- 시각화 해보기\n",
        "    - 시각화를 위해 # 선언했음"
      ],
      "metadata": {
        "id": "VtS0KmEsVLhh"
      }
    },
    {
      "cell_type": "code",
      "source": [
        "import matplotlib.pyplot as plt\n",
        "fig,ax = plt.subplots()\n",
        "\n",
        "ax.plot(train_loss_history)\n",
        "ax.plot(valid_loss_history)\n",
        "ax.set_xlabel(\"epoch\")\n",
        "ax.set_ylabel(\"loss value\")\n",
        "ax.legend(\"train\",\"valid\")\n",
        "plt.show()"
      ],
      "metadata": {
        "colab": {
          "base_uri": "https://localhost:8080/",
          "height": 642
        },
        "id": "N3bEpCK9VPk7",
        "outputId": "d7e42110-05e4-4bfd-ddb4-ecbedf298ed6"
      },
      "execution_count": null,
      "outputs": [
        {
          "output_type": "stream",
          "name": "stderr",
          "text": [
            "/usr/local/lib/python3.7/dist-packages/ipykernel_launcher.py:8: UserWarning: Legend does not support 't' instances.\n",
            "A proxy artist may be used instead.\n",
            "See: http://matplotlib.org/users/legend_guide.html#creating-artists-specifically-for-adding-to-the-legend-aka-proxy-artists\n",
            "  \n",
            "/usr/local/lib/python3.7/dist-packages/ipykernel_launcher.py:8: UserWarning: Legend does not support 'r' instances.\n",
            "A proxy artist may be used instead.\n",
            "See: http://matplotlib.org/users/legend_guide.html#creating-artists-specifically-for-adding-to-the-legend-aka-proxy-artists\n",
            "  \n",
            "/usr/local/lib/python3.7/dist-packages/ipykernel_launcher.py:8: UserWarning: Legend does not support 'a' instances.\n",
            "A proxy artist may be used instead.\n",
            "See: http://matplotlib.org/users/legend_guide.html#creating-artists-specifically-for-adding-to-the-legend-aka-proxy-artists\n",
            "  \n",
            "/usr/local/lib/python3.7/dist-packages/ipykernel_launcher.py:8: UserWarning: Legend does not support 'i' instances.\n",
            "A proxy artist may be used instead.\n",
            "See: http://matplotlib.org/users/legend_guide.html#creating-artists-specifically-for-adding-to-the-legend-aka-proxy-artists\n",
            "  \n",
            "/usr/local/lib/python3.7/dist-packages/ipykernel_launcher.py:8: UserWarning: Legend does not support 'n' instances.\n",
            "A proxy artist may be used instead.\n",
            "See: http://matplotlib.org/users/legend_guide.html#creating-artists-specifically-for-adding-to-the-legend-aka-proxy-artists\n",
            "  \n"
          ]
        },
        {
          "output_type": "display_data",
          "data": {
            "text/plain": [
              "<Figure size 432x288 with 1 Axes>"
            ],
            "image/png": "[encoded data removed]"
          },
          "metadata": {
            "needs_background": "light"
          }
        }
      ]
    },
    {
      "cell_type": "markdown",
      "source": [
        "- 검증셋 평가 및 검증셋에 대한 AUC 개선이 없을 경우 조기 종료 조건주고 모델 가중치를 저장하기"
      ],
      "metadata": {
        "id": "LoS5bxGDWUEq"
      }
    },
    {
      "cell_type": "code",
      "source": [
        "is_holdout = False\n",
        "for i,(tri,val) in enumerate(cv.split(features)): # 5개 빌드로 나눔\n",
        "    # 학습데이터\n",
        "    x_train = features[tri]\n",
        "    y_train = target[tri]\n",
        "\n",
        "    # 검증데이터\n",
        "    x_valid = features[val]\n",
        "    y_valid = target[val]\n",
        "\n",
        "    model = LogisticRegression(num_features).to(device)\n",
        "    optimizer = torch.optim.Adam(model.parameters())\n",
        "\n",
        "    tr_dt = TitanicDB(x_train,y_train)\n",
        "    valid_dt = TitanicDB(x_valid,y_valid)\n",
        "    \n",
        "    tr_dl = torch.utils.data.DataLoader(tr_dt,batch_size=batch_size, shuffle=True) # 학습데이터\n",
        "    valid_dl = torch.utils.data.DataLoader(valid_dt,batch_size=batch_size, shuffle=False) # 검증데이터\n",
        "\n",
        "\n",
        "    best_score = 0\n",
        "    patience = 0\n",
        "\n",
        "    for e in range(epoch):\n",
        "        train_loss = train_loop(tr_dl, model, loss_fn, optimizer, device)\n",
        "        valid_loss,pred = test_loop(valid_dl, model, loss_fn, device)\n",
        "\n",
        "        score = roc_auc_score(y_valid,pred)\n",
        "        patience += 1\n",
        "        if best_score < score : # 작으면\n",
        "            patience = 0 \n",
        "            best_score = score # 갱신\n",
        "            torch.save(model.state_dict(),f\"model_{i}.pth\") # 저장\n",
        "\n",
        "        if patience == 5:\n",
        "            break\n",
        "    print(f\"{i} 번째 폴드 AUC: {best_score}\")\n",
        "\n",
        "    if is_holdout:\n",
        "        break"
      ],
      "metadata": {
        "colab": {
          "base_uri": "https://localhost:8080/"
        },
        "id": "BFytuk4UVP4M",
        "outputId": "10261f50-8f3e-413b-de90-72a691011b91"
      },
      "execution_count": null,
      "outputs": [
        {
          "output_type": "stream",
          "name": "stdout",
          "text": [
            "0 번째 폴드 AUC: 0.8866397997191182\n",
            "1 번째 폴드 AUC: 0.89460968875502\n",
            "2 번째 폴드 AUC: 0.8813808184942206\n",
            "3 번째 폴드 AUC: 0.9060355392156862\n",
            "4 번째 폴드 AUC: 0.8916035353535354\n"
          ]
        }
      ]
    },
    {
      "cell_type": "code",
      "source": [
        "x_test.shape # 정답이 없는 테스트셋이라 가정"
      ],
      "metadata": {
        "colab": {
          "base_uri": "https://localhost:8080/"
        },
        "id": "UpcNumCfVP2C",
        "outputId": "6327b742-3c54-4864-e11c-37507b370536"
      },
      "execution_count": null,
      "outputs": [
        {
          "output_type": "execute_result",
          "data": {
            "text/plain": [
              "(328, 10)"
            ]
          },
          "metadata": {},
          "execution_count": 75
        }
      ]
    },
    {
      "cell_type": "markdown",
      "source": [
        "- 저장된 모델 불러오고 추론하기"
      ],
      "metadata": {
        "id": "4X2Fafd8e5QF"
      }
    },
    {
      "cell_type": "code",
      "source": [
        "test_dt = TitanicDB(x_test)\n",
        "test_dl = torch.utils.data.DataLoader(test_dt,batch_size=batch_size,shuffle=False)"
      ],
      "metadata": {
        "id": "H5wB-iZ9VPzy"
      },
      "execution_count": null,
      "outputs": []
    },
    {
      "cell_type": "code",
      "source": [
        "pred_list=[]\n",
        "for i in range(5):\n",
        "    model = LogisticRegression(num_features).to(device)\n",
        "    state_dict = torch.load(f\"model_{i}.pth\") # 가중치\n",
        "    model.load_state_dict(state_dict)\n",
        "    _, pred = test_loop(test_dl,model,loss_fn,device)\n",
        "    pred_list.append(pred)\n",
        "pred = np.mean(pred_list, axis=0)\n",
        "pred"
      ],
      "metadata": {
        "colab": {
          "base_uri": "https://localhost:8080/"
        },
        "id": "sPoZMeLrVPqK",
        "outputId": "f1e2078c-e076-4e2e-ee9a-96d10e69bd9f"
      },
      "execution_count": null,
      "outputs": [
        {
          "output_type": "execute_result",
          "data": {
            "text/plain": [
              "array([[0.25580636],\n",
              "       [0.3271111 ],\n",
              "       [0.25577852],\n",
              "       [0.28720465],\n",
              "       [0.5382803 ],\n",
              "       [0.5383301 ],\n",
              "       [0.5382803 ],\n",
              "       [0.5186473 ],\n",
              "       [0.4789725 ],\n",
              "       [0.31662   ],\n",
              "       [0.25185806],\n",
              "       [0.25676543],\n",
              "       [0.39457163],\n",
              "       [0.6326011 ],\n",
              "       [0.25727844],\n",
              "       [0.5287919 ],\n",
              "       [0.5351718 ],\n",
              "       [0.25575578],\n",
              "       [0.35272798],\n",
              "       [0.26167208],\n",
              "       [0.29092413],\n",
              "       [0.25920573],\n",
              "       [0.26782265],\n",
              "       [0.26834068],\n",
              "       [0.26067966],\n",
              "       [0.4816062 ],\n",
              "       [0.25386593],\n",
              "       [0.2573369 ],\n",
              "       [0.29575083],\n",
              "       [0.46771106],\n",
              "       [0.25646022],\n",
              "       [0.52358735],\n",
              "       [0.5382848 ],\n",
              "       [0.27072805],\n",
              "       [0.3521467 ],\n",
              "       [0.311358  ],\n",
              "       [0.5462607 ],\n",
              "       [0.46324053],\n",
              "       [0.25579077],\n",
              "       [0.49922118],\n",
              "       [0.32538623],\n",
              "       [0.4822147 ],\n",
              "       [0.5383004 ],\n",
              "       [0.24952504],\n",
              "       [0.41794762],\n",
              "       [0.28516096],\n",
              "       [0.25242087],\n",
              "       [0.30635792],\n",
              "       [0.5382803 ],\n",
              "       [0.5245943 ],\n",
              "       [0.54428804],\n",
              "       [0.6498856 ],\n",
              "       [0.2552923 ],\n",
              "       [0.3220262 ],\n",
              "       [0.53661597],\n",
              "       [0.31136757],\n",
              "       [0.25921854],\n",
              "       [0.46996775],\n",
              "       [0.2700221 ],\n",
              "       [0.24901924],\n",
              "       [0.33174   ],\n",
              "       [0.311358  ],\n",
              "       [0.58500046],\n",
              "       [0.46023148],\n",
              "       [0.63846374],\n",
              "       [0.33641434],\n",
              "       [0.61863655],\n",
              "       [0.52885616],\n",
              "       [0.2543373 ],\n",
              "       [0.31727862],\n",
              "       [0.25579077],\n",
              "       [0.32534903],\n",
              "       [0.32436013],\n",
              "       [0.26501316],\n",
              "       [0.3091317 ],\n",
              "       [0.3231259 ],\n",
              "       [0.5366148 ],\n",
              "       [0.25385338],\n",
              "       [0.59369755],\n",
              "       [0.29156464],\n",
              "       [0.58760786],\n",
              "       [0.25570524],\n",
              "       [0.40373263],\n",
              "       [0.2803933 ],\n",
              "       [0.25773898],\n",
              "       [0.25579077],\n",
              "       [0.31050187],\n",
              "       [0.36909914],\n",
              "       [0.53308076],\n",
              "       [0.5460232 ],\n",
              "       [0.5382803 ],\n",
              "       [0.3363485 ],\n",
              "       [0.2553815 ],\n",
              "       [0.55709255],\n",
              "       [0.25546652],\n",
              "       [0.5361413 ],\n",
              "       [0.2576571 ],\n",
              "       [0.33582276],\n",
              "       [0.5159351 ],\n",
              "       [0.62278974],\n",
              "       [0.25864524],\n",
              "       [0.253441  ],\n",
              "       [0.2557002 ],\n",
              "       [0.506107  ],\n",
              "       [0.46432132],\n",
              "       [0.31038928],\n",
              "       [0.64110434],\n",
              "       [0.3392377 ],\n",
              "       [0.27486295],\n",
              "       [0.5382803 ],\n",
              "       [0.288693  ],\n",
              "       [0.5038446 ],\n",
              "       [0.5382803 ],\n",
              "       [0.24528599],\n",
              "       [0.64568585],\n",
              "       [0.2752798 ],\n",
              "       [0.53896636],\n",
              "       [0.47405463],\n",
              "       [0.25338274],\n",
              "       [0.31330985],\n",
              "       [0.24472022],\n",
              "       [0.5435287 ],\n",
              "       [0.31198952],\n",
              "       [0.3132079 ],\n",
              "       [0.26361185],\n",
              "       [0.56741524],\n",
              "       [0.484914  ],\n",
              "       [0.33649772],\n",
              "       [0.26185042],\n",
              "       [0.6317384 ],\n",
              "       [0.31302595],\n",
              "       [0.65266216],\n",
              "       [0.27745846],\n",
              "       [0.51248956],\n",
              "       [0.29360288],\n",
              "       [0.25498074],\n",
              "       [0.5290541 ],\n",
              "       [0.39024097],\n",
              "       [0.31768999],\n",
              "       [0.25725693],\n",
              "       [0.311358  ],\n",
              "       [0.5467756 ],\n",
              "       [0.3366319 ],\n",
              "       [0.2617005 ],\n",
              "       [0.25231886],\n",
              "       [0.5748038 ],\n",
              "       [0.3551193 ],\n",
              "       [0.68028593],\n",
              "       [0.31312472],\n",
              "       [0.4360227 ],\n",
              "       [0.25718832],\n",
              "       [0.3295353 ],\n",
              "       [0.25579077],\n",
              "       [0.32195482],\n",
              "       [0.5414783 ],\n",
              "       [0.6473403 ],\n",
              "       [0.28080872],\n",
              "       [0.6550412 ],\n",
              "       [0.25722897],\n",
              "       [0.4838017 ],\n",
              "       [0.29063624],\n",
              "       [0.3131242 ],\n",
              "       [0.2563554 ],\n",
              "       [0.5320592 ],\n",
              "       [0.25868568],\n",
              "       [0.26761204],\n",
              "       [0.258223  ],\n",
              "       [0.54452765],\n",
              "       [0.2556458 ],\n",
              "       [0.311358  ],\n",
              "       [0.3076815 ],\n",
              "       [0.4673527 ],\n",
              "       [0.4013177 ],\n",
              "       [0.53398496],\n",
              "       [0.33523923],\n",
              "       [0.58629185],\n",
              "       [0.4827191 ],\n",
              "       [0.32128105],\n",
              "       [0.3153222 ],\n",
              "       [0.42072764],\n",
              "       [0.25580636],\n",
              "       [0.311358  ],\n",
              "       [0.4693652 ],\n",
              "       [0.63977575],\n",
              "       [0.63614625],\n",
              "       [0.25577852],\n",
              "       [0.30614382],\n",
              "       [0.29458046],\n",
              "       [0.48310447],\n",
              "       [0.25575578],\n",
              "       [0.2943883 ],\n",
              "       [0.54559404],\n",
              "       [0.2666641 ],\n",
              "       [0.24497595],\n",
              "       [0.27090216],\n",
              "       [0.2607737 ],\n",
              "       [0.53440046],\n",
              "       [0.5382803 ],\n",
              "       [0.29306564],\n",
              "       [0.33515742],\n",
              "       [0.37981296],\n",
              "       [0.46902448],\n",
              "       [0.510154  ],\n",
              "       [0.2911701 ],\n",
              "       [0.49503574],\n",
              "       [0.2504873 ],\n",
              "       [0.29512006],\n",
              "       [0.25788885],\n",
              "       [0.3865471 ],\n",
              "       [0.2600584 ],\n",
              "       [0.29414076],\n",
              "       [0.3538497 ],\n",
              "       [0.36213422],\n",
              "       [0.39241877],\n",
              "       [0.28727332],\n",
              "       [0.25382978],\n",
              "       [0.49162278],\n",
              "       [0.51982045],\n",
              "       [0.2563554 ],\n",
              "       [0.33523923],\n",
              "       [0.26126838],\n",
              "       [0.5365225 ],\n",
              "       [0.4475929 ],\n",
              "       [0.53834075],\n",
              "       [0.2567532 ],\n",
              "       [0.50033736],\n",
              "       [0.281433  ],\n",
              "       [0.31769055],\n",
              "       [0.28850827],\n",
              "       [0.25530034],\n",
              "       [0.5600226 ],\n",
              "       [0.24843574],\n",
              "       [0.2539934 ],\n",
              "       [0.59152925],\n",
              "       [0.5462072 ],\n",
              "       [0.28879434],\n",
              "       [0.5311084 ],\n",
              "       [0.29156464],\n",
              "       [0.6265535 ],\n",
              "       [0.25000662],\n",
              "       [0.32302588],\n",
              "       [0.30967095],\n",
              "       [0.2553075 ],\n",
              "       [0.3572711 ],\n",
              "       [0.25385338],\n",
              "       [0.63416636],\n",
              "       [0.2903072 ],\n",
              "       [0.2572438 ],\n",
              "       [0.50745076],\n",
              "       [0.4488225 ],\n",
              "       [0.31716305],\n",
              "       [0.5382783 ],\n",
              "       [0.29311624],\n",
              "       [0.60985327],\n",
              "       [0.49704581],\n",
              "       [0.4653333 ],\n",
              "       [0.3968085 ],\n",
              "       [0.33055776],\n",
              "       [0.55709255],\n",
              "       [0.5368229 ],\n",
              "       [0.5219418 ],\n",
              "       [0.51819825],\n",
              "       [0.4956356 ],\n",
              "       [0.2889075 ],\n",
              "       [0.5422735 ],\n",
              "       [0.48663855],\n",
              "       [0.48915854],\n",
              "       [0.27111807],\n",
              "       [0.5798839 ],\n",
              "       [0.3112618 ],\n",
              "       [0.2583689 ],\n",
              "       [0.25448722],\n",
              "       [0.50033736],\n",
              "       [0.40574116],\n",
              "       [0.29156464],\n",
              "       [0.25475404],\n",
              "       [0.35972744],\n",
              "       [0.27009773],\n",
              "       [0.3357571 ],\n",
              "       [0.5718364 ],\n",
              "       [0.2557583 ],\n",
              "       [0.3332206 ],\n",
              "       [0.25586826],\n",
              "       [0.28457004],\n",
              "       [0.26469767],\n",
              "       [0.25770247],\n",
              "       [0.24620791],\n",
              "       [0.3191141 ],\n",
              "       [0.47481307],\n",
              "       [0.6675097 ],\n",
              "       [0.28784502],\n",
              "       [0.3776566 ],\n",
              "       [0.32308325],\n",
              "       [0.31568766],\n",
              "       [0.55392617],\n",
              "       [0.4056931 ],\n",
              "       [0.54625815],\n",
              "       [0.62409943],\n",
              "       [0.25205386],\n",
              "       [0.46324053],\n",
              "       [0.597942  ],\n",
              "       [0.51475394],\n",
              "       [0.5145979 ],\n",
              "       [0.311358  ],\n",
              "       [0.2510391 ],\n",
              "       [0.6465747 ],\n",
              "       [0.28625688],\n",
              "       [0.5174158 ],\n",
              "       [0.2919277 ],\n",
              "       [0.33414808],\n",
              "       [0.2909139 ],\n",
              "       [0.31095472],\n",
              "       [0.39927405],\n",
              "       [0.5382803 ],\n",
              "       [0.29199347],\n",
              "       [0.258724  ],\n",
              "       [0.56270427],\n",
              "       [0.49840966],\n",
              "       [0.2577432 ],\n",
              "       [0.4789725 ],\n",
              "       [0.4660248 ],\n",
              "       [0.5391134 ],\n",
              "       [0.24283402],\n",
              "       [0.6040005 ],\n",
              "       [0.6549777 ],\n",
              "       [0.5206365 ],\n",
              "       [0.2565212 ],\n",
              "       [0.5581652 ]], dtype=float32)"
            ]
          },
          "metadata": {},
          "execution_count": 77
        }
      ]
    },
    {
      "cell_type": "code",
      "source": [],
      "metadata": {
        "id": "6_YkPIYXVPn6"
      },
      "execution_count": null,
      "outputs": []
    }
  ]
}