{
  "nbformat": 4,
  "nbformat_minor": 0,
  "metadata": {
    "colab": {
      "provenance": [],
      "collapsed_sections": []
    },
    "kernelspec": {
      "name": "python3",
      "display_name": "Python 3"
    },
    "language_info": {
      "name": "python"
    },
    "accelerator": "GPU"
  },
  "cells": [
    {
      "cell_type": "code",
      "source": [
        "import torch\n",
        "import numpy as np\n",
        "import pandas as pd\n",
        "import random # 시드 고정을 위해\n",
        "import os # 시드 고정을 위해\n",
        "from sklearn.preprocessing import OneHotEncoder\n",
        "from sklearn.preprocessing import MinMaxScaler\n",
        "from tqdm.auto import tqdm\n",
        "from sklearn.model_selection import KFold\n",
        "from sklearn.metrics import roc_auc_score"
      ],
      "metadata": {
        "id": "z5pKeNIO8m3d"
      },
      "execution_count": null,
      "outputs": []
    },
    {
      "cell_type": "markdown",
      "source": [
        "모델 학습에 사용할 cpu or gpu 장치 확인"
      ],
      "metadata": {
        "id": "uHNV7xsf9Tg6"
      }
    },
    {
      "cell_type": "code",
      "source": [
        "SEED = 42\n",
        "device = 'cuda' if torch.cuda.is_available() else 'cpu'\n",
        "device"
      ],
      "metadata": {
        "colab": {
          "base_uri": "https://localhost:8080/",
          "height": 35
        },
        "id": "095etmKn8m0e",
        "outputId": "9bfb4fb5-2f79-472c-9815-c6d04cb92b2e"
      },
      "execution_count": null,
      "outputs": [
        {
          "output_type": "execute_result",
          "data": {
            "text/plain": [
              "'cuda'"
            ],
            "application/vnd.google.colaboratory.intrinsic+json": {
              "type": "string"
            }
          },
          "metadata": {},
          "execution_count": 2
        }
      ]
    },
    {
      "cell_type": "markdown",
      "source": [
        "# 재현성 함수(Reproduction)"
      ],
      "metadata": {
        "id": "v3TWGipBMdqh"
      }
    },
    {
      "cell_type": "code",
      "source": [
        "def reset_seeds(seed):\n",
        "    random.seed(seed)\n",
        "    os.environ['PYTHONHASHSEED'] = str(seed)    # 파이썬 환경변수 시드 고정\n",
        "    np.random.seed(seed)\n",
        "    torch.manual_seed(seed) # cpu 연산 무작위 고정\n",
        "    torch.cuda.manual_seed(seed) # gpu 연산 무작위 고정\n",
        "    torch.backends.cudnn.deterministic = True  # cuda 라이브러리에서 Deterministic(결정론적)으로 예측하기 (예측에 대한 불확실성 제거 )"
      ],
      "metadata": {
        "id": "Cj4a-90HK7Tx"
      },
      "execution_count": null,
      "outputs": []
    },
    {
      "cell_type": "markdown",
      "source": [
        "# 구글 드라이브 마운트"
      ],
      "metadata": {
        "id": "gXtoqCbfmVpE"
      }
    },
    {
      "cell_type": "code",
      "source": [
        "from google.colab import drive\n",
        "drive.mount('/content/drive')"
      ],
      "metadata": {
        "colab": {
          "base_uri": "https://localhost:8080/"
        },
        "id": "fwco0Ga38mxW",
        "outputId": "d90a48c3-809a-411b-8bde-53f7561b3d27"
      },
      "execution_count": null,
      "outputs": [
        {
          "output_type": "stream",
          "name": "stdout",
          "text": [
            "Drive already mounted at /content/drive; to attempt to forcibly remount, call drive.mount(\"/content/drive\", force_remount=True).\n"
          ]
        }
      ]
    },
    {
      "cell_type": "markdown",
      "source": [
        "# 구글 드라이브 데이터 경로(수정하시오)"
      ],
      "metadata": {
        "id": "luXyg2JXmX-b"
      }
    },
    {
      "cell_type": "code",
      "source": [
        "DATA_PATH = \"/content/drive/MyDrive/Colab Notebooks/03.MachineLearning/data/\""
      ],
      "metadata": {
        "id": "Ibhh7ywq8muW"
      },
      "execution_count": null,
      "outputs": []
    },
    {
      "cell_type": "markdown",
      "source": [
        "# 학습및 테스트 데이터"
      ],
      "metadata": {
        "id": "s8zbYf4-mcF7"
      }
    },
    {
      "cell_type": "code",
      "source": [
        "train_churn = pd.read_csv(f\"{DATA_PATH}train_churn.csv\")\n",
        "test_churn = pd.read_csv(f\"{DATA_PATH}test_churn.csv\")\n",
        "train_churn.shape ,test_churn.shape"
      ],
      "metadata": {
        "colab": {
          "base_uri": "https://localhost:8080/"
        },
        "id": "yr3ewBm7lu4Z",
        "outputId": "5e59cfee-144d-4802-eaf6-50e74f867be7"
      },
      "execution_count": null,
      "outputs": [
        {
          "output_type": "execute_result",
          "data": {
            "text/plain": [
              "((5282, 21), (1761, 20))"
            ]
          },
          "metadata": {},
          "execution_count": 6
        }
      ]
    },
    {
      "cell_type": "markdown",
      "source": [
        "# 결측치 확인"
      ],
      "metadata": {
        "id": "VxDMdb9ymeDb"
      }
    },
    {
      "cell_type": "code",
      "source": [
        "train_churn.isnull().sum().sum() , test_churn.isnull().sum().sum()"
      ],
      "metadata": {
        "colab": {
          "base_uri": "https://localhost:8080/"
        },
        "id": "GLXCU1wXmNB6",
        "outputId": "68a34b91-34c6-4bb1-aab6-f735310c8f3c"
      },
      "execution_count": null,
      "outputs": [
        {
          "output_type": "execute_result",
          "data": {
            "text/plain": [
              "(0, 0)"
            ]
          },
          "metadata": {},
          "execution_count": 7
        }
      ]
    },
    {
      "cell_type": "markdown",
      "source": [
        "# 학습및 정답 데이터와 추론데이터 전처리"
      ],
      "metadata": {
        "id": "88sFYE6hmw-d"
      }
    },
    {
      "cell_type": "markdown",
      "source": [
        "- 수치형 변수 "
      ],
      "metadata": {
        "id": "wI_i4iUgnEFb"
      }
    },
    {
      "cell_type": "code",
      "source": [
        "train = train_churn.select_dtypes(\"number\").iloc[:,:-1] # 정답값 제외\n",
        "target = train_churn.iloc[:,-1] # 정답 데이터\n",
        "test = test_churn.select_dtypes(\"number\") # 추론 데이터\n",
        "\n",
        "train.shape, test.shape , target.shape"
      ],
      "metadata": {
        "colab": {
          "base_uri": "https://localhost:8080/"
        },
        "id": "DGl-vUMUmhKa",
        "outputId": "b2f36e7c-5f28-475d-be94-b9af69e88921"
      },
      "execution_count": null,
      "outputs": [
        {
          "output_type": "execute_result",
          "data": {
            "text/plain": [
              "((5282, 17), (1761, 17), (5282,))"
            ]
          },
          "metadata": {},
          "execution_count": 8
        }
      ]
    },
    {
      "cell_type": "markdown",
      "source": [
        "- 범주형 변수 원핫 인코딩"
      ],
      "metadata": {
        "id": "skvPL_UenDkT"
      }
    },
    {
      "cell_type": "code",
      "source": [
        "cols = [\"InternetService\",\"PaymentMethod\"]\n",
        "enc = OneHotEncoder(handle_unknown=\"ignore\")\n",
        "\n",
        "# 학습데이터\n",
        "tmp = pd.DataFrame(\n",
        "    enc.fit_transform(train_churn[cols]).toarray(),\n",
        "    columns = enc.get_feature_names_out()\n",
        ")\n",
        "\n",
        "train = pd.concat([train,tmp],axis=1)\n",
        "\n",
        "# 추론 데이터\n",
        "tmp = pd.DataFrame(\n",
        "    enc.transform(test_churn[cols]).toarray(),\n",
        "    columns = enc.get_feature_names_out()\n",
        ")\n",
        "\n",
        "test = pd.concat([test,tmp],axis = 1)\n",
        "\n",
        "train.shape, test.shape"
      ],
      "metadata": {
        "colab": {
          "base_uri": "https://localhost:8080/"
        },
        "id": "mHGCNC27mhTR",
        "outputId": "12a3fe1e-797f-4886-f992-d7853e844094"
      },
      "execution_count": null,
      "outputs": [
        {
          "output_type": "execute_result",
          "data": {
            "text/plain": [
              "((5282, 24), (1761, 24))"
            ]
          },
          "metadata": {},
          "execution_count": 9
        }
      ]
    },
    {
      "cell_type": "markdown",
      "source": [
        "# 스케일링"
      ],
      "metadata": {
        "id": "Lb9HEkiHnj2r"
      }
    },
    {
      "cell_type": "code",
      "source": [
        "scaler = MinMaxScaler()\n",
        "train = scaler.fit_transform(train)\n",
        "test = scaler.transform(test)\n",
        "\n",
        "train.shape, test.shape , target.mean()"
      ],
      "metadata": {
        "colab": {
          "base_uri": "https://localhost:8080/"
        },
        "id": "JbwpdqoxnlYm",
        "outputId": "4864775c-3b09-4cd3-844b-97a5a3297212"
      },
      "execution_count": null,
      "outputs": [
        {
          "output_type": "execute_result",
          "data": {
            "text/plain": [
              "((5282, 24), (1761, 24), 0.2631578947368421)"
            ]
          },
          "metadata": {},
          "execution_count": 10
        }
      ]
    },
    {
      "cell_type": "code",
      "source": [
        "train"
      ],
      "metadata": {
        "colab": {
          "base_uri": "https://localhost:8080/"
        },
        "id": "id2PW_o4oYkO",
        "outputId": "fa985778-2246-422d-d25e-56cf5e1a3efe"
      },
      "execution_count": null,
      "outputs": [
        {
          "output_type": "execute_result",
          "data": {
            "text/plain": [
              "array([[0., 0., 0., ..., 0., 1., 0.],\n",
              "       [1., 0., 0., ..., 0., 1., 0.],\n",
              "       [1., 0., 0., ..., 0., 0., 0.],\n",
              "       ...,\n",
              "       [0., 0., 1., ..., 0., 1., 0.],\n",
              "       [0., 1., 0., ..., 0., 1., 0.],\n",
              "       [0., 0., 0., ..., 1., 0., 0.]])"
            ]
          },
          "metadata": {},
          "execution_count": 11
        }
      ]
    },
    {
      "cell_type": "code",
      "source": [
        "# from sklearn.model_selection import train_test_split\n",
        "# x_train, x_valid, y_train, y_valid = train_test_split(features, target, random_state=SEED)\n",
        "# x_train.shape, x_valid.shape, y_train.shape, y_valid.shape"
      ],
      "metadata": {
        "id": "SrbwluHA3eK2"
      },
      "execution_count": null,
      "outputs": []
    },
    {
      "cell_type": "markdown",
      "source": [
        "# 여기서 부터 pytorch 를 이용하여  학습및 테스트 데이터에대한 확률을 추론해서 제출해 주세요."
      ],
      "metadata": {
        "id": "AZuMu89JooWT"
      }
    },
    {
      "cell_type": "code",
      "source": [
        "class ChurnDataset(torch.utils.data.Dataset):\n",
        "    def __init__(self,x,y=None): # 정답값이 없는 경우를 가정해서 디폴트 파라미터 `None`을 정의 \n",
        "        self.x = x\n",
        "        self.y = y\n",
        "        if self.y is not None:\n",
        "            self.y = y.astype(\"float32\").values.reshape(-1,1)\n",
        "\n",
        "    def __len__(self): \n",
        "        return self.x.shape[0]\n",
        "\n",
        "    def __getitem__(self,idx): \n",
        "        item = {} # 딕셔너리로 넣어보자\n",
        "        item[\"x\"] = torch.Tensor(self.x[idx])\n",
        "\n",
        "        if self.y is not None:\n",
        "            item[\"y\"] = torch.Tensor(self.y[idx])\n",
        "\n",
        "        return item"
      ],
      "metadata": {
        "id": "CrfndVswjV5v"
      },
      "execution_count": null,
      "outputs": []
    },
    {
      "cell_type": "code",
      "source": [
        "train_dt = ChurnDataset(train,target)\n",
        "train_dt[1]"
      ],
      "metadata": {
        "id": "VHlmRzTWjV1n",
        "colab": {
          "base_uri": "https://localhost:8080/"
        },
        "outputId": "d6f3d8ae-2611-4062-ffc8-c20e92858258"
      },
      "execution_count": null,
      "outputs": [
        {
          "output_type": "execute_result",
          "data": {
            "text/plain": [
              "{'x': tensor([1.0000, 0.0000, 0.0000, 0.0000, 0.0972, 1.0000, 0.0000, 0.0000, 0.0000,\n",
              "         1.0000, 0.0000, 0.0000, 0.0000, 0.0000, 0.0000, 0.5670, 0.0605, 0.0000,\n",
              "         1.0000, 0.0000, 0.0000, 0.0000, 1.0000, 0.0000]), 'y': tensor([0.])}"
            ]
          },
          "metadata": {},
          "execution_count": 14
        }
      ]
    },
    {
      "cell_type": "code",
      "source": [
        "tr_dl = torch.utils.data.DataLoader(train_dt,batch_size=2,shuffle=False)\n",
        "next(iter(tr_dl))"
      ],
      "metadata": {
        "colab": {
          "base_uri": "https://localhost:8080/"
        },
        "id": "kic17R35n1Fz",
        "outputId": "2a4524ef-a6ae-432d-fc19-38f8870444e3"
      },
      "execution_count": null,
      "outputs": [
        {
          "output_type": "execute_result",
          "data": {
            "text/plain": [
              "{'x': tensor([[0.0000, 0.0000, 0.0000, 1.0000, 0.0139, 0.0000, 0.0000, 0.0000, 0.0000,\n",
              "          0.0000, 0.0000, 0.0000, 0.0000, 0.0000, 0.0000, 0.0703, 0.0029, 1.0000,\n",
              "          0.0000, 0.0000, 0.0000, 0.0000, 1.0000, 0.0000],\n",
              "         [1.0000, 0.0000, 0.0000, 0.0000, 0.0972, 1.0000, 0.0000, 0.0000, 0.0000,\n",
              "          1.0000, 0.0000, 0.0000, 0.0000, 0.0000, 0.0000, 0.5670, 0.0605, 0.0000,\n",
              "          1.0000, 0.0000, 0.0000, 0.0000, 1.0000, 0.0000]]), 'y': tensor([[1.],\n",
              "         [0.]])}"
            ]
          },
          "metadata": {},
          "execution_count": 15
        }
      ]
    },
    {
      "cell_type": "code",
      "source": [
        "#"
      ],
      "metadata": {
        "id": "kMCbY4dfn2mK"
      },
      "execution_count": null,
      "outputs": []
    },
    {
      "cell_type": "code",
      "source": [
        "train.shape[1] #입력값"
      ],
      "metadata": {
        "colab": {
          "base_uri": "https://localhost:8080/"
        },
        "id": "nfgmUPWCn2jr",
        "outputId": "dc3b2657-7561-46f6-a833-1797c268784f"
      },
      "execution_count": null,
      "outputs": [
        {
          "output_type": "execute_result",
          "data": {
            "text/plain": [
              "24"
            ]
          },
          "metadata": {},
          "execution_count": 17
        }
      ]
    },
    {
      "cell_type": "code",
      "source": [
        "torch.manual_seed(SEED)\n",
        "torch.cuda.manual_seed(SEED)\n",
        "\n",
        "input_layer = torch.nn.Linear(train.shape[1],1)\n",
        "data = next(iter(tr_dl))\n",
        "\n",
        "hidden_layer = input_layer(data[\"x\"])\n",
        "hidden_layer"
      ],
      "metadata": {
        "colab": {
          "base_uri": "https://localhost:8080/"
        },
        "id": "1NKMerhbn2hD",
        "outputId": "f8fad9d8-36bf-4d87-b610-b930216ab35c"
      },
      "execution_count": null,
      "outputs": [
        {
          "output_type": "execute_result",
          "data": {
            "text/plain": [
              "tensor([[-0.0285],\n",
              "        [-0.3030]], grad_fn=<AddmmBackward0>)"
            ]
          },
          "metadata": {},
          "execution_count": 18
        }
      ]
    },
    {
      "cell_type": "code",
      "source": [
        "#"
      ],
      "metadata": {
        "id": "QSRr7RNKn2en"
      },
      "execution_count": null,
      "outputs": []
    },
    {
      "cell_type": "code",
      "source": [
        "class Net(torch.nn.Module):\n",
        "    def __init__(self,in_features):\n",
        "        super().__init__()\n",
        "        self.seq = torch.nn.Sequential(\n",
        "            torch.nn.Linear(in_features,8),\n",
        "            torch.nn.ELU(), # 이 층에대한 비선형성\n",
        "            torch.nn.Linear(8,6),\n",
        "            torch.nn.ELU(),\n",
        "            torch.nn.Linear(6,4),\n",
        "            torch.nn.ELU(),\n",
        "            torch.nn.Linear(4,2),\n",
        "            torch.nn.ELU(),\n",
        "            torch.nn.Linear(2,1),\n",
        "        )\n",
        "    def forward(self,x):\n",
        "        x = self.seq(x)\n",
        "        return x"
      ],
      "metadata": {
        "id": "MBvVlNxin2cS"
      },
      "execution_count": null,
      "outputs": []
    },
    {
      "cell_type": "code",
      "source": [
        "model = Net(train.shape[1])\n",
        "model(data[\"x\"])"
      ],
      "metadata": {
        "colab": {
          "base_uri": "https://localhost:8080/"
        },
        "id": "A0VHfgqen2Z0",
        "outputId": "c2c0a4b8-b6a0-4d12-b3ec-e3585eee34d9"
      },
      "execution_count": null,
      "outputs": [
        {
          "output_type": "execute_result",
          "data": {
            "text/plain": [
              "tensor([[-0.0475],\n",
              "        [-0.0261]], grad_fn=<AddmmBackward0>)"
            ]
          },
          "metadata": {},
          "execution_count": 21
        }
      ]
    },
    {
      "cell_type": "code",
      "source": [],
      "metadata": {
        "id": "QScvBj2Kn2XT"
      },
      "execution_count": null,
      "outputs": []
    },
    {
      "cell_type": "code",
      "source": [
        "batch_size = 32 # 미니 배치 사이즈\n",
        "loss_fn = torch.nn.BCEWithLogitsLoss()\n",
        "model = Net(train.shape[1]).to(device) # 열부분 => in_features / GPU 연결\n",
        "optimizer = torch.optim.Adam(model.parameters(),lr = 0.001)\n",
        "\n",
        "tr_dt = ChurnDataset(train, target)\n",
        "tr_dl = torch.utils.data.DataLoader(tr_dt,batch_size=batch_size,shuffle=True)\n",
        "\n",
        "x_test = test.copy() \n",
        "test_dt = ChurnDataset(x_test)\n",
        "test_dl = torch.utils.data.DataLoader(test_dt,batch_size=batch_size,shuffle=False)\n",
        "\n",
        "epoch = 80\n",
        "\n",
        "num_features = train.shape[1]"
      ],
      "metadata": {
        "id": "ESdipkTan2VD"
      },
      "execution_count": null,
      "outputs": []
    },
    {
      "cell_type": "code",
      "source": [
        "#학습모드\n",
        "model.train()\n",
        "\n",
        "for batch in tr_dl: # batch단위로 32개씩 꺼내보다\n",
        "    # print(batch[\"x\"].shape)\n",
        "    # break\n",
        "    \n",
        "    pred = model(batch[\"x\"].to(device)) # 예측값\n",
        "    loss = loss_fn(pred,batch[\"y\"].to(device))# 손실값 = 손실함수(예측값 , 정답값)\n",
        "\n",
        "    optimizer.zero_grad() # 업데이트하기 전 초기화해야한다. optimizer는 계속해서 가중치를 더하기 때문에 누적되는걸 방지하려고\n",
        "    loss.backward() # 역전파\n",
        "    optimizer.step() # 가중치 업데이트\n",
        "\n",
        "    # 눈으로 확인하자\n",
        "    batch_loss = loss.item()\n",
        "\n",
        "    print(batch_loss)"
      ],
      "metadata": {
        "id": "Utfb-fBqoNRs"
      },
      "execution_count": null,
      "outputs": []
    },
    {
      "cell_type": "code",
      "source": [
        "#학습모드\n",
        "model.train()\n",
        "\n",
        "epoch_loss = 0\n",
        "for batch in tr_dl: # batch단위로 32개씩 꺼내보다\n",
        "   \n",
        "    pred = model(batch[\"x\"].to(device)) # 예측값\n",
        "    loss = loss_fn(pred,batch[\"y\"].to(device))# 손실값 = 손실함수(예측값 , 정답값)\n",
        "\n",
        "    optimizer.zero_grad() # 업데이트하기 전 초기화해야한다. optimizer는 계속해서 가중치를 더하기 때문에 누적되는걸 방지하려고\n",
        "    loss.backward() # 역전파\n",
        "    optimizer.step() # 가중치 업데이트\n",
        "\n",
        "    # 눈으로 확인하자\n",
        "    epoch_loss += loss.item()\n",
        "epoch_loss /= len(tr_dl)\n",
        "\n",
        "print(f\"epoch_loss : {epoch_loss}\")"
      ],
      "metadata": {
        "colab": {
          "base_uri": "https://localhost:8080/"
        },
        "id": "fUlGiIUkoNPD",
        "outputId": "02495c2c-0d96-4243-d557-a4be4967ae14"
      },
      "execution_count": null,
      "outputs": [
        {
          "output_type": "stream",
          "name": "stdout",
          "text": [
            "epoch_loss : 0.46928108698991405\n"
          ]
        }
      ]
    },
    {
      "cell_type": "code",
      "source": [
        "#"
      ],
      "metadata": {
        "id": "IKC7iacgoNMb"
      },
      "execution_count": null,
      "outputs": []
    },
    {
      "cell_type": "code",
      "source": [
        "def train_loop(tr_dl,model,loss_fn,optimizer,device):\n",
        "    #학습모드\n",
        "    model.train()\n",
        "\n",
        "    epoch_loss = 0\n",
        "    for batch in tr_dl: # batch단위로 32개씩 꺼내보다\n",
        "    \n",
        "        pred = model(batch[\"x\"].to(device)) # 예측값\n",
        "        loss = loss_fn(pred,batch[\"y\"].to(device))# 손실값 = 손실함수(예측값 , 정답값)\n",
        "\n",
        "        optimizer.zero_grad() # 업데이트하기 전 초기화해야한다. optimizer는 계속해서 가중치를 더하기 때문에 누적되는걸 방지하려고\n",
        "        loss.backward() # 역전파\n",
        "        optimizer.step() # 가중치 업데이트\n",
        "\n",
        "        # 눈으로 확인하자\n",
        "        epoch_loss += loss.item()\n",
        "    epoch_loss /= len(tr_dl)\n",
        "\n",
        "    return epoch_loss"
      ],
      "metadata": {
        "id": "BQhlSfbBoNJ0"
      },
      "execution_count": null,
      "outputs": []
    },
    {
      "cell_type": "code",
      "source": [
        "train_loop(tr_dl,model,loss_fn,optimizer,device)"
      ],
      "metadata": {
        "colab": {
          "base_uri": "https://localhost:8080/"
        },
        "id": "2iPpxIg7oNHa",
        "outputId": "85e28090-2422-4677-fa6d-dfba8e1db8e1"
      },
      "execution_count": null,
      "outputs": [
        {
          "output_type": "execute_result",
          "data": {
            "text/plain": [
              "0.4357486392360136"
            ]
          },
          "metadata": {},
          "execution_count": 27
        }
      ]
    },
    {
      "cell_type": "code",
      "source": [
        "# 검증셋에 대한 평가"
      ],
      "metadata": {
        "id": "VmKuh2kdoNEt"
      },
      "execution_count": null,
      "outputs": []
    },
    {
      "cell_type": "code",
      "source": [
        "# @torch.no_grad() # => with torch.no_grad()를 데코레이터화 # 평가할때는 가중치 업데이트 할 필요가 없기에 Gradient를 구할 필요가 없다.\n",
        "# def test_loop(dataloader,model,loss_fn,device): # 평가할땐 가중치(optimizer)는 필요 없을듯?\n",
        "#     epoch_loss = 0\n",
        "#     model.eval() # 모델모드를 eval로 변경하기! -> 평가모드 / 모델의 랜덤적인 요소를 뜻한다.\n",
        "#   # 결론. torch.no_grad()와  eval()은 다른 의미라 두가지를 꼭 같이 써야한다.\n",
        "    \n",
        "#     for batch in dataloader:\n",
        "#         pred = model(batch[\"x\"].to(device))\n",
        "#         loss = loss_fn(pred,batch[\"y\"].to(device))\n",
        "\n",
        "#         epoch_loss += loss.item()\n",
        "\n",
        "#     epoch_loss /= len(tr_dl)\n",
        "#     return epoch_loss"
      ],
      "metadata": {
        "id": "onqpOE3coNCb"
      },
      "execution_count": null,
      "outputs": []
    },
    {
      "cell_type": "code",
      "source": [
        "# valid_dt = ChurnDataset(x_valid,y_valid)\n",
        "# valid_dl = torch.utils.data.DataLoader(valid_dt,batch_size=batch_size,shuffle=False)"
      ],
      "metadata": {
        "id": "LS8KzhzDoM_z"
      },
      "execution_count": null,
      "outputs": []
    },
    {
      "cell_type": "code",
      "source": [
        "# test_loop(valid_dl,model,loss_fn,device) # 평가에 대한 손실점수"
      ],
      "metadata": {
        "id": "Ic7q6LbapRzw"
      },
      "execution_count": null,
      "outputs": []
    },
    {
      "cell_type": "code",
      "source": [],
      "metadata": {
        "id": "ZvPDfP-ipRxT"
      },
      "execution_count": null,
      "outputs": []
    },
    {
      "cell_type": "code",
      "source": [
        "@torch.no_grad() \n",
        "def test_loop(dataloader,model,loss_fn,device): \n",
        "    epoch_loss = 0\n",
        "    model.eval() \n",
        "    \n",
        "    pred_list=[]\n",
        "    sig = torch.nn.Sigmoid()\n",
        "\n",
        "\n",
        "    for batch in dataloader:\n",
        "        pred = model(batch[\"x\"].to(device))\n",
        "\n",
        "        if batch.get(\"y\") is not None:  # y값이 있을 경우만 loss 계산\n",
        "            loss = loss_fn(pred,batch[\"y\"].to(device))\n",
        "            epoch_loss += loss.item()\n",
        "\n",
        "        pred = sig(pred)    # 0 ~ 1 확률값으로 변경\n",
        "        pred = pred.to(\"cpu\").numpy() # cpu로 이동후 시그모이드 함수로 계산한 예측값을 넘파이로 변환\n",
        "        pred_list.append(pred)\n",
        "\n",
        "    epoch_loss /= len(tr_dl)\n",
        "    pred = np.concatenate(pred_list)\n",
        "    \n",
        "    return epoch_loss, pred"
      ],
      "metadata": {
        "id": "uf2IIgDPrIzi"
      },
      "execution_count": null,
      "outputs": []
    },
    {
      "cell_type": "code",
      "source": [
        "# test_dt = ChurnDataset(x_test)\n",
        "# test_dl = torch.utils.data.DataLoader(test_dt,batch_size=batch_size,shuffle=False)\n",
        "\n",
        "# _,pred = test_loop(valid_dl,model,loss_fn,device)\n",
        "# pred"
      ],
      "metadata": {
        "id": "yCd_9IiWrIxB"
      },
      "execution_count": null,
      "outputs": []
    },
    {
      "cell_type": "code",
      "source": [
        "# from sklearn.metrics import roc_auc_score\n",
        "# roc_auc_score(y_valid,pred)"
      ],
      "metadata": {
        "id": "voJxMtwrrIsL"
      },
      "execution_count": null,
      "outputs": []
    },
    {
      "cell_type": "code",
      "source": [
        "from sklearn.model_selection import KFold\n",
        "cv = KFold(n_splits=5, shuffle=True, random_state=SEED)"
      ],
      "metadata": {
        "id": "FV_mlm4HrIpy"
      },
      "execution_count": null,
      "outputs": []
    },
    {
      "cell_type": "code",
      "source": [
        "loss_fn = torch.nn.BCEWithLogitsLoss()\n",
        "epoch = 80\n",
        "batch_size = 32\n",
        "num_features = train.shape[1]"
      ],
      "metadata": {
        "id": "-NRecNoWtOJ5"
      },
      "execution_count": null,
      "outputs": []
    },
    {
      "cell_type": "code",
      "source": [
        "is_holdout = False\n",
        "for i,(tri,val) in enumerate(cv.split(train)): # 5개 빌드로 나눔\n",
        "    # 학습데이터\n",
        "    x_train = train[tri]\n",
        "    y_train = target[tri]\n",
        "\n",
        "    # 검증데이터\n",
        "    x_valid = train[val]\n",
        "    y_valid = target[val]\n",
        "\n",
        "    model = Net(num_features).to(device)\n",
        "    optimizer = torch.optim.Adam(model.parameters())\n",
        "\n",
        "    tr_dt = ChurnDataset(x_train,y_train)\n",
        "    valid_dt = ChurnDataset(x_valid,y_valid)\n",
        "    \n",
        "    tr_dl = torch.utils.data.DataLoader(tr_dt,batch_size=batch_size, shuffle=True) # 학습데이터\n",
        "    valid_dl = torch.utils.data.DataLoader(valid_dt,batch_size=batch_size, shuffle=False) # 검증데이터\n",
        "\n",
        "\n",
        "    best_score = 0\n",
        "    patience = 0\n",
        "\n",
        "    for e in range(epoch):\n",
        "        train_loss = train_loop(tr_dl, model, loss_fn, optimizer, device)\n",
        "        valid_loss,pred = test_loop(valid_dl, model, loss_fn, device)\n",
        "\n",
        "        score = roc_auc_score(y_valid,pred)\n",
        "        patience += 1\n",
        "        if best_score < score : # 작으면\n",
        "            patience = 0 \n",
        "            best_score = score # 갱신\n",
        "            torch.save(model.state_dict(),f\"model_{i}.pth\") # 저장\n",
        "\n",
        "        if patience == 5:\n",
        "            break\n",
        "    print(f\"{i} 번째 폴드 AUC: {best_score}\")\n",
        "\n",
        "    if is_holdout:\n",
        "        break"
      ],
      "metadata": {
        "colab": {
          "base_uri": "https://localhost:8080/"
        },
        "id": "6SOCC2bvrInZ",
        "outputId": "ef08dc78-9500-4dc6-b830-ffb2a8e73806"
      },
      "execution_count": null,
      "outputs": [
        {
          "output_type": "stream",
          "name": "stdout",
          "text": [
            "0 번째 폴드 AUC: 0.8413456328565236\n",
            "1 번째 폴드 AUC: 0.8387392391002498\n",
            "2 번째 폴드 AUC: 0.8496151226000194\n",
            "3 번째 폴드 AUC: 0.853510108562016\n",
            "4 번째 폴드 AUC: 0.8215268051888418\n"
          ]
        }
      ]
    },
    {
      "cell_type": "code",
      "source": [
        "x_test.shape # 정답이 없는 테스트셋이라 가정"
      ],
      "metadata": {
        "colab": {
          "base_uri": "https://localhost:8080/"
        },
        "id": "InXYMFNspRuj",
        "outputId": "aa1f54a4-1db7-4868-ceca-a12545acd032"
      },
      "execution_count": null,
      "outputs": [
        {
          "output_type": "execute_result",
          "data": {
            "text/plain": [
              "(1761, 24)"
            ]
          },
          "metadata": {},
          "execution_count": 38
        }
      ]
    },
    {
      "cell_type": "code",
      "source": [
        "test_dt = ChurnDataset(x_test)\n",
        "test_dl = torch.utils.data.DataLoader(test_dt,batch_size=batch_size,shuffle=False)"
      ],
      "metadata": {
        "id": "UloljnEKwfc7"
      },
      "execution_count": null,
      "outputs": []
    },
    {
      "cell_type": "code",
      "source": [
        "pred_list=[]\n",
        "for i in range(5):\n",
        "    model = Net(num_features).to(device)\n",
        "    state_dict = torch.load(f\"model_{i}.pth\") # 가중치\n",
        "    model.load_state_dict(state_dict)\n",
        "    _, pred = test_loop(test_dl,model,loss_fn,device)\n",
        "    pred_list.append(pred)\n",
        "pred = np.mean(pred_list, axis=0)\n",
        "pred"
      ],
      "metadata": {
        "colab": {
          "base_uri": "https://localhost:8080/"
        },
        "id": "6lz00tQdwfbQ",
        "outputId": "626696a5-fa88-4cbc-8976-3ae1025be95a"
      },
      "execution_count": null,
      "outputs": [
        {
          "output_type": "execute_result",
          "data": {
            "text/plain": [
              "array([[0.6514388 ],\n",
              "       [0.10194989],\n",
              "       [0.01590842],\n",
              "       ...,\n",
              "       [0.11063508],\n",
              "       [0.6916496 ],\n",
              "       [0.22220583]], dtype=float32)"
            ]
          },
          "metadata": {},
          "execution_count": 40
        }
      ]
    },
    {
      "cell_type": "code",
      "source": [],
      "metadata": {
        "id": "ebrGz7dOwgiX"
      },
      "execution_count": null,
      "outputs": []
    },
    {
      "cell_type": "code",
      "source": [
        "#pred = 0 # 테스트 데이터에 대한 예측 확률, AUC 평가"
      ],
      "metadata": {
        "id": "F3aRf6FbjVt0"
      },
      "execution_count": null,
      "outputs": []
    },
    {
      "cell_type": "markdown",
      "source": [
        "# 제출파일에 예측확률 넣기"
      ],
      "metadata": {
        "id": "bzMkhnNltr7k"
      }
    },
    {
      "cell_type": "code",
      "source": [
        "submit = pd.read_csv(f\"{DATA_PATH}submit_churn.csv\")\n",
        "submit[\"target\"] = pred\n",
        "submit"
      ],
      "metadata": {
        "id": "TsFuO4q8ridU",
        "colab": {
          "base_uri": "https://localhost:8080/",
          "height": 424
        },
        "outputId": "5c0256b6-9480-469f-aa27-31b129a8d728"
      },
      "execution_count": null,
      "outputs": [
        {
          "output_type": "execute_result",
          "data": {
            "text/plain": [
              "      customerID    target\n",
              "0     1024-GUALD  0.651439\n",
              "1     0484-JPBRU  0.101950\n",
              "2     3620-EHIMZ  0.015908\n",
              "3     6910-HADCM  0.663701\n",
              "4     8587-XYZSF  0.020692\n",
              "...          ...       ...\n",
              "1756  4581-SSPWD  0.734485\n",
              "1757  4813-HQMGZ  0.696479\n",
              "1758  4903-CNOZC  0.110635\n",
              "1759  0822-GAVAP  0.691650\n",
              "1760  3055-OYMSE  0.222206\n",
              "\n",
              "[1761 rows x 2 columns]"
            ],
            "text/html": [
              "\n",
              "  <div id=\"df-2dc89faf-1e18-4753-88ee-556c65f493d1\">\n",
              "    <div class=\"colab-df-container\">\n",
              "      <div>\n",
              "<style scoped>\n",
              "    .dataframe tbody tr th:only-of-type {\n",
              "        vertical-align: middle;\n",
              "    }\n",
              "\n",
              "    .dataframe tbody tr th {\n",
              "        vertical-align: top;\n",
              "    }\n",
              "\n",
              "    .dataframe thead th {\n",
              "        text-align: right;\n",
              "    }\n",
              "</style>\n",
              "<table border=\"1\" class=\"dataframe\">\n",
              "  <thead>\n",
              "    <tr style=\"text-align: right;\">\n",
              "      <th></th>\n",
              "      <th>customerID</th>\n",
              "      <th>target</th>\n",
              "    </tr>\n",
              "  </thead>\n",
              "  <tbody>\n",
              "    <tr>\n",
              "      <th>0</th>\n",
              "      <td>1024-GUALD</td>\n",
              "      <td>0.651439</td>\n",
              "    </tr>\n",
              "    <tr>\n",
              "      <th>1</th>\n",
              "      <td>0484-JPBRU</td>\n",
              "      <td>0.101950</td>\n",
              "    </tr>\n",
              "    <tr>\n",
              "      <th>2</th>\n",
              "      <td>3620-EHIMZ</td>\n",
              "      <td>0.015908</td>\n",
              "    </tr>\n",
              "    <tr>\n",
              "      <th>3</th>\n",
              "      <td>6910-HADCM</td>\n",
              "      <td>0.663701</td>\n",
              "    </tr>\n",
              "    <tr>\n",
              "      <th>4</th>\n",
              "      <td>8587-XYZSF</td>\n",
              "      <td>0.020692</td>\n",
              "    </tr>\n",
              "    <tr>\n",
              "      <th>...</th>\n",
              "      <td>...</td>\n",
              "      <td>...</td>\n",
              "    </tr>\n",
              "    <tr>\n",
              "      <th>1756</th>\n",
              "      <td>4581-SSPWD</td>\n",
              "      <td>0.734485</td>\n",
              "    </tr>\n",
              "    <tr>\n",
              "      <th>1757</th>\n",
              "      <td>4813-HQMGZ</td>\n",
              "      <td>0.696479</td>\n",
              "    </tr>\n",
              "    <tr>\n",
              "      <th>1758</th>\n",
              "      <td>4903-CNOZC</td>\n",
              "      <td>0.110635</td>\n",
              "    </tr>\n",
              "    <tr>\n",
              "      <th>1759</th>\n",
              "      <td>0822-GAVAP</td>\n",
              "      <td>0.691650</td>\n",
              "    </tr>\n",
              "    <tr>\n",
              "      <th>1760</th>\n",
              "      <td>3055-OYMSE</td>\n",
              "      <td>0.222206</td>\n",
              "    </tr>\n",
              "  </tbody>\n",
              "</table>\n",
              "<p>1761 rows × 2 columns</p>\n",
              "</div>\n",
              "      <button class=\"colab-df-convert\" onclick=\"convertToInteractive('df-2dc89faf-1e18-4753-88ee-556c65f493d1')\"\n",
              "              title=\"Convert this dataframe to an interactive table.\"\n",
              "              style=\"display:none;\">\n",
              "        \n",
              "  <svg xmlns=\"http://www.w3.org/2000/svg\" height=\"24px\"viewBox=\"0 0 24 24\"\n",
              "       width=\"24px\">\n",
              "    <path d=\"M0 0h24v24H0V0z\" fill=\"none\"/>\n",
              "    <path d=\"M18.56 5.44l.94 2.06.94-2.06 2.06-.94-2.06-.94-.94-2.06-.94 2.06-2.06.94zm-11 1L8.5 8.5l.94-2.06 2.06-.94-2.06-.94L8.5 2.5l-.94 2.06-2.06.94zm10 10l.94 2.06.94-2.06 2.06-.94-2.06-.94-.94-2.06-.94 2.06-2.06.94z\"/><path d=\"M17.41 7.96l-1.37-1.37c-.4-.4-.92-.59-1.43-.59-.52 0-1.04.2-1.43.59L10.3 9.45l-7.72 7.72c-.78.78-.78 2.05 0 2.83L4 21.41c.39.39.9.59 1.41.59.51 0 1.02-.2 1.41-.59l7.78-7.78 2.81-2.81c.8-.78.8-2.07 0-2.86zM5.41 20L4 18.59l7.72-7.72 1.47 1.35L5.41 20z\"/>\n",
              "  </svg>\n",
              "      </button>\n",
              "      \n",
              "  <style>\n",
              "    .colab-df-container {\n",
              "      display:flex;\n",
              "      flex-wrap:wrap;\n",
              "      gap: 12px;\n",
              "    }\n",
              "\n",
              "    .colab-df-convert {\n",
              "      background-color: #E8F0FE;\n",
              "      border: none;\n",
              "      border-radius: 50%;\n",
              "      cursor: pointer;\n",
              "      display: none;\n",
              "      fill: #1967D2;\n",
              "      height: 32px;\n",
              "      padding: 0 0 0 0;\n",
              "      width: 32px;\n",
              "    }\n",
              "\n",
              "    .colab-df-convert:hover {\n",
              "      background-color: #E2EBFA;\n",
              "      box-shadow: 0px 1px 2px rgba(60, 64, 67, 0.3), 0px 1px 3px 1px rgba(60, 64, 67, 0.15);\n",
              "      fill: #174EA6;\n",
              "    }\n",
              "\n",
              "    [theme=dark] .colab-df-convert {\n",
              "      background-color: #3B4455;\n",
              "      fill: #D2E3FC;\n",
              "    }\n",
              "\n",
              "    [theme=dark] .colab-df-convert:hover {\n",
              "      background-color: #434B5C;\n",
              "      box-shadow: 0px 1px 3px 1px rgba(0, 0, 0, 0.15);\n",
              "      filter: drop-shadow(0px 1px 2px rgba(0, 0, 0, 0.3));\n",
              "      fill: #FFFFFF;\n",
              "    }\n",
              "  </style>\n",
              "\n",
              "      <script>\n",
              "        const buttonEl =\n",
              "          document.querySelector('#df-2dc89faf-1e18-4753-88ee-556c65f493d1 button.colab-df-convert');\n",
              "        buttonEl.style.display =\n",
              "          google.colab.kernel.accessAllowed ? 'block' : 'none';\n",
              "\n",
              "        async function convertToInteractive(key) {\n",
              "          const element = document.querySelector('#df-2dc89faf-1e18-4753-88ee-556c65f493d1');\n",
              "          const dataTable =\n",
              "            await google.colab.kernel.invokeFunction('convertToInteractive',\n",
              "                                                     [key], {});\n",
              "          if (!dataTable) return;\n",
              "\n",
              "          const docLinkHtml = 'Like what you see? Visit the ' +\n",
              "            '<a target=\"_blank\" href=https://colab.research.google.com/notebooks/data_table.ipynb>data table notebook</a>'\n",
              "            + ' to learn more about interactive tables.';\n",
              "          element.innerHTML = '';\n",
              "          dataTable['output_type'] = 'display_data';\n",
              "          await google.colab.output.renderOutput(dataTable, element);\n",
              "          const docLink = document.createElement('div');\n",
              "          docLink.innerHTML = docLinkHtml;\n",
              "          element.appendChild(docLink);\n",
              "        }\n",
              "      </script>\n",
              "    </div>\n",
              "  </div>\n",
              "  "
            ]
          },
          "metadata": {},
          "execution_count": 42
        }
      ]
    },
    {
      "cell_type": "markdown",
      "source": [
        "# 제출파일 구글드라이브에 저장"
      ],
      "metadata": {
        "id": "8OGHVmJ1txRj"
      }
    },
    {
      "cell_type": "code",
      "source": [
        "submit.to_csv(f\"{DATA_PATH}손성우_submit.csv\",index=False)"
      ],
      "metadata": {
        "id": "ab2IqvkiriaU"
      },
      "execution_count": null,
      "outputs": []
    },
    {
      "cell_type": "markdown",
      "source": [
        "# 0.8563 - dropout(0.2), epoch:100\n",
        "# 0.85988 - ELU( ,16)->(16,8)->(8,4)->(4,1) epoch:1000 "
      ],
      "metadata": {
        "id": "8LyOYFT-Hsw6"
      }
    },
    {
      "cell_type": "code",
      "source": [
        "# private_score = 0.86000"
      ],
      "metadata": {
        "id": "ZZtI9dykt21j"
      },
      "execution_count": null,
      "outputs": []
    }
  ]
}